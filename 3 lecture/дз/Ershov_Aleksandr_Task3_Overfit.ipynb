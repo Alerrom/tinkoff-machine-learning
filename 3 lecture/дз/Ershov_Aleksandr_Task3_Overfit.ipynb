{
  "nbformat": 4,
  "nbformat_minor": 0,
  "metadata": {
    "kernelspec": {
      "display_name": "Python 3",
      "language": "python",
      "name": "python3"
    },
    "language_info": {
      "codemirror_mode": {
        "name": "ipython",
        "version": 3
      },
      "file_extension": ".py",
      "mimetype": "text/x-python",
      "name": "python",
      "nbconvert_exporter": "python",
      "pygments_lexer": "ipython3",
      "version": "3.7.4"
    },
    "colab": {
      "name": "Ershov_Aleksandr_Task3_Overfit.ipynb",
      "provenance": [],
      "collapsed_sections": [
        "toYy5okyfcXT"
      ],
      "toc_visible": true
    }
  },
  "cells": [
    {
      "cell_type": "markdown",
      "metadata": {
        "id": "hh08zU-NfcXB"
      },
      "source": [
        "# ML T-Generation Занятие 3: Линейная регрессия.\n",
        "# Проблема переобучения. Кросс-валидация и регуляризация.\n",
        "\n",
        "Авторы: Гаркавый Андрей (andrewgarkavyy@gmail.com), Кирилл Васильев (kirivasile@yandex.ru)\n",
        "\n",
        "\n",
        "## 0. План\n",
        "\n",
        "1. Приближение одномерной функции многочленом\n",
        "\n",
        "2. Переобучение\n",
        "\n",
        "3. Выводы\n",
        "\n",
        "4. Разделение на тренировочную и тестовую части\n",
        "\n",
        "5. Кросс-валидация\n",
        "\n",
        "6. Линейная регрессия\n",
        "\n",
        "7. Как подбираются коэффициенты\n",
        "\n",
        "8. Регуляризация\n",
        "\n",
        "## 1. Приближение одномерной функции многочленом\n",
        "\n",
        "Начнем с простой задачи.\n",
        "\n",
        "\n",
        "1) Есть функция $f(x)$, но мы ее не знаем.\n",
        "\n",
        "2) Зато мы знаем ее значения в $m$ точках (они называются тренировочным множеством):\n",
        "$$f(x_1) = y_1$$\n",
        "$$\\cdots$$\n",
        "$$f(x_m) = y_m$$\n",
        "3) Нужно научиться приблизительно восстанавливать эту функцию."
      ]
    },
    {
      "cell_type": "markdown",
      "metadata": {
        "id": "boc7O_I4fcXE"
      },
      "source": [
        "Самый простой способ - научиться приближать её многочленом, а именно давайте подберем такие коэффициенты $a_0, a_1, \\ldots, a_n$, чтобы многочлен $P(x) = a_0 + a_1x + a_2x^2 + \\ldots + a_nx^n$ был как можно ближе к $f(x)$."
      ]
    },
    {
      "cell_type": "markdown",
      "metadata": {
        "id": "2dKxLXM4fcXF"
      },
      "source": [
        "Но что такое \"приблизить\"? Мы знаем лишь значения в $m$ точках, так что в лучшем случае она должна проходить через все эти точки (хотя скоро мы увидим, что это не так)."
      ]
    },
    {
      "cell_type": "markdown",
      "metadata": {
        "id": "HL3UhEZCfcXF"
      },
      "source": [
        "В этом случае обычно пытаются минимизировать сумму квадратов ошибок во всех точках, то есть **функцию потерь** $$L(P) = \\sum_i (P(x_i) - f(x_i))^2 $$\n",
        "\n",
        "Эту величину называют **MSE** - Mean Squared Error (средняя квадратичная ошибка)."
      ]
    },
    {
      "cell_type": "markdown",
      "metadata": {
        "id": "lqHWUGzZfcXF"
      },
      "source": [
        "Тут может возникнуть вопрос, почему мы берем именно сумму квадратов, а не, например, сумму модулей. Однозначного ответа на этот вопрос нет, наиболее удачный ответ, пожалуй такой: у суммы квадратов есть много удобных свойств, например это выпуклая, дифференцируемая функция. Тем не менее иногда другой выбор может быть оправданным. Если вам интересно чуть больше понять про смысл этих условий, можете решить такие задачи:\n",
        "\n",
        "**(0.5 балла) Доп. Задача 1.** Найдите число m такое, что для заданных $x_i$ сумма $\\sum|m - x_i|$ минимальна\n",
        "\n",
        "<Место для решения>\n",
        "\n",
        "**(0.5 балла) Доп. Задача 2.** Найдите число m такое, что для заданных $x_i$ сумма $\\sum(m - x_i)^2$ минимальна\n",
        "\n",
        "\n",
        "<место для решения>\n",
        "\n",
        "Сейчас можно их и пропустить.\n"
      ]
    },
    {
      "cell_type": "code",
      "metadata": {
        "colab": {
          "base_uri": "https://localhost:8080/"
        },
        "id": "KuTQCmlwf4Qq",
        "outputId": "ba9a7f05-49f5-45ec-f70b-9c076c592697"
      },
      "source": [
        "import numpy as np\r\n",
        "n = 1000\r\n",
        "\r\n",
        "a = np.random.randint(-10,11,n)\r\n",
        "\r\n",
        "print(np.sum(np.abs(a.mean() - a)) / len(a))\r\n",
        "\r\n",
        "print()\r\n",
        "\r\n",
        "print(np.sum(np.power(a.mean() - a, 2)) / len(a))"
      ],
      "execution_count": null,
      "outputs": [
        {
          "output_type": "stream",
          "text": [
            "5.297264\n",
            "\n",
            "36.977596000000005\n"
          ],
          "name": "stdout"
        }
      ]
    },
    {
      "cell_type": "markdown",
      "metadata": {
        "id": "fMTVp-Edtn3d"
      },
      "source": [
        "Эмперическим путем установил, что достаточно взять в качестве m среднее арифмитическое набора $x_i$. Докажем это математически:\r\n",
        "\r\n",
        "**(Доп. Задача 1.** \r\n",
        "\r\n",
        "$\\sum_{i=1}^{k}|m - x_i| \\geq |\\sum_{i=1}^{k}(m-x_i)|=|km-\\sum_{i=1}^{k}x_i|$\r\n",
        "\r\n",
        "правая чать равна 0 (минимальному значению левай части) при \r\n",
        "\r\n",
        "$m=\\frac{\\sum_{i=1}^{k}x_i}{k}$\r\n",
        "\r\n",
        "**Доп. Задача 2.** Распишем выражение \r\n",
        "\r\n",
        "$\\sum_{i=1}^{k}(m - x_i)^2 = \\sum_{i=1}^{k}(m^2-2 x_i m + {x_i}^2) = km^2-2m\\sum_{i=1}^{k}x_i+\\sum_{i=1}^{k}{x_i}^2$\r\n",
        "\r\n",
        "Если рассотреть это выражение как функцию второй степени относительно $m$, то она достигнет свой минимум в вершине, значит \r\n",
        "$m=\\frac{\\sum_{i=1}^{k}x_i}{k}$"
      ]
    },
    {
      "cell_type": "markdown",
      "metadata": {
        "id": "Nxs9dHsffcXG"
      },
      "source": [
        "В питоне есть пакет scipy, в котором как раз есть решение этой задаче - подбор такого многочлена для заданных точек, что среднеквадратичная ошибка минимальна.\n",
        "\n",
        "Чтобы им пользоваться, вам нужно ввести в консоли Анаконды `conda install scipy`. Или, если вы настроили pip `pip install scipy`"
      ]
    },
    {
      "cell_type": "code",
      "metadata": {
        "id": "o-F-csPYfcXG"
      },
      "source": [
        "import numpy as np\n",
        "import pandas as pd\n",
        "%matplotlib inline\n",
        "from matplotlib import pyplot as plt"
      ],
      "execution_count": null,
      "outputs": []
    },
    {
      "cell_type": "markdown",
      "metadata": {
        "id": "5eXnry_hfcXG"
      },
      "source": [
        "Сначала просто нарисуем какой-нибудь многочлен, например $f(x) = 3x^3 - 2x^2 + x$ на отрезке $[-1, 1]$:"
      ]
    },
    {
      "cell_type": "code",
      "metadata": {
        "id": "bwU4ZD9ZfcXG"
      },
      "source": [
        "def f(x):\n",
        "    return 3 * x ** 3 - 2 * x**2 + x"
      ],
      "execution_count": null,
      "outputs": []
    },
    {
      "cell_type": "code",
      "metadata": {
        "colab": {
          "base_uri": "https://localhost:8080/",
          "height": 282
        },
        "id": "MHIwVg_IfcXH",
        "outputId": "05e276c9-0743-4d01-cb5b-2462eadcac91"
      },
      "source": [
        "x100 = np.linspace(-1, 1, 100)\n",
        "plt.plot(x100, f(x100))"
      ],
      "execution_count": null,
      "outputs": [
        {
          "output_type": "execute_result",
          "data": {
            "text/plain": [
              "[<matplotlib.lines.Line2D at 0x7fd8d458c610>]"
            ]
          },
          "metadata": {
            "tags": []
          },
          "execution_count": 86
        },
        {
          "output_type": "display_data",
          "data": {
            "image/png": "[encoded data removed]",
            "text/plain": [
              "<Figure size 432x288 with 1 Axes>"
            ]
          },
          "metadata": {
            "tags": [],
            "needs_background": "light"
          }
        }
      ]
    },
    {
      "cell_type": "markdown",
      "metadata": {
        "id": "KGxcZL5MfcXH"
      },
      "source": [
        "Теперь зададим набор точек (10 штук) и посмотрим что будет, если подобрать по ним коэффициенты нашего многочлена:"
      ]
    },
    {
      "cell_type": "code",
      "metadata": {
        "colab": {
          "base_uri": "https://localhost:8080/"
        },
        "id": "H4cXZ5MSfcXH",
        "outputId": "07da2697-f1a9-4f84-860f-40be5a8e7043"
      },
      "source": [
        "x = np.linspace(-1, 1, 10)  # 10 точек на отрезке [-1, 1]\n",
        "y = f(x)\n",
        "coefs = np.polyfit(x, y, deg = 2)\n",
        "coefs"
      ],
      "execution_count": null,
      "outputs": [
        {
          "output_type": "execute_result",
          "data": {
            "text/plain": [
              "array([-2.00000000e+00,  3.17037037e+00, -9.55004142e-16])"
            ]
          },
          "metadata": {
            "tags": []
          },
          "execution_count": 87
        }
      ]
    },
    {
      "cell_type": "markdown",
      "metadata": {
        "id": "rjW_NffdfcXI"
      },
      "source": [
        "(это означает многочлен $-2x^2 + 3.17037 x$)"
      ]
    },
    {
      "cell_type": "markdown",
      "metadata": {
        "id": "TWdTsdOwfcXJ"
      },
      "source": [
        "scipy позволяет легко работать с многочленами, заданными их коэффициентами. Мы можем создать из них объект poly1d, который можно будет просто вызывать для получения нужных значений:"
      ]
    },
    {
      "cell_type": "code",
      "metadata": {
        "colab": {
          "base_uri": "https://localhost:8080/"
        },
        "id": "Al8oJSNxfcXJ",
        "outputId": "e9a8411a-9ed1-4d7f-d988-ea50356d7a39"
      },
      "source": [
        "poly = np.poly1d(coefs)\n",
        "poly(0), poly(1), poly(2)"
      ],
      "execution_count": null,
      "outputs": [
        {
          "output_type": "execute_result",
          "data": {
            "text/plain": [
              "(-9.550041418833999e-16, 1.1703703703703716, -1.6592592592592554)"
            ]
          },
          "metadata": {
            "tags": []
          },
          "execution_count": 88
        }
      ]
    },
    {
      "cell_type": "code",
      "metadata": {
        "colab": {
          "base_uri": "https://localhost:8080/",
          "height": 282
        },
        "id": "5pdQapXyfcXK",
        "outputId": "4dd958f4-c829-4a9e-d699-9d068979b16a"
      },
      "source": [
        "plt.scatter(x, y)\n",
        "plt.plot(x100, f(x100))\n",
        "plt.plot(x100, poly(x100))"
      ],
      "execution_count": null,
      "outputs": [
        {
          "output_type": "execute_result",
          "data": {
            "text/plain": [
              "[<matplotlib.lines.Line2D at 0x7fd8d450d7d0>]"
            ]
          },
          "metadata": {
            "tags": []
          },
          "execution_count": 89
        },
        {
          "output_type": "display_data",
          "data": {
            "image/png": "[encoded data removed]",
            "text/plain": [
              "<Figure size 432x288 with 1 Axes>"
            ]
          },
          "metadata": {
            "tags": [],
            "needs_background": "light"
          }
        }
      ]
    },
    {
      "cell_type": "markdown",
      "metadata": {
        "id": "3TYDCBO3fcXK"
      },
      "source": [
        "Довольно ожидаемо, наша функция (оранжевая) не очень похожа на то, что мы искали (синяя). Наверное зря мы пытаемся приблизить кубическую функцию многочленом второй степени. Давайте попробуем 3-ю степень."
      ]
    },
    {
      "cell_type": "code",
      "metadata": {
        "colab": {
          "base_uri": "https://localhost:8080/",
          "height": 282
        },
        "id": "W5vNoBg-fcXK",
        "outputId": "b2e3dcd8-98f5-4e31-f6fc-e1b687540ac6"
      },
      "source": [
        "coefs = np.polyfit(x, y, deg = 3)\n",
        "poly = np.poly1d(coefs)\n",
        "plt.scatter(x, y)\n",
        "plt.plot(x100, f(x100))\n",
        "plt.plot(x100, poly(x100))"
      ],
      "execution_count": null,
      "outputs": [
        {
          "output_type": "execute_result",
          "data": {
            "text/plain": [
              "[<matplotlib.lines.Line2D at 0x7fd8d4491890>]"
            ]
          },
          "metadata": {
            "tags": []
          },
          "execution_count": 90
        },
        {
          "output_type": "display_data",
          "data": {
            "image/png": "[encoded data removed]",
            "text/plain": [
              "<Figure size 432x288 with 1 Axes>"
            ]
          },
          "metadata": {
            "tags": [],
            "needs_background": "light"
          }
        }
      ]
    },
    {
      "cell_type": "markdown",
      "metadata": {
        "id": "zTTHO4HBfcXL"
      },
      "source": [
        "На этот раз мы в точности угадали функцию. Можете проверить, что если увеличивать степень многочлена, результат не меняется: более высокие степени тут просто не нужны.\n",
        "\n",
        "Но мы сейчас жили в идеальном мире. На практике чаще всего известные нам значения не совсем точны. Давайте добавим к значениям нашей функции немного шума:"
      ]
    },
    {
      "cell_type": "code",
      "metadata": {
        "id": "24duVsBLfcXL"
      },
      "source": [
        "x = np.linspace(-1, 1, 10)\n",
        "y = f(x) + np.random.normal(0, 0.55, 10)  # случайный шум"
      ],
      "execution_count": null,
      "outputs": []
    },
    {
      "cell_type": "code",
      "metadata": {
        "colab": {
          "base_uri": "https://localhost:8080/",
          "height": 282
        },
        "id": "Ca9NqFpGfcXL",
        "outputId": "c0fe7759-6531-44b7-8d46-63140772580e"
      },
      "source": [
        "coefs = np.polyfit(x, y, deg = 3)\n",
        "poly = np.poly1d(coefs)\n",
        "plt.scatter(x, y)\n",
        "plt.plot(x100, f(x100))\n",
        "plt.plot(x100, poly(x100))"
      ],
      "execution_count": null,
      "outputs": [
        {
          "output_type": "execute_result",
          "data": {
            "text/plain": [
              "[<matplotlib.lines.Line2D at 0x7fd8d44196d0>]"
            ]
          },
          "metadata": {
            "tags": []
          },
          "execution_count": 92
        },
        {
          "output_type": "display_data",
          "data": {
            "image/png": "[encoded data removed]",
            "text/plain": [
              "<Figure size 432x288 with 1 Axes>"
            ]
          },
          "metadata": {
            "tags": [],
            "needs_background": "light"
          }
        }
      ]
    },
    {
      "cell_type": "markdown",
      "metadata": {
        "id": "Il9d8PsdfcXL"
      },
      "source": [
        "Теперь мы почти попали. Перед тем как читать дальше, подумайте над заданием.\n",
        "\n",
        "**(1 балл) Обязательное задание 1:** попробуйте увеличить степень полинома. Что произойдет с графиком нашего приближения? Посмотрите  как обе функции себя ведут вне интервала x. Попробуйте сформулировать проблему, с которой мы столкнулись."
      ]
    },
    {
      "cell_type": "code",
      "metadata": {
        "colab": {
          "base_uri": "https://localhost:8080/",
          "height": 315
        },
        "id": "en6VEe_ZfcXL",
        "outputId": "17cc8003-1356-44ae-e46d-e113c2f3134f"
      },
      "source": [
        "# Место для решения\r\n",
        "coefs = np.polyfit(x, y, deg = 10)\r\n",
        "poly = np.poly1d(coefs)\r\n",
        "plt.scatter(x, y)\r\n",
        "plt.plot(x100, f(x100))\r\n",
        "plt.plot(x100, poly(x100))\r\n"
      ],
      "execution_count": null,
      "outputs": [
        {
          "output_type": "stream",
          "text": [
            "/usr/local/lib/python3.7/dist-packages/IPython/core/interactiveshell.py:2882: RankWarning: Polyfit may be poorly conditioned\n",
            "  exec(code_obj, self.user_global_ns, self.user_ns)\n"
          ],
          "name": "stderr"
        },
        {
          "output_type": "execute_result",
          "data": {
            "text/plain": [
              "[<matplotlib.lines.Line2D at 0x7fd8d438e7d0>]"
            ]
          },
          "metadata": {
            "tags": []
          },
          "execution_count": 93
        },
        {
          "output_type": "display_data",
          "data": {
            "image/png": "[encoded data removed]",
            "text/plain": [
              "<Figure size 432x288 with 1 Axes>"
            ]
          },
          "metadata": {
            "tags": [],
            "needs_background": "light"
          }
        }
      ]
    },
    {
      "cell_type": "code",
      "metadata": {
        "colab": {
          "base_uri": "https://localhost:8080/",
          "height": 282
        },
        "id": "robm1TMcu3ub",
        "outputId": "02782906-3b1e-471a-c8ca-ff316f7f82e5"
      },
      "source": [
        "x100 = np.linspace(-1.5, 1.5, 200)\r\n",
        "\r\n",
        "plt.plot(x100, f(x100))\r\n",
        "plt.plot(x100, poly(x100))"
      ],
      "execution_count": null,
      "outputs": [
        {
          "output_type": "execute_result",
          "data": {
            "text/plain": [
              "[<matplotlib.lines.Line2D at 0x7fd8d4305110>]"
            ]
          },
          "metadata": {
            "tags": []
          },
          "execution_count": 94
        },
        {
          "output_type": "display_data",
          "data": {
            "image/png": "[encoded data removed]",
            "text/plain": [
              "<Figure size 432x288 with 1 Axes>"
            ]
          },
          "metadata": {
            "tags": [],
            "needs_background": "light"
          }
        }
      ]
    },
    {
      "cell_type": "markdown",
      "metadata": {
        "id": "WMmR6SE1kBw5"
      },
      "source": [
        "График полинома проходит через все точки, но вне интервала он ведет себя не так, как нам хочется(очень резко увиличиваются значения на концах и мы бычтро отдаляемся от наших данных, т.е. придется подбирать новую степень полигоня, чтобы все работало). Тем самым мы понимаем, что приближение работает только на заданном промежутке и вне интервала все идет не по плану."
      ]
    },
    {
      "cell_type": "markdown",
      "metadata": {
        "id": "g3tsUlO0fcXM"
      },
      "source": [
        "## 2. Переобучение"
      ]
    },
    {
      "cell_type": "markdown",
      "metadata": {
        "id": "fCJsOYxTfcXM"
      },
      "source": [
        "То, что вы увидели при решении этого задания называется в машинном обучении **переобучением** (overfittig).\n",
        "\n",
        "Если мы используем достаточно сложную модель (то есть модель, у которой много параметров, в нашем случае -- многочлен достаточно высокой степени), то у модели появляется возможность \"выучить\" все точки, которые она видела. Например, если задано $m$ точек, всегда можно подобрать многочлен степени $m-1$, который через них проходит (если вы не знакомы с этим фактом, можете подумать, как его доказать).\n"
      ]
    },
    {
      "cell_type": "markdown",
      "metadata": {
        "id": "zk0tVk19fcXM"
      },
      "source": [
        "\"Честный\" способ проверять качество нашей апроксимации -- **смотреть точность в точках, которые мы не использовали при подборе многочлена**. Это множество часто называют тестовым множеством. Давайте зададим его так:"
      ]
    },
    {
      "cell_type": "code",
      "metadata": {
        "colab": {
          "base_uri": "https://localhost:8080/"
        },
        "id": "h61FOjYqfcXM",
        "outputId": "45c8653c-cfa3-43df-da97-8da9e0b712a3"
      },
      "source": [
        "# возьмем 10 случайных точек от 0 до 1\n",
        "x_test = np.random.random(10) \n",
        "\n",
        "# превратим их в 10 случайных точек от -1 до 1\n",
        "x_test = 2 * x_test - 1\n",
        "x_test"
      ],
      "execution_count": null,
      "outputs": [
        {
          "output_type": "execute_result",
          "data": {
            "text/plain": [
              "array([ 0.39494292,  0.36028154,  0.23722276,  0.50543328, -0.68278979,\n",
              "        0.76174152,  0.74368706, -0.94150543,  0.6516335 , -0.74226027])"
            ]
          },
          "metadata": {
            "tags": []
          },
          "execution_count": 95
        }
      ]
    },
    {
      "cell_type": "markdown",
      "metadata": {
        "id": "XmDzrWWHfcXN"
      },
      "source": [
        "**(1 балл)  Обязательное задание 2:** напишите функцию, которая для данного многочлена считает его качество на тестовом множестве (то есть среднеквадратичное отклонение между значениями функции $f$ и многочлена $P$ на тестовой выборке).\n",
        "\n",
        "Вы все прошлое занятие изучали разные функции, попробуйте сделать MSE как можно более компактной функцией (желательно в одну строчку)."
      ]
    },
    {
      "cell_type": "code",
      "metadata": {
        "id": "1iocxfmsfcXN"
      },
      "source": [
        "# y_real - это np.array c реальными значениями в точках\n",
        "# y_pred - это np.array c предсказанными нами значениями в точках\n",
        "# они одной длины\n",
        "def MSE(y_real, y_pred):\n",
        "  return np.sum((y_real - y_pred) ** 2) / len(y_pred)"
      ],
      "execution_count": null,
      "outputs": []
    },
    {
      "cell_type": "markdown",
      "metadata": {
        "id": "9aXJhUDkfcXN"
      },
      "source": [
        "**(1 балл) Обязательное задание 3:** нарисуйте график зависимости ошибки на тестовом множестве от степени многочлена. При какой степени ошибка минимальна?\n"
      ]
    },
    {
      "cell_type": "code",
      "metadata": {
        "id": "OKJYv0eKfcXN",
        "colab": {
          "base_uri": "https://localhost:8080/",
          "height": 282
        },
        "outputId": "ba10f605-b806-458b-d3f5-eaf4647039ad"
      },
      "source": [
        "# место для решения\r\n",
        "np.random.seed(42)\r\n",
        "\r\n",
        "# возьмем 10 случайных точек от 0 до 1\r\n",
        "x_test = np.random.random(10) \r\n",
        "\r\n",
        "# превратим их в 10 случайных точек от -1 до 1\r\n",
        "x_test = 2 * x_test - 1\r\n",
        "x_test\r\n",
        "\r\n",
        "x100 = np.linspace(-1, 1, 100)\r\n",
        "\r\n",
        "data = []\r\n",
        "\r\n",
        "y_test = f(x_test) + np.random.normal(0, 0.5, 10) \r\n",
        "\r\n",
        "for i in range(0,10):\r\n",
        "  coefs = np.polyfit(x_test,y_test,deg=i)\r\n",
        "  y_pred = np.poly1d(coefs)\r\n",
        "  data.append(MSE(f(x100),y_pred(x100)))\r\n",
        "\r\n",
        "plt.plot(np.arange(6), data[:6])"
      ],
      "execution_count": null,
      "outputs": [
        {
          "output_type": "execute_result",
          "data": {
            "text/plain": [
              "[<matplotlib.lines.Line2D at 0x7fd8d457ecd0>]"
            ]
          },
          "metadata": {
            "tags": []
          },
          "execution_count": 97
        },
        {
          "output_type": "display_data",
          "data": {
            "image/png": "[encoded data removed]",
            "text/plain": [
              "<Figure size 432x288 with 1 Axes>"
            ]
          },
          "metadata": {
            "tags": [],
            "needs_background": "light"
          }
        }
      ]
    },
    {
      "cell_type": "markdown",
      "metadata": {
        "id": "z3zBGBj3FJQs"
      },
      "source": [
        "Эмперическим путем установил, что ошибка минимальна при $deg=3$"
      ]
    },
    {
      "cell_type": "markdown",
      "metadata": {
        "id": "5SkYC2xffcXN"
      },
      "source": [
        "**(1 балл) Доп. задача 5:** как меняется график, если увеличивать количество точек в множестве, на котором мы подбираем многочлен?"
      ]
    },
    {
      "cell_type": "code",
      "metadata": {
        "id": "HbhpW_n_fcXO",
        "colab": {
          "base_uri": "https://localhost:8080/",
          "height": 282
        },
        "outputId": "fd2c2cff-d701-47a5-f8b2-08f2650bf00f"
      },
      "source": [
        "# место для решения\r\n",
        "np.random.seed(42)\r\n",
        "data = []\r\n",
        "N = 500\r\n",
        "for i in range(10,N):\r\n",
        "  x_test = np.random.random(i) \r\n",
        "  x_test = 2 * x_test - 1\r\n",
        "\r\n",
        "  x_real = np.array([3, -2, 1, 0])\r\n",
        "  y_real = np.poly1d(x_real)\r\n",
        "  y_test = f(x_test) + np.random.normal(0, 0.5, i) \r\n",
        "\r\n",
        "  coefs = np.polyfit(x_test,y_test,deg=3)\r\n",
        "  y_pred = np.poly1d(coefs)\r\n",
        "\r\n",
        "  data.append(MSE(y_real(x100),y_pred(x100)))\r\n",
        "\r\n",
        "plt.plot(range(10,N),data)"
      ],
      "execution_count": null,
      "outputs": [
        {
          "output_type": "execute_result",
          "data": {
            "text/plain": [
              "[<matplotlib.lines.Line2D at 0x7fd8d4262250>]"
            ]
          },
          "metadata": {
            "tags": []
          },
          "execution_count": 98
        },
        {
          "output_type": "display_data",
          "data": {
            "image/png": "[encoded data removed]",
            "text/plain": [
              "<Figure size 432x288 with 1 Axes>"
            ]
          },
          "metadata": {
            "tags": [],
            "needs_background": "light"
          }
        }
      ]
    },
    {
      "cell_type": "markdown",
      "metadata": {
        "id": "qfw2W6HGHEIq"
      },
      "source": [
        "Эмперическим путем установил, что при увеличении N, аппроксимация все лучше(MSE все ближе к 0)\r\n"
      ]
    },
    {
      "cell_type": "markdown",
      "metadata": {
        "id": "ALsP1MqBfcXO"
      },
      "source": [
        "## 3. Выводы\n",
        "\n",
        "1) Цель машинного обучения с учителем - приблизить **целевую функцию** (target) по её значениям (возможно приблзительным) в некоторых точках.\n",
        "\n",
        "В нашем случае - это $f(x) = 3x^3 - 2x^2 + x$. Обычно она, конечно, никому неизвестна.\n",
        "\n",
        "2) Множество точек с известным значением функции называется **тренировочным множеством** (train).\n",
        "\n",
        "В нашем случае - это 10 точек, выбранных равномерно на отрезке $[-1, 1]$.\n",
        "\n",
        "3) Чтобы приблизить функцию, нужно использовать какую-то **модель** (model), приближающую функцию.\n",
        "\n",
        "В данном случае - это многочлен $P(x) = a_0 + a_1x + a_2x^2 + \\ldots + a_nx^n$.\n",
        "\n",
        "4) Мы выбираем **функцию потерь** (loss function) для сравнения результатов модели и реальных значения на тренировочном множестве. Чем она меньше, тем лучше наша модель.\n",
        "\n",
        "В данном случае - это $MSE = \\sum_i (P(x_i) - f(x_i))^2$.\n",
        "\n",
        "5) У модели есть **параметры**, которые мы выбираем так, чтобы функция потерь на тренировочном множестве была минимальна.\n",
        "\n",
        "В данном случае - это коэффициенты многочлена ($a_0, a_1, \\ldots, a_n$). Выбираются они с помощью пока магической для нас функции polyfit.\n",
        "\n",
        "6) У модели есть **гиперпараметры**, которые мы выбираем сами.\n",
        "\n",
        "В данном случае - это степень многочлена (число $n$).\n",
        "\n",
        "7) Однако такой подход с минимизацией функции потерь может привести к тому, что мы идеально приблизим функцию на тренировочном множестве, но она будет абсолютно отличаться во всех остальных точках. Это явление называется **переобучением**.\n",
        "\n",
        "В данном случае - мы видели, что если степень многочлена большая (больше трех), то мы попадаем во все точки, но при этом сам многочлен сильно отличается от $f(x)$.\n",
        "\n",
        "8) Чтобы бороться с переобучением, полезно выделить **тестовое множество** точек, в которых мы тоже знаем результаты функции. Оно никак не используется при обучении модели, и нужно только для валидации результата.\n",
        "\n",
        "В данном случае - мы взяли рандомные 10 точек на отрезке $[-1, 1]$.\n",
        "\n",
        "9) В идеальном случае функция потерь на тренировочном и тестовом множестве не отличается. А вот если на тренировочном функция потерь получается гораздо меньше, чем на тестовом, то это говорит о том, что происходит переобучение.\n",
        "\n",
        "Действительно, при большой степени MSE близка к или равна нулю на тренировочном множестве, а на тестовом множестве нет.\n",
        "\n",
        "10) Единственный пока способ, который мы знаем, чтобы влиять на переобучение - это перебирать **гиперпараметры** модели так, чтобы **минимизировать функцию потерь на тестовом множестве**.\n",
        "\n",
        "Действительно, если выбрать степень 3, то функция потерь окажется минимальной на тестовом множестве, как мы видели в задании 3."
      ]
    },
    {
      "cell_type": "markdown",
      "metadata": {
        "id": "IKDsvagDfcXO"
      },
      "source": [
        "## 4. Разделение на тренировочную и тестовую части"
      ]
    },
    {
      "cell_type": "markdown",
      "metadata": {
        "id": "K_p1ek4TfcXP"
      },
      "source": [
        "Если вы решите поучаствовать в каком-нибудь соревновании по машинному обучению, вы увидите, что тестовое множество вам недоступно (иначе было бы неинтересно: очень легко обучиться предсказывать то, что ты уже видел).\n",
        "\n",
        "В реальной жизни обычно тоже считают, что на тестовом множестве можно провериться один раз -- в самом конце. Иначе вы начнете подкручивать гиперпараметры глядя на результат на тестовой выборке и, сами того не замечая, переобучитесь.\n",
        "\n",
        "Как поступать в такой ситуации? Придется пожертвовать частью точек, которые даны нам для обучения и использовать их для подбора гиперпараметров в нашем алгоритме (в нашем случае это степень многочлена).\n",
        "\n",
        "То есть придется из точек, у которых мы знаем результаты, убрать, например, 10% в тестовое множество.\n",
        "\n",
        "Функция для этого есть, например, в пакете sklearn, который можно скачать так: `pip install scikit-learn` (`conda install scikit-learn`)"
      ]
    },
    {
      "cell_type": "code",
      "metadata": {
        "id": "iZYxvgyPfcXQ"
      },
      "source": [
        "X = np.linspace(-1, 1, 50)\n",
        "y = f(X)"
      ],
      "execution_count": null,
      "outputs": []
    },
    {
      "cell_type": "code",
      "metadata": {
        "id": "VFW9bJmpfcXQ"
      },
      "source": [
        "from sklearn.model_selection import train_test_split\n",
        "X_train, X_test, y_train, y_test = train_test_split(X, y, test_size=0.1)"
      ],
      "execution_count": null,
      "outputs": []
    },
    {
      "cell_type": "code",
      "metadata": {
        "id": "pKQLv3-ufcXQ",
        "colab": {
          "base_uri": "https://localhost:8080/"
        },
        "outputId": "196a391f-1fdd-4fef-cb7b-11f9bfb45bc4"
      },
      "source": [
        "X_train, y_train"
      ],
      "execution_count": null,
      "outputs": [
        {
          "output_type": "execute_result",
          "data": {
            "text/plain": [
              "(array([-0.02040816, -0.59183673,  0.26530612,  0.10204082,  0.34693878,\n",
              "        -0.55102041, -0.67346939,  0.51020408,  0.06122449, -0.91836735,\n",
              "        -0.3877551 , -0.63265306,  0.55102041, -0.83673469,  0.14285714,\n",
              "         0.75510204, -0.30612245,  0.02040816, -0.71428571, -0.10204082,\n",
              "        -0.34693878,  0.79591837,  0.83673469,  0.59183673,  0.63265306,\n",
              "        -0.26530612,  0.71428571,  0.46938776, -0.95918367, -0.79591837,\n",
              "         0.3877551 , -0.14285714, -1.        ,  0.91836735, -0.51020408,\n",
              "        -0.18367347, -0.87755102, -0.42857143, -0.75510204,  1.        ,\n",
              "         0.87755102,  0.42857143,  0.95918367, -0.2244898 , -0.46938776]),\n",
              " array([-0.02126665, -1.91428741,  0.18055402,  0.08440361,  0.23148518,\n",
              "        -1.66017561, -2.4969698 ,  0.3880186 ,  0.0544161 , -4.92881367,\n",
              "        -0.86336475, -2.19281082,  0.44568165, -3.99444109,  0.11078717,\n",
              "         0.90637404, -0.57960544,  0.01960068, -2.82798834, -0.12605292,\n",
              "        -0.71295124,  1.04155581,  1.1939413 ,  0.51320453,  0.59181124,\n",
              "        -0.46210338,  0.78717201,  0.33899141, -5.44669313, -3.5755    ,\n",
              "         0.26194868, -0.19241983, -6.        ,  1.55521934, -1.42925142,\n",
              "        -0.26973455, -4.44513766, -1.03206997, -3.18709041,  2.        ,\n",
              "         1.36475448,  0.29737609,  1.76655985, -0.35922107, -1.22029087]))"
            ]
          },
          "metadata": {
            "tags": []
          },
          "execution_count": 101
        }
      ]
    },
    {
      "cell_type": "code",
      "metadata": {
        "id": "EkKs7xr2fcXR",
        "colab": {
          "base_uri": "https://localhost:8080/"
        },
        "outputId": "d4ee99e2-22b8-448d-8bb6-3fbc50383a74"
      },
      "source": [
        "X_test, y_test"
      ],
      "execution_count": null,
      "outputs": [
        {
          "output_type": "execute_result",
          "data": {
            "text/plain": [
              "(array([-0.06122449,  0.30612245,  0.18367347,  0.67346939,  0.2244898 ]),\n",
              " array([-0.06940985,  0.20476162,  0.13479078,  0.68272574,  0.1576384 ]))"
            ]
          },
          "metadata": {
            "tags": []
          },
          "execution_count": 102
        }
      ]
    },
    {
      "cell_type": "markdown",
      "metadata": {
        "id": "_Z_F5yz6fcXR"
      },
      "source": [
        "## 5. Кросс-валидация\n",
        "\n",
        "Также есть более точный способ проводить валидацию результата. Если разделить множество один раз на тестовое и тренировочное, то это может значительно влиять на результат. Вдруг в тестовое множество случайно попали такие точки, в которых предсказать значение тяжелее или легче, чем обычно?\n",
        "\n",
        "Тогда можно применить **кросс-валидацию** - давайте разделим множество на 10 примерно равных частей, тогда у нас есть 10 разделений на тренировочное и тестовое множество - как тестовое множество выберем по очереди каждую из этих частей, а как тренировочное выберем все остальные части. В итоге, все элементы множества побывают и в тренировочной, и в тестовой чати.\n",
        "\n",
        "Можно посчитать результат на каждом из 10 разбиений и просто усреднить результат.\n"
      ]
    },
    {
      "cell_type": "code",
      "metadata": {
        "id": "lbqmFcnjfcXR",
        "colab": {
          "base_uri": "https://localhost:8080/"
        },
        "outputId": "a5007a63-bdfd-4b17-fb2b-1cb6ec606ba1"
      },
      "source": [
        "# Есть вот такая удобная штука\n",
        "from sklearn.model_selection import KFold\n",
        "kf = KFold(n_splits=10)\n",
        "kf.get_n_splits(X)\n",
        "for train_index, test_index in kf.split(X):\n",
        "    print(test_index, train_index)"
      ],
      "execution_count": null,
      "outputs": [
        {
          "output_type": "stream",
          "text": [
            "[0 1 2 3 4] [ 5  6  7  8  9 10 11 12 13 14 15 16 17 18 19 20 21 22 23 24 25 26 27 28\n",
            " 29 30 31 32 33 34 35 36 37 38 39 40 41 42 43 44 45 46 47 48 49]\n",
            "[5 6 7 8 9] [ 0  1  2  3  4 10 11 12 13 14 15 16 17 18 19 20 21 22 23 24 25 26 27 28\n",
            " 29 30 31 32 33 34 35 36 37 38 39 40 41 42 43 44 45 46 47 48 49]\n",
            "[10 11 12 13 14] [ 0  1  2  3  4  5  6  7  8  9 15 16 17 18 19 20 21 22 23 24 25 26 27 28\n",
            " 29 30 31 32 33 34 35 36 37 38 39 40 41 42 43 44 45 46 47 48 49]\n",
            "[15 16 17 18 19] [ 0  1  2  3  4  5  6  7  8  9 10 11 12 13 14 20 21 22 23 24 25 26 27 28\n",
            " 29 30 31 32 33 34 35 36 37 38 39 40 41 42 43 44 45 46 47 48 49]\n",
            "[20 21 22 23 24] [ 0  1  2  3  4  5  6  7  8  9 10 11 12 13 14 15 16 17 18 19 25 26 27 28\n",
            " 29 30 31 32 33 34 35 36 37 38 39 40 41 42 43 44 45 46 47 48 49]\n",
            "[25 26 27 28 29] [ 0  1  2  3  4  5  6  7  8  9 10 11 12 13 14 15 16 17 18 19 20 21 22 23\n",
            " 24 30 31 32 33 34 35 36 37 38 39 40 41 42 43 44 45 46 47 48 49]\n",
            "[30 31 32 33 34] [ 0  1  2  3  4  5  6  7  8  9 10 11 12 13 14 15 16 17 18 19 20 21 22 23\n",
            " 24 25 26 27 28 29 35 36 37 38 39 40 41 42 43 44 45 46 47 48 49]\n",
            "[35 36 37 38 39] [ 0  1  2  3  4  5  6  7  8  9 10 11 12 13 14 15 16 17 18 19 20 21 22 23\n",
            " 24 25 26 27 28 29 30 31 32 33 34 40 41 42 43 44 45 46 47 48 49]\n",
            "[40 41 42 43 44] [ 0  1  2  3  4  5  6  7  8  9 10 11 12 13 14 15 16 17 18 19 20 21 22 23\n",
            " 24 25 26 27 28 29 30 31 32 33 34 35 36 37 38 39 45 46 47 48 49]\n",
            "[45 46 47 48 49] [ 0  1  2  3  4  5  6  7  8  9 10 11 12 13 14 15 16 17 18 19 20 21 22 23\n",
            " 24 25 26 27 28 29 30 31 32 33 34 35 36 37 38 39 40 41 42 43 44]\n"
          ],
          "name": "stdout"
        }
      ]
    },
    {
      "cell_type": "markdown",
      "metadata": {
        "id": "EersCCMsfcXR"
      },
      "source": [
        "**(1 балл) Доп. задача 6:** проделайте все вышеописанное с функцией $f(x) = \\frac{1}{1 + e^{-x}}$ на отрезке $[-3, 3]$. Как оптимальная степень зависит от количества точек, по которым вы подбираете многочлен?"
      ]
    },
    {
      "cell_type": "code",
      "metadata": {
        "id": "qxhHDSSwfcXR",
        "colab": {
          "base_uri": "https://localhost:8080/",
          "height": 282
        },
        "outputId": "9b027621-d885-4690-d52a-c210c678145a"
      },
      "source": [
        "# место для решения\r\n",
        "np.random.seed(42)\r\n",
        "\r\n",
        "data = []\r\n",
        "def f(x):\r\n",
        "  return 1 / (1 + np.exp(-x))\r\n",
        "\r\n",
        "x100 = np.linspace(-3,3,100)\r\n",
        "y = f(x100)\r\n",
        "\r\n",
        "X_train, X_test, y_train, y_test = train_test_split(x100, y, test_size=0.1)\r\n",
        "\r\n",
        "for train_index, test_index in kf.split(x100):\r\n",
        "  y_test = f(X_test) + np.random.normal(0, 0.5, 10)\r\n",
        "\r\n",
        "  coefs = np.polyfit(X_test,y_test,deg=3)\r\n",
        "  y_pred = np.poly1d(coefs)\r\n",
        "  data.append(MSE(f(x100),y_pred(x100)))\r\n",
        "\r\n",
        "plt.plot(np.arange(10), data)\r\n"
      ],
      "execution_count": null,
      "outputs": [
        {
          "output_type": "execute_result",
          "data": {
            "text/plain": [
              "[<matplotlib.lines.Line2D at 0x7fd8d41cfd90>]"
            ]
          },
          "metadata": {
            "tags": []
          },
          "execution_count": 104
        },
        {
          "output_type": "display_data",
          "data": {
            "image/png": "[encoded data removed]",
            "text/plain": [
              "<Figure size 432x288 with 1 Axes>"
            ]
          },
          "metadata": {
            "tags": [],
            "needs_background": "light"
          }
        }
      ]
    },
    {
      "cell_type": "markdown",
      "metadata": {
        "id": "9uaCQuSpfcXS"
      },
      "source": [
        "## 6. Линейная регрессия\n",
        "\n",
        "**Регрессией** называется задача машинного обучения с учителем, в которой у нас есть много объектов с признаками, у которых надо научиться приближенно предсказывать значение целевой функции, которая равна какому-то **действительному числу**. \n",
        "\n",
        "В этом будет отличие задачи регрессии от задачи классификации - регрессия предсказывает число, а классификация - один из нескольких классов.\n",
        "\n",
        "До этого мы учились приближать одномерную функцию многочленом. Каждая точка имела ровно один признак - коодинату $x$.\n",
        "\n",
        "Тем не менее, чаще всего в машинном обучении признаков гораздо больше. Возьмем какой-нибудь реальный датасет."
      ]
    },
    {
      "cell_type": "code",
      "metadata": {
        "scrolled": true,
        "id": "Dk8oOH4JfcXS",
        "colab": {
          "base_uri": "https://localhost:8080/",
          "height": 195
        },
        "outputId": "a8e6929b-3ca4-454b-c703-799fff18beb4"
      },
      "source": [
        "import numpy as np\n",
        "import pandas as pd\n",
        "import matplotlib.pyplot as plt\n",
        "\n",
        "%matplotlib inline\n",
        "\n",
        "data = pd.read_csv('Advertising.csv', index_col=0)\n",
        "data.head()"
      ],
      "execution_count": null,
      "outputs": [
        {
          "output_type": "execute_result",
          "data": {
            "text/html": [
              "<div>\n",
              "<style scoped>\n",
              "    .dataframe tbody tr th:only-of-type {\n",
              "        vertical-align: middle;\n",
              "    }\n",
              "\n",
              "    .dataframe tbody tr th {\n",
              "        vertical-align: top;\n",
              "    }\n",
              "\n",
              "    .dataframe thead th {\n",
              "        text-align: right;\n",
              "    }\n",
              "</style>\n",
              "<table border=\"1\" class=\"dataframe\">\n",
              "  <thead>\n",
              "    <tr style=\"text-align: right;\">\n",
              "      <th></th>\n",
              "      <th>TV</th>\n",
              "      <th>Radio</th>\n",
              "      <th>Newspaper</th>\n",
              "      <th>Sales</th>\n",
              "    </tr>\n",
              "  </thead>\n",
              "  <tbody>\n",
              "    <tr>\n",
              "      <th>1</th>\n",
              "      <td>230.1</td>\n",
              "      <td>37.8</td>\n",
              "      <td>69.2</td>\n",
              "      <td>22.1</td>\n",
              "    </tr>\n",
              "    <tr>\n",
              "      <th>2</th>\n",
              "      <td>44.5</td>\n",
              "      <td>39.3</td>\n",
              "      <td>45.1</td>\n",
              "      <td>10.4</td>\n",
              "    </tr>\n",
              "    <tr>\n",
              "      <th>3</th>\n",
              "      <td>17.2</td>\n",
              "      <td>45.9</td>\n",
              "      <td>69.3</td>\n",
              "      <td>9.3</td>\n",
              "    </tr>\n",
              "    <tr>\n",
              "      <th>4</th>\n",
              "      <td>151.5</td>\n",
              "      <td>41.3</td>\n",
              "      <td>58.5</td>\n",
              "      <td>18.5</td>\n",
              "    </tr>\n",
              "    <tr>\n",
              "      <th>5</th>\n",
              "      <td>180.8</td>\n",
              "      <td>10.8</td>\n",
              "      <td>58.4</td>\n",
              "      <td>12.9</td>\n",
              "    </tr>\n",
              "  </tbody>\n",
              "</table>\n",
              "</div>"
            ],
            "text/plain": [
              "      TV  Radio  Newspaper  Sales\n",
              "1  230.1   37.8       69.2   22.1\n",
              "2   44.5   39.3       45.1   10.4\n",
              "3   17.2   45.9       69.3    9.3\n",
              "4  151.5   41.3       58.5   18.5\n",
              "5  180.8   10.8       58.4   12.9"
            ]
          },
          "metadata": {
            "tags": []
          },
          "execution_count": 105
        }
      ]
    },
    {
      "cell_type": "markdown",
      "metadata": {
        "id": "NiwQx8u9fcXS"
      },
      "source": [
        "В датасете показаны результаты продаж разных товаров в зависимости от ресурсов (тысяч долларов), которые вложили в различные средства распространения информации:\n",
        "* TV - реклама по телевизору\n",
        "* radio - на радио\n",
        "* newspapers - в газетах"
      ]
    },
    {
      "cell_type": "markdown",
      "metadata": {
        "id": "Tqk_ZkIwfcXS"
      },
      "source": [
        "Целевая переменная:\n",
        "\n",
        "sales - продажи такого-то товара (тысячи штук)"
      ]
    },
    {
      "cell_type": "code",
      "metadata": {
        "id": "cgNmRZe9fcXS",
        "colab": {
          "base_uri": "https://localhost:8080/"
        },
        "outputId": "5249a9bc-9d8c-49b6-df22-42c194c74458"
      },
      "source": [
        "# Размеры датасета\n",
        "data.shape"
      ],
      "execution_count": null,
      "outputs": [
        {
          "output_type": "execute_result",
          "data": {
            "text/plain": [
              "(200, 4)"
            ]
          },
          "metadata": {
            "tags": []
          },
          "execution_count": 106
        }
      ]
    },
    {
      "cell_type": "markdown",
      "metadata": {
        "id": "pGf8Ho0sfcXS"
      },
      "source": [
        "Признаков немного, поэтому давайте попробуем визуализиовать зависимость целевой переменной от каждого из признаков."
      ]
    },
    {
      "cell_type": "code",
      "metadata": {
        "id": "9lQLBWPgfcXS",
        "colab": {
          "base_uri": "https://localhost:8080/",
          "height": 514
        },
        "outputId": "d989a1cb-fe75-46b5-a846-c0d82b011690"
      },
      "source": [
        "fig, axs = plt.subplots(1, 3, sharey=True)\n",
        "data.plot(kind='scatter', x='TV', y='Sales', ax=axs[0], figsize=(16, 8))\n",
        "data.plot(kind='scatter', x='Radio', y='Sales', ax=axs[1])\n",
        "data.plot(kind='scatter', x='Newspaper', y='Sales', ax=axs[2])"
      ],
      "execution_count": null,
      "outputs": [
        {
          "output_type": "execute_result",
          "data": {
            "text/plain": [
              "<matplotlib.axes._subplots.AxesSubplot at 0x7fd8d416f490>"
            ]
          },
          "metadata": {
            "tags": []
          },
          "execution_count": 107
        },
        {
          "output_type": "display_data",
          "data": {
            "image/png": "[encoded data removed]",
            "text/plain": [
              "<Figure size 1152x576 with 3 Axes>"
            ]
          },
          "metadata": {
            "tags": [],
            "needs_background": "light"
          }
        }
      ]
    },
    {
      "cell_type": "markdown",
      "metadata": {
        "id": "toYy5okyfcXT"
      },
      "source": [
        "### Простая линейная регрессия\n",
        "\n",
        "Из графиков выше предположим, что только размер рекламы на телевизоре влияет на продажи больше всего. Формула для такого случая выглядит следующим образом:\n",
        "$$y=\\beta_0+\\beta_1x$$\n",
        "Здесь:\n",
        "* $y$ - наше предсказание продаж\n",
        "* $x$ - сколько денег вложили в рекламу по телевидению\n",
        "* $\\beta_0$ - сдвиг\n",
        "* $\\beta_1$ - параметр, отвечающий за важность признака x\n",
        "\n",
        "$\\beta_0$ и $\\beta_1$ - это параметры нашей модели. Чтобы создать хорошую модель, надо \"обучить\" эти значения. Т.е. изменить их так, чтобы они хорошо работали для нашей задачи."
      ]
    },
    {
      "cell_type": "markdown",
      "metadata": {
        "id": "MP0JEGXCfcXT"
      },
      "source": [
        "### Обучение коэффициентов модели\n",
        "\n",
        "Параметры $\\beta_0$ и $\\beta_1$ подбираются таким образом, чтобы минимизировать **сумму наименьших квадратов ошибок**:\n",
        "\n",
        "$$L(MSE)=\\sum_{i=1}^{N}(y^{true}_i-y^{pred}_i)^2$$\n",
        "\n",
        "<img src=\"mse_plot.png\">\n",
        "\n",
        "* Чёрные точки на даграмме $y^{true}$ - это полученные истинные значения x и y .\n",
        "* Синяя линия $y^{pred}$ - это наша модель: линия, которой мы стараемся приблизить данные .\n",
        "* Красные отрезки - это ошибки нашей модели.\n"
      ]
    },
    {
      "cell_type": "markdown",
      "metadata": {
        "id": "JzTn357rfcXT"
      },
      "source": [
        "Как коэффициенты $\\beta_0$ и $\\beta_1$ соотносятся с синей линией:\n",
        "* $\\beta_0$ - это сдвиг нашей прямой, т.е. значение y при x = 0.\n",
        "* $\\beta_1$ - это тангенс угла наклона прямой."
      ]
    },
    {
      "cell_type": "markdown",
      "metadata": {
        "id": "V9OFbnsJfcXT"
      },
      "source": [
        "Как искать данные коэффициенты? Есть много техник: аналитическое решение, методы основанные на градиентном спуске. Пока же достаточно знать, что многие библиотеки (в том числе и sklearn) умеют это делать. Зачем кожаному мешку напрягаться :)"
      ]
    },
    {
      "cell_type": "code",
      "metadata": {
        "id": "mr9b5VbsfcXT",
        "colab": {
          "base_uri": "https://localhost:8080/"
        },
        "outputId": "4a899e28-10a7-4873-cf45-64b9b91ea05a"
      },
      "source": [
        "from sklearn.linear_model import LinearRegression\n",
        "\n",
        "# Наша модель\n",
        "reg = LinearRegression()\n",
        "\n",
        "# Подготовим данные для неё\n",
        "# На вход требуется 2D матрица, а у нас только один признак,\n",
        "# и надо превратить его из 1D вектора (n,) в 2D матрицу (n, 1).\n",
        "# Это можно сделать с помощью метода reshape\n",
        "x = data[\"TV\"].values.reshape(-1, 1) \n",
        "y = data[\"Sales\"].values\n",
        "\n",
        "# Обучаем нашу модель\n",
        "reg.fit(x, y)\n",
        "\n",
        "# Коэффициенты\n",
        "print(\"Сдвиг={}\".format(reg.intercept_))\n",
        "print(\"Массив коэффициентов={}\".format(reg.coef_))"
      ],
      "execution_count": null,
      "outputs": [
        {
          "output_type": "stream",
          "text": [
            "Сдвиг=7.032593549127695\n",
            "Массив коэффициентов=[0.04753664]\n"
          ],
          "name": "stdout"
        }
      ]
    },
    {
      "cell_type": "markdown",
      "metadata": {
        "id": "iE2szrpofcXT"
      },
      "source": [
        "### Интерпретируем коэффициенты\n",
        "Что означает коэффициент, связанный с телевидением ($\\beta_1$)?\n",
        "* Дополнительные 1000$, вложенные на в рекламу на телевидении, позволят продажам товара вырасти где-то на 0.047 * 1000 = 47 тысяч единиц."
      ]
    },
    {
      "cell_type": "code",
      "metadata": {
        "id": "mO0rBE9xfcXT",
        "colab": {
          "base_uri": "https://localhost:8080/"
        },
        "outputId": "64460475-5d54-4b3d-8d69-80cc96ca6ea3"
      },
      "source": [
        "# Посчитаем ручками\n",
        "7.032594 + 0.047537*50"
      ],
      "execution_count": null,
      "outputs": [
        {
          "output_type": "execute_result",
          "data": {
            "text/plain": [
              "9.409444"
            ]
          },
          "metadata": {
            "tags": []
          },
          "execution_count": 109
        }
      ]
    },
    {
      "cell_type": "code",
      "metadata": {
        "id": "Am0ioq0PfcXU",
        "colab": {
          "base_uri": "https://localhost:8080/",
          "height": 77
        },
        "outputId": "ccdef76e-6daa-465b-8c4e-7acd9405d6db"
      },
      "source": [
        "X_new = pd.DataFrame({'TV': [50]})\n",
        "X_new.head()"
      ],
      "execution_count": null,
      "outputs": [
        {
          "output_type": "execute_result",
          "data": {
            "text/html": [
              "<div>\n",
              "<style scoped>\n",
              "    .dataframe tbody tr th:only-of-type {\n",
              "        vertical-align: middle;\n",
              "    }\n",
              "\n",
              "    .dataframe tbody tr th {\n",
              "        vertical-align: top;\n",
              "    }\n",
              "\n",
              "    .dataframe thead th {\n",
              "        text-align: right;\n",
              "    }\n",
              "</style>\n",
              "<table border=\"1\" class=\"dataframe\">\n",
              "  <thead>\n",
              "    <tr style=\"text-align: right;\">\n",
              "      <th></th>\n",
              "      <th>TV</th>\n",
              "    </tr>\n",
              "  </thead>\n",
              "  <tbody>\n",
              "    <tr>\n",
              "      <th>0</th>\n",
              "      <td>50</td>\n",
              "    </tr>\n",
              "  </tbody>\n",
              "</table>\n",
              "</div>"
            ],
            "text/plain": [
              "   TV\n",
              "0  50"
            ]
          },
          "metadata": {
            "tags": []
          },
          "execution_count": 110
        }
      ]
    },
    {
      "cell_type": "code",
      "metadata": {
        "id": "c0cRZHOpfcXU",
        "colab": {
          "base_uri": "https://localhost:8080/"
        },
        "outputId": "8d6a73b1-3618-4209-a226-c40315fd7ff7"
      },
      "source": [
        "reg.predict(X_new)"
      ],
      "execution_count": null,
      "outputs": [
        {
          "output_type": "execute_result",
          "data": {
            "text/plain": [
              "array([9.40942557])"
            ]
          },
          "metadata": {
            "tags": []
          },
          "execution_count": 111
        }
      ]
    },
    {
      "cell_type": "markdown",
      "metadata": {
        "id": "k-JOXvK5fcXU"
      },
      "source": [
        "### Нарисуем нашу прямую"
      ]
    },
    {
      "cell_type": "code",
      "metadata": {
        "id": "68d_QigofcXU",
        "colab": {
          "base_uri": "https://localhost:8080/"
        },
        "outputId": "e7d4a895-8488-4774-c139-23d0c25acfdf"
      },
      "source": [
        "# Возьмём предсказания для данных, на которых обучались\n",
        "y_pred = reg.predict(x)\n",
        "y_pred.shape"
      ],
      "execution_count": null,
      "outputs": [
        {
          "output_type": "execute_result",
          "data": {
            "text/plain": [
              "(200,)"
            ]
          },
          "metadata": {
            "tags": []
          },
          "execution_count": 112
        }
      ]
    },
    {
      "cell_type": "code",
      "metadata": {
        "id": "X6m0XIGlfcXU",
        "colab": {
          "base_uri": "https://localhost:8080/",
          "height": 296
        },
        "outputId": "d74e8c3e-4889-4fcf-8975-322267593dcf"
      },
      "source": [
        "# Сначала выведем истинные данные\n",
        "data.plot(kind='scatter', x='TV', y='Sales')\n",
        "\n",
        "# Теперь рисуем нашу линию\n",
        "plt.plot(x, y_pred, c='red', linewidth=2)"
      ],
      "execution_count": null,
      "outputs": [
        {
          "output_type": "execute_result",
          "data": {
            "text/plain": [
              "[<matplotlib.lines.Line2D at 0x7fd8d409fe10>]"
            ]
          },
          "metadata": {
            "tags": []
          },
          "execution_count": 113
        },
        {
          "output_type": "display_data",
          "data": {
            "image/png": "[encoded data removed]",
            "text/plain": [
              "<Figure size 432x288 with 1 Axes>"
            ]
          },
          "metadata": {
            "tags": [],
            "needs_background": "light"
          }
        }
      ]
    },
    {
      "cell_type": "markdown",
      "metadata": {
        "id": "lMkWDTS0fcXU"
      },
      "source": [
        "Посчитаем ошибку MSE на обучающей выборке:\n"
      ]
    },
    {
      "cell_type": "code",
      "metadata": {
        "id": "K6-WoQGvfcXV",
        "colab": {
          "base_uri": "https://localhost:8080/"
        },
        "outputId": "48e96621-d7eb-4bfd-ebdc-6467b6df5903"
      },
      "source": [
        "from sklearn.metrics import mean_squared_error\n",
        "\n",
        "print(mean_squared_error(y_pred, y))"
      ],
      "execution_count": null,
      "outputs": [
        {
          "output_type": "stream",
          "text": [
            "10.512652915656757\n"
          ],
          "name": "stdout"
        }
      ]
    },
    {
      "cell_type": "markdown",
      "metadata": {
        "id": "7wkM_QA_fcXV"
      },
      "source": [
        "### Используем все признаки\n",
        "\n",
        "Простую линейную регрессию с одним признаком можно легко расширить на случай нескольких признаков:\n",
        "$$y=\\beta_0+\\beta_1x_1+...+\\beta_nx_n$$"
      ]
    },
    {
      "cell_type": "markdown",
      "metadata": {
        "id": "KeOubODzfcXV"
      },
      "source": [
        "А для нашего датасета это будет выглядеть так:\n",
        "$$Sales=\\beta_0+\\beta_1*TV+\\beta_2*radio+\\beta_3*newspaper$$"
      ]
    },
    {
      "cell_type": "markdown",
      "metadata": {
        "id": "fdqiBpySfcXV"
      },
      "source": [
        "Давайте опять воспользуемся sklearn, чтобы их оценить:"
      ]
    },
    {
      "cell_type": "code",
      "metadata": {
        "id": "rLNTWuPUfcXV",
        "colab": {
          "base_uri": "https://localhost:8080/"
        },
        "outputId": "80ea5ff9-177f-442e-eb96-3d2d0893a118"
      },
      "source": [
        "reg = LinearRegression()\n",
        "\n",
        "X = data.drop(\"Sales\", axis=1)\n",
        "y = data[\"Sales\"]\n",
        "\n",
        "# Обучаем нашу модель\n",
        "reg.fit(X, y)\n",
        "\n",
        "# Коэффициенты\n",
        "print(\"Сдвиг={}\".format(reg.intercept_))\n",
        "for column, coef in zip(X.columns, reg.coef_):\n",
        "    print(\"Коэффициент для {}={}\".format(column, coef))"
      ],
      "execution_count": null,
      "outputs": [
        {
          "output_type": "stream",
          "text": [
            "Сдвиг=2.938889369459412\n",
            "Коэффициент для TV=0.0457646454553976\n",
            "Коэффициент для Radio=0.18853001691820448\n",
            "Коэффициент для Newspaper=-0.0010374930424763285\n"
          ],
          "name": "stdout"
        }
      ]
    },
    {
      "cell_type": "markdown",
      "metadata": {
        "id": "Bx8nM7rHfcXV"
      },
      "source": [
        "Вес признака отвечает также, как и в предыдущем случае за значимость этого признака. Для газет он вообще отрицательный. Вычислим ошибку на обучающей выборке."
      ]
    },
    {
      "cell_type": "code",
      "metadata": {
        "id": "eejebERPfcXV",
        "colab": {
          "base_uri": "https://localhost:8080/"
        },
        "outputId": "e93d0672-eb7e-4b7d-d490-3284720f681c"
      },
      "source": [
        "y_pred = reg.predict(X)\n",
        "\n",
        "# Ошибка теперь равна:\n",
        "print(mean_squared_error(y_pred, y))"
      ],
      "execution_count": null,
      "outputs": [
        {
          "output_type": "stream",
          "text": [
            "2.784126314510936\n"
          ],
          "name": "stdout"
        }
      ]
    },
    {
      "cell_type": "markdown",
      "metadata": {
        "id": "V0PO_XnpfcXW"
      },
      "source": [
        "Ошибка уже меньше, чем при одном признаке, однако измерять ошибку на обучающей выборке неправильно. Помимо истинной зависимости между признаками и целевой переменной, туда могут затесаться случайности, лишние данные и прочие факторы. Если не ограничивать каким-то образом модель (об этом мы узнаем позднее), то модель легко подстраивается под эти шумы. Она начинает показывать очень хорошее качество на обучающей выборке, но когда мы попробуем посмотреть качество на других выборках, то там модель будет показывать себя плохо. Это и есть переобучение."
      ]
    },
    {
      "cell_type": "markdown",
      "metadata": {
        "id": "CLMbEtIzfcXW"
      },
      "source": [
        "<img src=\"overfit.png\">"
      ]
    },
    {
      "cell_type": "markdown",
      "metadata": {
        "id": "VC0SPfpsfcXW"
      },
      "source": [
        "Поэтому применим кросс-валидацию:"
      ]
    },
    {
      "cell_type": "code",
      "metadata": {
        "id": "hLsdCHQgfcXW",
        "colab": {
          "base_uri": "https://localhost:8080/"
        },
        "outputId": "48631814-9361-4c9a-9826-2634b41d38be"
      },
      "source": [
        "# Многие выбирают k=5 для начала\n",
        "k = 5\n",
        "errors = []\n",
        "\n",
        "X = data.drop(\"Sales\", axis=1)\n",
        "y = data[\"Sales\"]\n",
        "\n",
        "# Размер одной части\n",
        "fold_size = len(X) // k\n",
        "\n",
        "# Мб этот код на семинаре написать?\n",
        "for i in range(k):\n",
        "    # Берём все значения, кроме выбранной части\n",
        "    X_train = X[:i * fold_size].append(X[(i + 1) * fold_size:])\n",
        "    y_train = y[:i * fold_size].append(y[(i + 1) * fold_size:])\n",
        "    \n",
        "    # Берём выбранную часть\n",
        "    X_test = X[i * fold_size:(i + 1) * fold_size]\n",
        "    y_test = y[i * fold_size:(i + 1) * fold_size]\n",
        "    \n",
        "    # На каждой итерации обучаемся отдельно и сохраняем ошибку\n",
        "    reg = LinearRegression()\n",
        "    reg.fit(X_train, y_train)\n",
        "    y_pred = reg.predict(X_test)\n",
        "    errors.append(mean_squared_error(y_pred, y_test))\n",
        "    \n",
        "# Выводим ошибку на кросс-валидации\n",
        "print(np.average(errors))"
      ],
      "execution_count": null,
      "outputs": [
        {
          "output_type": "stream",
          "text": [
            "3.0729465971002106\n"
          ],
          "name": "stdout"
        }
      ]
    },
    {
      "cell_type": "code",
      "metadata": {
        "id": "wGZIsUaifcXW",
        "colab": {
          "base_uri": "https://localhost:8080/"
        },
        "outputId": "72bb36d4-687c-45df-a286-dfd598586554"
      },
      "source": [
        "# А можно не париться и попросить sklearn всё сделать за нас\n",
        "from sklearn.model_selection import cross_val_score\n",
        "\n",
        "# Берём с отрицательным знаком, т.к. обычно туда передаётся не функция потерь, которую надо минимизировать\n",
        "# А что-то вроде \"функции успеха\", которую надо максимизировать\n",
        "errors = -cross_val_score(LinearRegression(), X, y, cv=5, scoring='neg_mean_squared_error')\n",
        "print(np.average(errors))"
      ],
      "execution_count": null,
      "outputs": [
        {
          "output_type": "stream",
          "text": [
            "3.0729465971002106\n"
          ],
          "name": "stdout"
        }
      ]
    },
    {
      "cell_type": "markdown",
      "metadata": {
        "id": "nEvQXvKefcXW"
      },
      "source": [
        "Видно, что ошибка больше, чем тогда на обучающей выборке, поэтому есть показания думать, что это переобучение. Отчего оно обычно происходит? Мы берём слишком много лишних признаков или делаем модель слишком сложной для данной задачи. Для решения этой задачи существует регуляризация."
      ]
    },
    {
      "cell_type": "markdown",
      "metadata": {
        "id": "2msHc6sofcXW"
      },
      "source": [
        "### Регуляризация\n",
        "\n",
        "Регуляризация - это искусстенное занижение всех параметров моделей ($\\beta_0,\\beta_1,...$). Это помогает упростить модель, т.к. низкие значения $\\beta_i$ означают, что модель будет выдавать результаты близкие к прямой (или гиперплоскости, если параметров много). А также зануление некоторых коэффициентов может убрать ненужные признаки из обучения. Однако как всё это сделать так, чтобы не убрать нужные признаки?"
      ]
    },
    {
      "cell_type": "markdown",
      "metadata": {
        "id": "t4tNPq1ZfcXX"
      },
      "source": [
        "Посмотрим на функцию потерь, которую мы минимизируем:\n",
        "$$L(\\beta)=\\sum_{i=1}^{N}(y^{true}_i-y^{pred}_i)^2$$\n",
        "\n",
        "Добавим туда слагаемое, которое поможет нам понизить значения наших $\\beta_i$:\n",
        "$$L(\\beta)=\\sum_{i=1}^{N}(y^{true}_i-y^{pred}_i)^2 + \\lambda \\sum_{i=1}^m\\beta_i^2$$"
      ]
    },
    {
      "cell_type": "markdown",
      "metadata": {
        "id": "d6atPhO_fcXX"
      },
      "source": [
        "Действительно, если мы будем понижать нашу функцию потерь $L(\\beta)$, то мы будем минимизировать и второе слагаемое, которое и отвечает за абсолютные величины $\\beta_i$. Осталось указать, что $\\lambda$ это некоторый числовой коэффициент, который позволяет играться между очень сильной и очень слабой регуляризацией. Если он большой, то регуляризация сильная и модель будет более простой, меньше переобучаться, больше недообучаться, и наоброт. "
      ]
    },
    {
      "cell_type": "markdown",
      "metadata": {
        "id": "tjZyYav7fcXX"
      },
      "source": [
        "Забыл добавить, что это была L2-регуляризация.\n",
        "L1-регуляризация выглядит так:\n",
        "$$L(\\beta)=\\sum_{i=1}^{N}(y^{true}_i-y^{pred}_i)^2 + \\lambda \\sum_{i=1}^m|\\beta_i|$$\n",
        "Она отличается от L2 тем, что она обнуляет некоторые коэффициенты, а L2 пытается всё уменьшать равномерно."
      ]
    },
    {
      "cell_type": "markdown",
      "metadata": {
        "id": "S7X8giBBfcXX"
      },
      "source": [
        "В sklearn L1-регуляризация - это Lasso, а L2-регуляризация - это Ridge. Давайте посмотрим, какое качество они нам дадут на кросс-валидации."
      ]
    },
    {
      "cell_type": "code",
      "metadata": {
        "id": "Zw3npK-DfcXX"
      },
      "source": [
        ""
      ],
      "execution_count": null,
      "outputs": []
    },
    {
      "cell_type": "code",
      "metadata": {
        "id": "PnhYPiqUfcXX",
        "colab": {
          "base_uri": "https://localhost:8080/"
        },
        "outputId": "e219d833-3372-4ac7-c3b9-d03a1720a918"
      },
      "source": [
        "# L1\n",
        "from sklearn.linear_model import Lasso\n",
        "\n",
        "reg = Lasso().fit(X, y)\n",
        "\n",
        "# Посмотрим на коэффициенты модели\n",
        "# Коэффициенты\n",
        "print(\"Сдвиг={}\".format(reg.intercept_))\n",
        "for column, coef in zip(X.columns, reg.coef_):\n",
        "    print(\"Коэффициент для {}={}\".format(column, coef))\n",
        "print()\n",
        "\n",
        "errors = -cross_val_score(Lasso(), X, y, cv=5, scoring='neg_mean_squared_error')\n",
        "print(\"Результат={}\".format(np.average(errors)))"
      ],
      "execution_count": null,
      "outputs": [
        {
          "output_type": "stream",
          "text": [
            "Сдвиг=3.040215583480375\n",
            "Коэффициент для TV=0.045661415380019485\n",
            "Коэффициент для Radio=0.1834643975886825\n",
            "Коэффициент для Newspaper=0.0\n",
            "\n",
            "Результат=3.041405896751369\n"
          ],
          "name": "stdout"
        }
      ]
    },
    {
      "cell_type": "markdown",
      "metadata": {
        "id": "r23FBZdPfcXX"
      },
      "source": [
        "Видно, что признак с рекламой в газетах модель захотела полностью убрать из выборки."
      ]
    },
    {
      "cell_type": "code",
      "metadata": {
        "id": "u1smV_bZfcXY",
        "colab": {
          "base_uri": "https://localhost:8080/"
        },
        "outputId": "bc25962b-e280-47f4-d192-f3e6dcba0da1"
      },
      "source": [
        "# L2\n",
        "from sklearn.linear_model import Ridge\n",
        "\n",
        "reg = Ridge().fit(X, y)\n",
        "\n",
        "# Посмотрим на коэффициенты модели\n",
        "# Коэффициенты\n",
        "print(\"Сдвиг={}\".format(reg.intercept_))\n",
        "for column, coef in zip(X.columns, reg.coef_):\n",
        "    print(\"Коэффициент для {}={}\".format(column, coef))\n",
        "print()\n",
        "\n",
        "errors = -cross_val_score(Ridge(), X, y, cv=5, scoring='neg_mean_squared_error')\n",
        "print(\"Результат={}\".format(np.average(errors)))"
      ],
      "execution_count": null,
      "outputs": [
        {
          "output_type": "stream",
          "text": [
            "Сдвиг=2.9389674583301506\n",
            "Коэффициент для TV=0.045764643658018474\n",
            "Коэффициент для Radio=0.18852509681078544\n",
            "Коэффициент для Newspaper=-0.0010362939589070004\n",
            "\n",
            "Результат=3.072932673298496\n"
          ],
          "name": "stdout"
        }
      ]
    },
    {
      "cell_type": "markdown",
      "metadata": {
        "id": "f9cHZ-4ufcXY"
      },
      "source": [
        "reg.coef_\n"
      ]
    },
    {
      "cell_type": "markdown",
      "metadata": {
        "id": "H2bISE7LfcXY"
      },
      "source": [
        "Тут модель полностью не зануляла все признаки, а уменьшила их веса некоторых из них, а некоторых увеличила. Но изменения были столь незначительные, что качество не изменилось."
      ]
    },
    {
      "cell_type": "markdown",
      "metadata": {
        "id": "AFBo1hdafcXY"
      },
      "source": [
        "Как видно, качество не сильно улучшилось. Это всё потому что, мы не подбирали параметр параметр lambda (в моделях он называется alpha), а оставили его равным 1.0. Вот тут нам и приходит на помощь кросс-валидация."
      ]
    },
    {
      "cell_type": "markdown",
      "metadata": {
        "id": "dwPC5eHHfcXZ"
      },
      "source": [
        "Попробуем сначала Lasso. Давайте сначала поступим по тупому, и будем выбирать параметр lambda на обучающей выборке."
      ]
    },
    {
      "cell_type": "code",
      "metadata": {
        "id": "S3iZzVP4fcXZ",
        "colab": {
          "base_uri": "https://localhost:8080/"
        },
        "outputId": "c3f552f1-b3e0-4c98-b917-fbe68370aef1"
      },
      "source": [
        "lambdas = np.arange(0.1, 3.0, 0.2)\n",
        "# Выведем доступные lambda\n",
        "print(\"Все лямбды:\")\n",
        "print(lambdas)\n",
        "\n",
        "# Лямбды и их ошибки на обучающей выборке\n",
        "lambda_errors = []\n",
        "MSQ = []\n",
        "\n",
        "# Проходим по всем лямбдам и записываем ошибки на обучающей выборке\n",
        "for val in lambdas:\n",
        "    reg = Lasso(alpha=val).fit(X, y)\n",
        "    y_pred = reg.predict(X)\n",
        "    # Сохраняем ошибку на обучающей выборке\n",
        "    lambda_errors.append((val, mean_squared_error(y_pred, y)))\n",
        "    MSQ.append(mean_squared_error(y_pred, y))\n",
        "    print(((val, mean_squared_error(y_pred, y))))\n",
        "    \n",
        "\n",
        "min_val, min_train_error = min(lambda_errors, key=lambda x: x[1])\n",
        "\n",
        "# Вычислим ошибку на кросс-валидации\n",
        "# Лучшая модель\n",
        "best_reg = Lasso(alpha=min_val)\n",
        "cv_error = -np.average(cross_val_score(best_reg, X, y, cv=5, scoring='neg_mean_squared_error'))\n",
        "\n",
        "print(\"\\nОптимальная lambda:\")\n",
        "print(\"Lambda={:.2f}, результат={:.2f}\".format(min_val, cv_error))"
      ],
      "execution_count": null,
      "outputs": [
        {
          "output_type": "stream",
          "text": [
            "Все лямбды:\n",
            "[0.1 0.3 0.5 0.7 0.9 1.1 1.3 1.5 1.7 1.9 2.1 2.3 2.5 2.7 2.9]\n",
            "(0.1, 2.7842286851696865)\n",
            "(0.30000000000000004, 2.784985993046452)\n",
            "(0.5000000000000001, 2.7857256993570276)\n",
            "(0.7000000000000001, 2.7868352725638887)\n",
            "(0.9000000000000001, 2.7883147049707757)\n",
            "(1.1000000000000003, 2.7901639965776877)\n",
            "(1.3000000000000003, 2.7923831473846246)\n",
            "(1.5000000000000004, 2.7949721573915873)\n",
            "(1.7000000000000004, 2.7979310265985737)\n",
            "(1.9000000000000004, 2.801259755005587)\n",
            "(2.1000000000000005, 2.804958342612624)\n",
            "(2.3000000000000007, 2.8090267894196854)\n",
            "(2.5000000000000004, 2.813465095426774)\n",
            "(2.7000000000000006, 2.8182732606338856)\n",
            "(2.900000000000001, 2.8234512850410236)\n",
            "\n",
            "Оптимальная lambda:\n",
            "Lambda=0.10, результат=3.07\n"
          ],
          "name": "stdout"
        }
      ]
    },
    {
      "cell_type": "markdown",
      "metadata": {
        "id": "C4Jv7pwwfcXZ"
      },
      "source": [
        "А теперь сделайте так, чтобы сохранялась ошибка не на обучающей выборке, а на кросс-валдиации (cross_val_score) и минимум выбирался из неё. "
      ]
    },
    {
      "cell_type": "markdown",
      "metadata": {
        "id": "wNGjNJidfcXZ"
      },
      "source": [
        "**(0.5 балла) Обязательное задание 4:** нарисуйте график зависимости ошибки на тестовом множестве от степени многочлена. При какой степени ошибка минимальна?"
      ]
    },
    {
      "cell_type": "code",
      "metadata": {
        "colab": {
          "base_uri": "https://localhost:8080/",
          "height": 282
        },
        "id": "Fa-a3MaAK-2f",
        "outputId": "ae0785ab-461f-4346-93e2-dc27674232ca"
      },
      "source": [
        "# L1\r\n",
        "from sklearn.linear_model import Lasso\r\n",
        "E = []\r\n",
        "POW = np.arange(1,20)\r\n",
        "\r\n",
        "for i in POW:\r\n",
        "  errors = -cross_val_score(Lasso(alpha=i), X, y, cv=5, scoring='neg_mean_squared_error')\r\n",
        "  E.append(np.average(errors))\r\n",
        "\r\n",
        "plt.plot(POW, E)"
      ],
      "execution_count": null,
      "outputs": [
        {
          "output_type": "execute_result",
          "data": {
            "text/plain": [
              "[<matplotlib.lines.Line2D at 0x7fd8d3feda90>]"
            ]
          },
          "metadata": {
            "tags": []
          },
          "execution_count": 122
        },
        {
          "output_type": "display_data",
          "data": {
            "image/png": "[encoded data removed]",
            "text/plain": [
              "<Figure size 432x288 with 1 Axes>"
            ]
          },
          "metadata": {
            "tags": [],
            "needs_background": "light"
          }
        }
      ]
    },
    {
      "cell_type": "markdown",
      "metadata": {
        "id": "DkFBZE1KfcXa"
      },
      "source": [
        "**(0.5 балла) Обязательное задание 5:** Сделайте то же самое для L2-регуляризации:"
      ]
    },
    {
      "cell_type": "code",
      "metadata": {
        "id": "LEvGDEjqfcXa",
        "colab": {
          "base_uri": "https://localhost:8080/",
          "height": 293
        },
        "outputId": "c2cdbad3-f1f1-4a34-d93f-a5e039cbcd59"
      },
      "source": [
        "### ваш код здесь\r\n",
        "# L2\r\n",
        "from sklearn.linear_model import Ridge\r\n",
        "\r\n",
        "E = []\r\n",
        "POW = np.arange(1,20)\r\n",
        "\r\n",
        "for i in POW:\r\n",
        "  errors = -cross_val_score(Ridge(alpha=i), X, y, cv=5, scoring='neg_mean_squared_error')\r\n",
        "  E.append(np.average(errors))\r\n",
        "\r\n",
        "plt.plot(POW, E)"
      ],
      "execution_count": null,
      "outputs": [
        {
          "output_type": "execute_result",
          "data": {
            "text/plain": [
              "[<matplotlib.lines.Line2D at 0x7fd8d3f65a90>]"
            ]
          },
          "metadata": {
            "tags": []
          },
          "execution_count": 123
        },
        {
          "output_type": "display_data",
          "data": {
            "image/png": "[encoded data removed]",
            "text/plain": [
              "<Figure size 432x288 with 1 Axes>"
            ]
          },
          "metadata": {
            "tags": [],
            "needs_background": "light"
          }
        }
      ]
    },
    {
      "cell_type": "markdown",
      "metadata": {
        "id": "Sssdlsq0fcXa"
      },
      "source": [
        "Если всё было правильно, то данные манипуляции помогут немного улучшить качество вашей модели. Это поднимет вас на несколько мест в соревнованиях, или вашему работодателю даст побольше прибыли."
      ]
    },
    {
      "cell_type": "markdown",
      "metadata": {
        "id": "k-xHGo-1fcXa"
      },
      "source": [
        "### Основное домашнее задание (6 баллов + гешефт за улучшения)"
      ]
    },
    {
      "cell_type": "code",
      "metadata": {
        "id": "7KRi_26HfcXb"
      },
      "source": [
        "import numpy as np\n",
        "import pandas as pd\n",
        "import matplotlib.pyplot as plt\n",
        "\n",
        "%matplotlib inline"
      ],
      "execution_count": null,
      "outputs": []
    },
    {
      "cell_type": "markdown",
      "metadata": {
        "id": "_7qsiSySfcXb"
      },
      "source": [
        "Для домашнего задания вы используете другой датасет."
      ]
    },
    {
      "cell_type": "code",
      "metadata": {
        "id": "-Bxo_93lfcXb",
        "colab": {
          "base_uri": "https://localhost:8080/",
          "height": 402
        },
        "outputId": "090243fa-d07d-494d-fcb0-d0864958f9f8"
      },
      "source": [
        "data = pd.read_csv('diabetes.data.csv', sep='\\t')\n",
        "data"
      ],
      "execution_count": null,
      "outputs": [
        {
          "output_type": "execute_result",
          "data": {
            "text/html": [
              "<div>\n",
              "<style scoped>\n",
              "    .dataframe tbody tr th:only-of-type {\n",
              "        vertical-align: middle;\n",
              "    }\n",
              "\n",
              "    .dataframe tbody tr th {\n",
              "        vertical-align: top;\n",
              "    }\n",
              "\n",
              "    .dataframe thead th {\n",
              "        text-align: right;\n",
              "    }\n",
              "</style>\n",
              "<table border=\"1\" class=\"dataframe\">\n",
              "  <thead>\n",
              "    <tr style=\"text-align: right;\">\n",
              "      <th></th>\n",
              "      <th>AGE</th>\n",
              "      <th>SEX</th>\n",
              "      <th>BMI</th>\n",
              "      <th>BP</th>\n",
              "      <th>S1</th>\n",
              "      <th>S2</th>\n",
              "      <th>S3</th>\n",
              "      <th>S4</th>\n",
              "      <th>S5</th>\n",
              "      <th>S6</th>\n",
              "      <th>Y</th>\n",
              "    </tr>\n",
              "  </thead>\n",
              "  <tbody>\n",
              "    <tr>\n",
              "      <th>0</th>\n",
              "      <td>59</td>\n",
              "      <td>2</td>\n",
              "      <td>32.1</td>\n",
              "      <td>101.00</td>\n",
              "      <td>157</td>\n",
              "      <td>93.2</td>\n",
              "      <td>38.0</td>\n",
              "      <td>4.00</td>\n",
              "      <td>4.8598</td>\n",
              "      <td>87</td>\n",
              "      <td>151</td>\n",
              "    </tr>\n",
              "    <tr>\n",
              "      <th>1</th>\n",
              "      <td>48</td>\n",
              "      <td>1</td>\n",
              "      <td>21.6</td>\n",
              "      <td>87.00</td>\n",
              "      <td>183</td>\n",
              "      <td>103.2</td>\n",
              "      <td>70.0</td>\n",
              "      <td>3.00</td>\n",
              "      <td>3.8918</td>\n",
              "      <td>69</td>\n",
              "      <td>75</td>\n",
              "    </tr>\n",
              "    <tr>\n",
              "      <th>2</th>\n",
              "      <td>72</td>\n",
              "      <td>2</td>\n",
              "      <td>30.5</td>\n",
              "      <td>93.00</td>\n",
              "      <td>156</td>\n",
              "      <td>93.6</td>\n",
              "      <td>41.0</td>\n",
              "      <td>4.00</td>\n",
              "      <td>4.6728</td>\n",
              "      <td>85</td>\n",
              "      <td>141</td>\n",
              "    </tr>\n",
              "    <tr>\n",
              "      <th>3</th>\n",
              "      <td>24</td>\n",
              "      <td>1</td>\n",
              "      <td>25.3</td>\n",
              "      <td>84.00</td>\n",
              "      <td>198</td>\n",
              "      <td>131.4</td>\n",
              "      <td>40.0</td>\n",
              "      <td>5.00</td>\n",
              "      <td>4.8903</td>\n",
              "      <td>89</td>\n",
              "      <td>206</td>\n",
              "    </tr>\n",
              "    <tr>\n",
              "      <th>4</th>\n",
              "      <td>50</td>\n",
              "      <td>1</td>\n",
              "      <td>23.0</td>\n",
              "      <td>101.00</td>\n",
              "      <td>192</td>\n",
              "      <td>125.4</td>\n",
              "      <td>52.0</td>\n",
              "      <td>4.00</td>\n",
              "      <td>4.2905</td>\n",
              "      <td>80</td>\n",
              "      <td>135</td>\n",
              "    </tr>\n",
              "    <tr>\n",
              "      <th>...</th>\n",
              "      <td>...</td>\n",
              "      <td>...</td>\n",
              "      <td>...</td>\n",
              "      <td>...</td>\n",
              "      <td>...</td>\n",
              "      <td>...</td>\n",
              "      <td>...</td>\n",
              "      <td>...</td>\n",
              "      <td>...</td>\n",
              "      <td>...</td>\n",
              "      <td>...</td>\n",
              "    </tr>\n",
              "    <tr>\n",
              "      <th>437</th>\n",
              "      <td>60</td>\n",
              "      <td>2</td>\n",
              "      <td>28.2</td>\n",
              "      <td>112.00</td>\n",
              "      <td>185</td>\n",
              "      <td>113.8</td>\n",
              "      <td>42.0</td>\n",
              "      <td>4.00</td>\n",
              "      <td>4.9836</td>\n",
              "      <td>93</td>\n",
              "      <td>178</td>\n",
              "    </tr>\n",
              "    <tr>\n",
              "      <th>438</th>\n",
              "      <td>47</td>\n",
              "      <td>2</td>\n",
              "      <td>24.9</td>\n",
              "      <td>75.00</td>\n",
              "      <td>225</td>\n",
              "      <td>166.0</td>\n",
              "      <td>42.0</td>\n",
              "      <td>5.00</td>\n",
              "      <td>4.4427</td>\n",
              "      <td>102</td>\n",
              "      <td>104</td>\n",
              "    </tr>\n",
              "    <tr>\n",
              "      <th>439</th>\n",
              "      <td>60</td>\n",
              "      <td>2</td>\n",
              "      <td>24.9</td>\n",
              "      <td>99.67</td>\n",
              "      <td>162</td>\n",
              "      <td>106.6</td>\n",
              "      <td>43.0</td>\n",
              "      <td>3.77</td>\n",
              "      <td>4.1271</td>\n",
              "      <td>95</td>\n",
              "      <td>132</td>\n",
              "    </tr>\n",
              "    <tr>\n",
              "      <th>440</th>\n",
              "      <td>36</td>\n",
              "      <td>1</td>\n",
              "      <td>30.0</td>\n",
              "      <td>95.00</td>\n",
              "      <td>201</td>\n",
              "      <td>125.2</td>\n",
              "      <td>42.0</td>\n",
              "      <td>4.79</td>\n",
              "      <td>5.1299</td>\n",
              "      <td>85</td>\n",
              "      <td>220</td>\n",
              "    </tr>\n",
              "    <tr>\n",
              "      <th>441</th>\n",
              "      <td>36</td>\n",
              "      <td>1</td>\n",
              "      <td>19.6</td>\n",
              "      <td>71.00</td>\n",
              "      <td>250</td>\n",
              "      <td>133.2</td>\n",
              "      <td>97.0</td>\n",
              "      <td>3.00</td>\n",
              "      <td>4.5951</td>\n",
              "      <td>92</td>\n",
              "      <td>57</td>\n",
              "    </tr>\n",
              "  </tbody>\n",
              "</table>\n",
              "<p>442 rows × 11 columns</p>\n",
              "</div>"
            ],
            "text/plain": [
              "     AGE  SEX   BMI      BP   S1     S2    S3    S4      S5   S6    Y\n",
              "0     59    2  32.1  101.00  157   93.2  38.0  4.00  4.8598   87  151\n",
              "1     48    1  21.6   87.00  183  103.2  70.0  3.00  3.8918   69   75\n",
              "2     72    2  30.5   93.00  156   93.6  41.0  4.00  4.6728   85  141\n",
              "3     24    1  25.3   84.00  198  131.4  40.0  5.00  4.8903   89  206\n",
              "4     50    1  23.0  101.00  192  125.4  52.0  4.00  4.2905   80  135\n",
              "..   ...  ...   ...     ...  ...    ...   ...   ...     ...  ...  ...\n",
              "437   60    2  28.2  112.00  185  113.8  42.0  4.00  4.9836   93  178\n",
              "438   47    2  24.9   75.00  225  166.0  42.0  5.00  4.4427  102  104\n",
              "439   60    2  24.9   99.67  162  106.6  43.0  3.77  4.1271   95  132\n",
              "440   36    1  30.0   95.00  201  125.2  42.0  4.79  5.1299   85  220\n",
              "441   36    1  19.6   71.00  250  133.2  97.0  3.00  4.5951   92   57\n",
              "\n",
              "[442 rows x 11 columns]"
            ]
          },
          "metadata": {
            "tags": []
          },
          "execution_count": 125
        }
      ]
    },
    {
      "cell_type": "markdown",
      "metadata": {
        "id": "TQNfYV8KfcXb"
      },
      "source": [
        "В датасете приводится информация о пациентах и их состоянии при заболевании диабетом. Описание признаков можно прочитать [здесь](https://www4.stat.ncsu.edu/~boos/var.select/diabetes.html). Колонка Y - целевая переменная:"
      ]
    },
    {
      "cell_type": "code",
      "metadata": {
        "id": "yAubI0UBfcXb",
        "colab": {
          "base_uri": "https://localhost:8080/"
        },
        "outputId": "3ba1d36b-cafa-4b5d-cbb9-39ef2d65809f"
      },
      "source": [
        "target = 'Y'\n",
        "X = data.drop([target], axis=1)\n",
        "y = data[target]\n",
        "\n",
        "X.shape, y.shape"
      ],
      "execution_count": null,
      "outputs": [
        {
          "output_type": "execute_result",
          "data": {
            "text/plain": [
              "((442, 10), (442,))"
            ]
          },
          "metadata": {
            "tags": []
          },
          "execution_count": 126
        }
      ]
    },
    {
      "cell_type": "code",
      "metadata": {
        "colab": {
          "base_uri": "https://localhost:8080/",
          "height": 514
        },
        "id": "c_f67m39MYo5",
        "outputId": "46e1343c-3437-49e3-8941-2bce3556f507"
      },
      "source": [
        "fig, axs = plt.subplots(1, 10, sharey=True)\r\n",
        "data.plot(kind='scatter', x='AGE', y='Y', ax=axs[0], figsize=(16, 8))\r\n",
        "data.plot(kind='scatter', x='SEX', y='Y', ax=axs[1])\r\n",
        "data.plot(kind='scatter', x='BMI', y='Y', ax=axs[2])\r\n",
        "data.plot(kind='scatter', x='BP', y='Y', ax=axs[3])\r\n",
        "data.plot(kind='scatter', x='S1', y='Y', ax=axs[4])\r\n",
        "data.plot(kind='scatter', x='S2', y='Y', ax=axs[5])\r\n",
        "data.plot(kind='scatter', x='S3', y='Y', ax=axs[6])\r\n",
        "data.plot(kind='scatter', x='S4', y='Y', ax=axs[7])\r\n",
        "data.plot(kind='scatter', x='S5', y='Y', ax=axs[8])\r\n",
        "data.plot(kind='scatter', x='S6', y='Y', ax=axs[9])"
      ],
      "execution_count": null,
      "outputs": [
        {
          "output_type": "execute_result",
          "data": {
            "text/plain": [
              "<matplotlib.axes._subplots.AxesSubplot at 0x7fd8d3d46e10>"
            ]
          },
          "metadata": {
            "tags": []
          },
          "execution_count": 127
        },
        {
          "output_type": "display_data",
          "data": {
            "image/png": "[encoded data removed]",
            "text/plain": [
              "<Figure size 1152x576 with 10 Axes>"
            ]
          },
          "metadata": {
            "tags": [],
            "needs_background": "light"
          }
        }
      ]
    },
    {
      "cell_type": "code",
      "metadata": {
        "colab": {
          "base_uri": "https://localhost:8080/"
        },
        "id": "vZSiSv2FPoz4",
        "outputId": "1e518e51-6384-44fe-83ef-33f9c801a407"
      },
      "source": [
        "reg = LinearRegression()\r\n",
        "\r\n",
        "X = data.drop(\"Y\", axis=1)\r\n",
        "y = data[\"Y\"]\r\n",
        "\r\n",
        "\r\n",
        "# Обучаем нашу модель\r\n",
        "reg.fit(X, y)\r\n",
        "\r\n",
        "# Коэффициенты\r\n",
        "print(\"Сдвиг={}\".format(reg.intercept_))\r\n",
        "for column, coef in zip(X.columns, reg.coef_):\r\n",
        "    print(\"Коэффициент для {} = {}\".format(column, coef))"
      ],
      "execution_count": null,
      "outputs": [
        {
          "output_type": "stream",
          "text": [
            "Сдвиг=-334.56713851878817\n",
            "Коэффициент для AGE = -0.03636122422361953\n",
            "Коэффициент для SEX = -22.859648090498382\n",
            "Коэффициент для BMI = 5.602962091923707\n",
            "Коэффициент для BP = 1.1168079933181883\n",
            "Коэффициент для S1 = -1.0899963340632173\n",
            "Коэффициент для S2 = 0.7464504555142071\n",
            "Коэффициент для S3 = 0.3720047150891328\n",
            "Коэффициент для S4 = 6.533831935990336\n",
            "Коэффициент для S5 = 68.48312496478835\n",
            "Коэффициент для S6 = 0.280116989321499\n"
          ],
          "name": "stdout"
        }
      ]
    },
    {
      "cell_type": "code",
      "metadata": {
        "colab": {
          "base_uri": "https://localhost:8080/"
        },
        "id": "RkenTk5vRbFi",
        "outputId": "b57a9de9-0d80-4610-f255-b4d604b2b1fa"
      },
      "source": [
        "y_pred = reg.predict(X)\r\n",
        "\r\n",
        "# Ошибка теперь равна:\r\n",
        "print(mean_squared_error(y_pred, y))"
      ],
      "execution_count": null,
      "outputs": [
        {
          "output_type": "stream",
          "text": [
            "2859.6963475867506\n"
          ],
          "name": "stdout"
        }
      ]
    },
    {
      "cell_type": "code",
      "metadata": {
        "colab": {
          "base_uri": "https://localhost:8080/"
        },
        "id": "2zylaeVIR2M_",
        "outputId": "3a02806c-6aef-47e6-b46b-412df9400d5e"
      },
      "source": [
        "# А можно не париться и попросить sklearn всё сделать за нас\r\n",
        "from sklearn.model_selection import cross_val_score\r\n",
        "\r\n",
        "# Берём с отрицательным знаком, т.к. обычно туда передаётся не функция потерь, которую надо минимизировать\r\n",
        "# А что-то вроде \"функции успеха\", которую надо максимизировать\r\n",
        "errors = -cross_val_score(LinearRegression(), X, y, cv=10, scoring='neg_mean_squared_error')\r\n",
        "print(np.average(errors))"
      ],
      "execution_count": null,
      "outputs": [
        {
          "output_type": "stream",
          "text": [
            "3000.3902901608412\n"
          ],
          "name": "stdout"
        }
      ]
    },
    {
      "cell_type": "code",
      "metadata": {
        "colab": {
          "base_uri": "https://localhost:8080/"
        },
        "id": "vmfM2jnIVXgJ",
        "outputId": "9078a5da-4f5a-48eb-cf3f-1274b7b6f3bd"
      },
      "source": [
        "# L1 and L2\r\n",
        "from sklearn.linear_model import Lasso\r\n",
        "from sklearn.linear_model import Ridge\r\n",
        "\r\n",
        "X = data.drop([\"Y\", \"AGE\", \"S3\", \"S6\"], axis=1)\r\n",
        "\r\n",
        "for i in range(len(y)):\r\n",
        "  X.loc[i, \"MAN\"] = 1 if X.SEX[i] == 1 else 0\r\n",
        "  X.loc[i, \"WOMAN\"] = 1 if X.SEX[i] == 2 else 0\r\n",
        "\r\n",
        "X = X.drop([\"SEX\"], axis=1)\r\n",
        "\r\n",
        "X['MAN_BMI_BP'] = X.MAN * X.BMI * X.BP\r\n",
        "X['WOMAN_BMI_BP'] = X.WOMAN * X.BMI * X.BP\r\n",
        "\r\n",
        "# Обучаем нашу модель\r\n",
        "reg.fit(X, y)\r\n",
        "\r\n",
        "print(\"L2\")\r\n",
        "errors = -cross_val_score(Ridge(), X, y, cv=14, scoring='neg_mean_squared_error')\r\n",
        "print(\"Результат = {}\".format(np.average(errors)))"
      ],
      "execution_count": null,
      "outputs": [
        {
          "output_type": "stream",
          "text": [
            "L2\n",
            "Результат = 2863.118768132161\n"
          ],
          "name": "stdout"
        }
      ]
    },
    {
      "cell_type": "markdown",
      "metadata": {
        "id": "leWdiHga595d"
      },
      "source": [
        "После очень многих попыток удалось получить следующие результаты:\r\n",
        "\r\n",
        "Очень хорошо себя проявил L2 при cv=14 (2986).\r\n",
        "\r\n",
        "После удаления \"AGE\", \"S3\" и \"S6\" результат стал 2937.\r\n",
        "\r\n",
        "Пробовал нормализовать признаки. После нескольких попаток я осознал, что лучше результат не становится (выходило что-то около 2960+).\r\n",
        "\r\n",
        "Попробуем разбить признаки на несколько новых. Это не принесло значительного результата, но мы тем самым разграничили мужчин от женщин. Попробуем дальше играться с признаками.\r\n",
        "\r\n",
        "После вснимательного изучения данных я выделил для себя следующее:\r\n",
        "\r\n",
        "Очень сильно влияют на результат BMI, BP и S5. Причем, из жизненного опыта (и при помощи переводчика), удалось понять, что BMI и BP сильно зависят друг от друга. Поэтому есть смысл обобщить эти признаки.\r\n",
        "\r\n",
        "После долгих мучений, я сумел достичь следующего результата:\r\n",
        "\r\n",
        "2863.12"
      ]
    },
    {
      "cell_type": "markdown",
      "metadata": {
        "id": "OJKzy3uIfcXb"
      },
      "source": [
        "Ваша задача - провести то же исследование, что и в датасете в самом начале (Sales ~ TV, Radio, Newspaper). В итоге, нужно получить модель линейной регрессии, качество которой надо вывести с помощью cross_val_score с метрикой MSE (тоже самое в общем)."
      ]
    },
    {
      "cell_type": "markdown",
      "metadata": {
        "id": "FQiihLubfcXb"
      },
      "source": [
        "За каждое достойное улучшение качества на cross_val_score будут доп. баллы. Не забудьте описать, что использовали, что получилось и нет, а также попробуйте понять почему. Побольше гуглите. "
      ]
    },
    {
      "cell_type": "markdown",
      "metadata": {
        "id": "CFzHUYTSfcXc"
      },
      "source": [
        "Возможные улучшения:\n",
        "* Нормализация данных: вычитаем из каждой колонки её среднее и делим на её дисперсию.\n",
        "* Пробуйте убрать ненужные признаки.\n",
        "* Можно перемножать некоторые признаки.\n",
        "* Погуглите что-то вроде \"improve linear regression\"."
      ]
    },
    {
      "cell_type": "markdown",
      "metadata": {
        "id": "FF5tvY9XfcXc"
      },
      "source": [
        "В общем, представьте, что вы работаете датасаентистом, получаете 300к долларов, а вам сказали, что нужно как можно лучше уметь предсказывать такие данные."
      ]
    }
  ]
}