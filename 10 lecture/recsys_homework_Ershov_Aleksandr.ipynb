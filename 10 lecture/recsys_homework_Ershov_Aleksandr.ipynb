{
 "cells": [
  {
   "cell_type": "markdown",
   "metadata": {},
   "source": [
    "# Домашнее задание по рекомендательным системам"
   ]
  },
  {
   "cell_type": "markdown",
   "metadata": {},
   "source": [
    "В данном домашнем задании вам предлагается реализовать User-based рекомендательную систему. Так же требуется реализовать несколько вспомогательных функций, шаблоны которых вы можете найти в `utils.py`.\n",
    "\n",
    "Требования к выполнению задания:\n",
    "- Реализация функции из `utils.py` засчитывается, только если пройдены все соответствующие тесты из `test.py`. Запуск тестов: <font color='red'>pytest test.py</font>. Для тестов вам потребуются библиотеки `numpy`, `scipy`, `pytest` и `hypothesis`.\n",
    "- Плагиат запрещен. Если будет замечено, что часть задания списана, то 0 баллов ставится как списывающему, так и давшему списать.\n",
    "- Если пользуетесь кодом из открытых источников, то указывайте ссылки, откуда взяли решение. Иначе такой код может быть воспринят как плагиат.\n",
    "- При выполнении задания нельзя использовать библиотеку `scipy` и функцию `numpy.linalg.norm`\n",
    "\n",
    "При запуске тестов могут появиться предупреждения: PearsonRConstantInputWarning и PearsonRNearConstantInputWarning. На них можно не обращать внимания.\n",
    "\n",
    "Возможный максимум баллов за задание: 10 баллов <br>\n",
    "Дедлайн: ??? <br>\n",
    "Штраф: ??? - будет ли в курсе штраф? <br>\n",
    "<br>\n",
    "Для ускорения проверки, напишите здесь получившееся количество баллов: ..."
   ]
  },
  {
   "cell_type": "code",
   "execution_count": 19,
   "metadata": {},
   "outputs": [],
   "source": [
    "#!pip install hypothesis"
   ]
  },
  {
   "cell_type": "markdown",
   "metadata": {},
   "source": [
    "## 1. Метрика сходства\n",
    "<b>1.1. Реализация метрик (2 балла)</b>\n",
    "\n",
    "Первое, с чем необходимо разобраться, при реализации User-based подхода, это с метрикой, с помощью которой будет решаться, насколько похожи пользователи. Вам предлагается реализовать 2 метрики: на основе евклидовой метрики и коэффициент корреляции Пирсона. Шаблоны для обеих функций можете найти в `utils.py`. Не забудьте проверить реализацию на тестах.\n",
    "\n",
    "Евклидова метрика:\n",
    "\\begin{equation}\n",
    "d(p,q)=\\sqrt{(p_1-q_1)^2+(p_2-q_2)^2+\\dots+(p_n-q_n)^2} = \\sqrt{\\sum_{k=1}^n (p_k-q_k)^2}\n",
    "\\end{equation}\n",
    "\n",
    "В этом случае $d(p, q) \\in [0, \\infty)$, при этом если $d(p, q) \\to 0$, то $sim(p, q) \\to 1$. С учетом этого конечная формула будет выглядеть следующим образом:\n",
    "\\begin{equation}\n",
    "sim(p, q) = \\frac{1}{1 + d(p, q)}\n",
    "\\end{equation}\n",
    "Так же в этой формуле не будет проблем с делением на 0.\n",
    "\n",
    "Коэффициент корреляции Пирсона:\n",
    "\\begin{equation}\n",
    "r_{xy} = \\frac {\\sum_{i=1}^{m} \\left( x_i-\\bar{x} \\right)\\left( y_i-\\bar{y} \\right)}{\\sqrt{\\sum_{i=1}^{m} \\left( x_i-\\bar{x} \\right)^2 \\sum_{i=1}^{m} \\left( y_i-\\bar{y} \\right)^2}}\n",
    "\\end{equation}"
   ]
  },
  {
   "cell_type": "code",
   "execution_count": 1,
   "metadata": {},
   "outputs": [],
   "source": [
    "import numpy as np\n",
    "from typing import Optional, Union, Tuple"
   ]
  },
  {
   "cell_type": "code",
   "execution_count": 2,
   "metadata": {},
   "outputs": [],
   "source": [
    "def euclidean_distance(x: np.array, y: np.array) -> float:\n",
    "    \"\"\"\n",
    "    Calculate euclidean distance between points x and y\n",
    "    Args:\n",
    "        x, y: two points in Euclidean n-space\n",
    "    Returns:\n",
    "        Length of the line segment connecting given points\n",
    "    \"\"\"\n",
    "    return sum((x - y) ** 2) ** 0.5\n",
    "    pass\n",
    "\n",
    "\n",
    "def euclidean_similarity(x: np.array, y: np.array) -> float:\n",
    "    \"\"\"\n",
    "    Calculate euclidean similarity between points x and y\n",
    "    Args:\n",
    "        x, y: two points in Euclidean n-space\n",
    "    Returns:\n",
    "        Similarity between points x and y\n",
    "    \"\"\"\n",
    "    return 1 / (1 + euclidean_distance(x, y))\n",
    "    pass\n",
    "\n",
    "\n",
    "def pearson_similarity(x: np.array, y: np.array) -> float:\n",
    "    \"\"\"\n",
    "    Calculate a Pearson correlation coefficient given 1-D data arrays x and y\n",
    "    Args:\n",
    "        x, y: two points in n-space\n",
    "    Returns:\n",
    "        Pearson correlation between x and y\n",
    "    \"\"\"\n",
    "    return sum((x - x.mean()) * (y - y.mean())) / ((sum((x - x.mean()) ** 2) * sum((y - y.mean()) ** 2)) ** 0.5)\n",
    "    pass"
   ]
  },
  {
   "cell_type": "markdown",
   "metadata": {},
   "source": [
    "<b>1.2. (1 балл)</b>\n",
    "\n",
    "Рассмотрим пользователей $u$ и $v$. Им соотвествуют векторы $x_u$ и $x_v$, где $x_u[i] = r_{ui}$ и $x_v[i] = r_{vi}$. Из лекции известно, что похожесть между векторами $x_u$ и $x_v$ вычисляются только для тех индексов i, для которых существует и $r_{ui}$, и $r_{vi}$. То есть верно следуюющее:\n",
    "\\begin{equation}\n",
    "sim(u, v) = sim(x_uI_{uv}, x_vI_{uv}),\n",
    "\\end{equation}\n",
    "где $I_{uv} = [i | \\exists r_{ui} \\& \\exists r_{vi}]$. При этом если $I_{uv} = \\emptyset$, то $sim(u, v) \\to -\\infty$.\n",
    "\n",
    "Реализуйте два новых метода, которые переиспользуют написанные вами `euclidean_distance` и `pearson_distance`, добавляющие условия на $x_u$ и $x_v$. Считается, что $x_u[i] = 0$, если $\\nexists r_{ui}$. То же верно для $x_v$.\n",
    "\n",
    "При реализации заданий можно как написать новые функции, так и использовать декораторы."
   ]
  },
  {
   "cell_type": "code",
   "execution_count": 3,
   "metadata": {},
   "outputs": [],
   "source": [
    "import numpy as np\n",
    "from utils import euclidean_similarity, pearson_similarity"
   ]
  },
  {
   "cell_type": "code",
   "execution_count": 4,
   "metadata": {},
   "outputs": [],
   "source": [
    "def del_zeros(x: np.array, y: np.array):\n",
    "    tmp_1 = list(map(lambda el: el != 0, x))\n",
    "    tmp_2 = list(map(lambda el: el != 0, y))\n",
    "    mask = np.array([tmp_1[i] and tmp_2[i] for i in range(len(tmp_1))])\n",
    "    return x[mask], y[mask]\n",
    "\n",
    "def euclidean_similarity_edit(x: np.array, y: np.array) -> float:\n",
    "    x, y = del_zeros(x, y)\n",
    "    if len(x) == 0:\n",
    "        return -np.inf\n",
    "    return 1 / (1 + euclidean_distance(x, y))\n",
    "    pass\n",
    "\n",
    "\n",
    "def pearson_similarity_edit(x: np.array, y: np.array) -> float:\n",
    "    x, y = del_zeros(x, y)\n",
    "    if len(x) == 0:\n",
    "        return -np.inf\n",
    "    return sum((x - x.mean()) * (y - y.mean())) / ((sum((x - x.mean()) ** 2) * sum((y - y.mean()) ** 2)) ** 0.5)\n",
    "    pass\n"
   ]
  },
  {
   "cell_type": "code",
   "execution_count": 5,
   "metadata": {},
   "outputs": [
    {
     "name": "stdout",
     "output_type": "stream",
     "text": [
      "-inf\n",
      "-inf\n",
      "-inf\n",
      "-inf\n"
     ]
    }
   ],
   "source": [
    "a = np.array([0,0,0])\n",
    "b = np.array([0,0,0])\n",
    "\n",
    "print(euclidean_similarity_edit(a, b))\n",
    "print(pearson_similarity_edit(a, b))\n",
    "\n",
    "\n",
    "print(euclidean_similarity_edit(a, b))\n",
    "print(pearson_similarity_edit(a, b))"
   ]
  },
  {
   "cell_type": "code",
   "execution_count": 24,
   "metadata": {},
   "outputs": [
    {
     "name": "stdout",
     "output_type": "stream",
     "text": [
      "============================= test session starts =============================\n",
      "platform win32 -- Python 3.8.5, pytest-6.1.1, py-1.9.0, pluggy-0.13.1\n",
      "rootdir: C:\\Users\\Александр\\Desktop\\тинькофф\\10 lecture\n",
      "plugins: hypothesis-6.12.0\n",
      "collected 11 items\n",
      "\n",
      "test.py ...........                                                      [100%]\n",
      "\n",
      "============================== warnings summary ===============================\n",
      "D:\\anaconda3\\lib\\site-packages\\pyreadline\\py3k_compat.py:8\n",
      "  D:\\anaconda3\\lib\\site-packages\\pyreadline\\py3k_compat.py:8: DeprecationWarning: Using or importing the ABCs from 'collections' instead of from 'collections.abc' is deprecated since Python 3.3, and in 3.9 it will stop working\n",
      "    return isinstance(x, collections.Callable)\n",
      "\n",
      "test.py::test_pearson_similarity\n",
      "  C:\\Users\\Александр\\Desktop\\тинькофф\\10 lecture\\utils.py:16: RuntimeWarning: invalid value encountered in double_scalars\n",
      "    return sum((x - x.mean()) * (y - y.mean())) / ((sum((x - x.mean()) ** 2) * sum((y - y.mean()) ** 2)) ** 0.5)\n",
      "\n",
      "test.py::test_pearson_similarity\n",
      "  D:\\anaconda3\\lib\\site-packages\\scipy\\stats\\stats.py:3845: PearsonRConstantInputWarning: An input array is constant; the correlation coefficent is not defined.\n",
      "    warnings.warn(PearsonRConstantInputWarning())\n",
      "\n",
      "-- Docs: https://docs.pytest.org/en/stable/warnings.html\n",
      "======================= 11 passed, 3 warnings in 3.37s ========================\n"
     ]
    }
   ],
   "source": [
    "!pytest test.py"
   ]
  },
  {
   "cell_type": "code",
   "execution_count": null,
   "metadata": {},
   "outputs": [],
   "source": [
    "#benhamner/Metrics git"
   ]
  },
  {
   "cell_type": "markdown",
   "metadata": {},
   "source": [
    "## 2. User-based method\n",
    "<b>2.1. (3 балла)</b> \n",
    "\n",
    "Реализовать User-based подход, реализовав методы класса `UserBasedRecommendation`, основанного на использовании `NearestNeighbors`. В качестве метрики может для нахождения похожих пользователей может быть использована как евклидова метрика, так и коэффициент корреляции Пирсона.\n",
    "\n",
    "Не забывайте, что `NearestNeighbors` ищет минимум расстояния между элементами, поэтому логично в качестве метрики при инициализации `NearestNeighbors` использовать обратную метрике схожести. То есть такую, что когда $sim(u, v) \\to 1$, то $d(u, v) \\to 0$. Например: $d(u, v) = 1 - sim(u, v)$"
   ]
  },
  {
   "cell_type": "code",
   "execution_count": 14,
   "metadata": {},
   "outputs": [],
   "source": [
    "from sklearn.neighbors import NearestNeighbors\n",
    "from typing import Optional\n",
    "\n",
    "from collections import Counter\n",
    "\n",
    "\n",
    "class UserBasedRecommendation:\n",
    "    def __init__(self, metric: str = 'euclidean', n_recommendations: int = 5, alpha: float = 0.8):\n",
    "        \"\"\"\n",
    "        Args:\n",
    "            metric: name of metric: ['euclidean', 'pearson']\n",
    "            n_recommendations: number of recommendations. Also can be specified self.make_recommendation\n",
    "            alpha: similarity threshold: if sim(u, v) > alpha then u and v are similar\n",
    "        \"\"\"\n",
    "        self.metric_ = metric\n",
    "        self.n_recommendations_ = n_recommendations\n",
    "        self.alpha_ = alpha\n",
    "        pass\n",
    "    \n",
    "    def sim(self, x: np.array, y: np.array) -> float:\n",
    "        if self.metric_ == 'euclidean':\n",
    "            return euclidean_similarity_edit(x, y)\n",
    "        elif self.metric_ == 'pearson':\n",
    "            return pearson_similarity_edit(x, y)\n",
    "\n",
    "    def fit(self, X: np.array):\n",
    "        \"\"\"\n",
    "        Args:\n",
    "            X: matrix N x M where X[u, i] = r_{ui} if r_{ui} exists else X[u, i] = 0\n",
    "        \"\"\"\n",
    "        N = len(X)\n",
    "        self.data = np.array([np.array([1 - sim(X[i], X[j]) if i != j else np.inf for j in range(N)]) for i in range(N)])\n",
    "        pass\n",
    "\n",
    "    def _find_closest_users(self, user_id: int, n_closest_users: int):\n",
    "        self.data = self.data[np.argsort(self.data[:, user_id])]\n",
    "        tmp_data = np.array([[i, d] for i, d in enumerate(self.data[:, user_id])])\n",
    "        tmp_arr = tmp_arr[tmp_arr[:, 1].argsort()]\n",
    "        return tmp_data[:n_closest_users, :]\n",
    "        pass\n",
    "\n",
    "    def make_recommendation(self, user_id: int, n_recommendations: Optional[int] = None):\n",
    "        \"\"\"\n",
    "        Args:\n",
    "            user_id: user id to whom you want to recommend\n",
    "            n_recommendations: number of recommendations\n",
    "        \"\"\"\n",
    "        tmp_rec_id = _find_closest_users(user_id, n_recommendations)\n",
    "        rec_id = []\n",
    "        for i in range(user_id):\n",
    "            if 1 - tmp_rec_id[i, 1] > self.alpha:\n",
    "                rec_id.append(int(tmp_rec_id[i, 0]))\n",
    "        return np.array(rec_id)\n",
    "        pass"
   ]
  },
  {
   "cell_type": "code",
   "execution_count": 55,
   "metadata": {},
   "outputs": [
    {
     "data": {
      "text/plain": [
       "array([1., 9., 7., 0.])"
      ]
     },
     "execution_count": 55,
     "metadata": {},
     "output_type": "execute_result"
    }
   ],
   "source": [
    "import numpy as np\n",
    "\n",
    "arr = np.array([[-0.30565392, -0.96605562],\n",
    "                [ 0.85331367, -2.62963495],\n",
    "                [ 0.87839643, -0.28283675],\n",
    "                [ 0.72676698,  0.93213482],\n",
    "                [-0.52007354,  0.27752806],\n",
    "                [-0.08701666,  0.22764316],\n",
    "                [-1.78897817,  0.50737573],\n",
    "                [ 0.62260038, -1.96012161],\n",
    "                [-1.98231706,  0.36523876],\n",
    "                [-1.07587382, -2.3022289 ]])\n",
    "\n",
    "tmp_arr = np.array([[i, p] for i, p in enumerate(arr[:, 1])])\n",
    "\n",
    "tmp_arr = tmp_arr[tmp_arr[:, 1].argsort()]\n",
    "\n",
    "tmp_arr[:4,0]"
   ]
  },
  {
   "cell_type": "code",
   "execution_count": 18,
   "metadata": {},
   "outputs": [
    {
     "data": {
      "text/plain": [
       "'euclidean'"
      ]
     },
     "execution_count": 18,
     "metadata": {},
     "output_type": "execute_result"
    }
   ],
   "source": [
    "a = UserBasedRecommendation()\n",
    "\n",
    "a.metric_"
   ]
  },
  {
   "cell_type": "markdown",
   "metadata": {},
   "source": [
    "<b>2.2. (1 балла)</b>\n",
    "\n",
    "Приведите пример, для которого использование разных метрик будет давать разные рекомендации. Объясните свой пример."
   ]
  },
  {
   "cell_type": "code",
   "execution_count": 33,
   "metadata": {},
   "outputs": [
    {
     "name": "stdout",
     "output_type": "stream",
     "text": [
      "0.05217599429965031 -1.0\n",
      "0.4142135623730951 0.8\n"
     ]
    }
   ],
   "source": [
    "#Например:\n",
    "\n",
    "a = np.array([i for i in range(10)])\n",
    "b = np.array([i for i in range(9, -1, -1)])\n",
    "\n",
    "print(euclidean_similarity(a, b), pearson_similarity(a, b))\n",
    "\n",
    "#наборы одинаковы, с точностью до перестановки, что прекрасно определяет коэфф. Пирсона\n",
    "#в отличие от Евклидового рассотяния\n",
    "\n",
    "a = np.array([1,2,3,4])\n",
    "b = np.array([1,3,2,4])\n",
    "\n",
    "print(euclidean_similarity(a, b), pearson_similarity(a, b))\n",
    "\n",
    "#оба примера показываеют, что Пирсон спасает, если нам необходимо из двух наборово векторов определить схожесть\n",
    "#с учетом того, что порядок координат не важен. Если сравнивать категорично (в Евклидовом смысле), то мы получим \n",
    "#существенные отклонения"
   ]
  },
  {
   "cell_type": "markdown",
   "metadata": {},
   "source": [
    "<b>Объяснение:</b> Для ясности пронумеруем товары с 0. Видно, что третьему пользователю так же как и второму больше понравился товар 1 и чуть меньше понравился товар 2, тогда как первому пользователю оба эти товары не сильно понравились, причем товар 1 ему понравился меньше, чем товар 2, то есть наблюдается обратная завизимость. Но все эти факторы никак не учитываются при использовании евклидовой метрики, поэтому в первом случае алгоритм посчитал, что первый и третий пользователь похожи только по тому, что они ставят оценки примерно в одном и том отрезке: {0, 1}, что является довольно странным предположением. А алгоритм, использующий коэффициент корреляции Пирсона учитывает эти факторы, поэтому находит третьему пользователю соседа со схожими интересами в виде второго пользователя. Отсюда получаем разные рекомендации."
   ]
  },
  {
   "cell_type": "markdown",
   "metadata": {},
   "source": [
    "## 3. Оценка качества\n",
    "<b>3.1. (1 балл)</b>\n",
    "\n",
    "Реализуйте Average Precision at k и Mean Average Precision at k. Шаблоны можете найти в `utils.py`.\n",
    "\\begin{align*}\n",
    "AP@K = \\frac{1}{m}\\sum_{k=1}^K P(k)*rel(k), \\\\\n",
    "MAP@K = \\frac{1}{|U|}\\sum_{u=1}^{|U|}(AP@K)_u\n",
    "\\end{align*}\n",
    "где $P(k)$ - Precision at k, $rel(k) = 1$, если рекомендация релевантна, иначе $rel(k) = 0$."
   ]
  },
  {
   "cell_type": "code",
   "execution_count": 20,
   "metadata": {},
   "outputs": [],
   "source": [
    "def apk(actual: np.array, predicted: np.array, k: int = 10) -> float:\n",
    "    \"\"\"\n",
    "    Compute the average precision at k\n",
    "    Args:\n",
    "        actual: a list of elements that are to be predicted (order doesn't matter)\n",
    "        predicted: a list of predicted elements (order does matter)\n",
    "        k: the maximum number of predicted elements\n",
    "    Returns:\n",
    "        The average precision at k over the input lists\n",
    "    \"\"\"\n",
    "    if k < len(predicted):\n",
    "        predicted = predicted[:k]\n",
    "\n",
    "    score = 0\n",
    "    num_hits = 0\n",
    "\n",
    "    for i, p in enumerate(predicted):\n",
    "        if p in actual and p not in predicted[:i]:\n",
    "            num_hits += 1\n",
    "            score += num_hits / (i + 1)\n",
    "\n",
    "    if not num_hits:\n",
    "        return 0\n",
    "\n",
    "    return score / min(len(actual), k)\n",
    "    pass\n",
    "\n",
    "\n",
    "def mapk(actual: np.array, predicted: np.array, k: int = 10) -> float:\n",
    "    \"\"\"\n",
    "    Compute the mean average precision at k\n",
    "    Args:\n",
    "        actual: a list of lists of elements that are to be predicted\n",
    "        predicted: a list of lists of predicted elements\n",
    "        k: the maximum number of predicted elements\n",
    "    Returns:\n",
    "        The mean average precision at k over the input lists\n",
    "    \"\"\"\n",
    "    return np.mean([apk(a, p, k) for a, p in zip(actual, predicted)])\n",
    "    pass"
   ]
  },
  {
   "cell_type": "markdown",
   "metadata": {},
   "source": [
    "## 4. Применение модели\n",
    "<b>4.1. (2 балла)</b>\n",
    "\n",
    "Выгрузите датасет `ratings_small.csv`: https://www.kaggle.com/rounakbanik/the-movies-dataset#ratings_small.csv"
   ]
  },
  {
   "cell_type": "code",
   "execution_count": null,
   "metadata": {},
   "outputs": [],
   "source": [
    "import pandas as pd\n",
    "from sklearn.model_selection import train_test_split"
   ]
  },
  {
   "cell_type": "code",
   "execution_count": null,
   "metadata": {},
   "outputs": [],
   "source": [
    "data = pd.read_csv('ratings_small.csv', index_col=False)\n",
    "data.shape"
   ]
  },
  {
   "cell_type": "code",
   "execution_count": null,
   "metadata": {},
   "outputs": [],
   "source": [
    "data.userId.min(), data.userId.max(), len(data.userId.unique())"
   ]
  },
  {
   "cell_type": "code",
   "execution_count": null,
   "metadata": {},
   "outputs": [],
   "source": [
    "data.movieId.min(), data.movieId.max(), len(data.movieId.unique())"
   ]
  },
  {
   "cell_type": "markdown",
   "metadata": {},
   "source": [
    "Для простоты работы с данными, измените нумерацию пользователей и фильмов так, чтобы нумерация начиналась с 0 и шла непрерывно."
   ]
  },
  {
   "cell_type": "code",
   "execution_count": null,
   "metadata": {},
   "outputs": [],
   "source": [
    "# your code (ﾉ>ω<)ﾉ :｡･:*:･ﾟ’★,｡･:*:･ﾟ’☆\n",
    "pass"
   ]
  },
  {
   "cell_type": "code",
   "execution_count": null,
   "metadata": {},
   "outputs": [],
   "source": [
    "data.userId.min(), data.userId.max(), len(data.userId.unique())"
   ]
  },
  {
   "cell_type": "code",
   "execution_count": null,
   "metadata": {},
   "outputs": [],
   "source": [
    "data.movieId.min(), data.movieId.max(), len(data.movieId.unique())"
   ]
  },
  {
   "cell_type": "markdown",
   "metadata": {},
   "source": [
    "Удалим для наиболее активных пользователей 5 оценок"
   ]
  },
  {
   "cell_type": "code",
   "execution_count": null,
   "metadata": {},
   "outputs": [],
   "source": [
    "active_users = data.userId.value_counts()[:10].index\n",
    "test_data = pd.DataFrame([], columns=data.columns)\n",
    "for user_id in active_users:\n",
    "    _, test = train_test_split(data[data.userId == user_id], test_size=5, random_state=42)\n",
    "    test_data = test_data.append(test, ignore_index=True)\n",
    "    data = data[~((data.userId == user_id) & (data.movieId.isin(test.movieId.values)))]\n",
    "data.shape, test_data.shape"
   ]
  },
  {
   "cell_type": "markdown",
   "metadata": {},
   "source": [
    "Преобразуем данные в таблицу `X`, с которой может работать `UserBasedRecommendation`, где $X_{ui} = r_{ui}$, если пользователь $u$ поставил оценку фильму $i$, и $X_{ui} = 0$, если пользователь $u$ не проставил оценку фильму $i$.\n",
    "\n",
    "Вам может пригодиться `csr_matrix`."
   ]
  },
  {
   "cell_type": "code",
   "execution_count": null,
   "metadata": {},
   "outputs": [],
   "source": [
    "# your code (ﾉ>ω<)ﾉ :｡･:*:･ﾟ’★,｡･:*:･ﾟ’☆\n",
    "pass"
   ]
  },
  {
   "cell_type": "markdown",
   "metadata": {},
   "source": [
    "Для пользователей, у которых были удалены фильмы, найдите топ 100 фильмов, который должен посмотреть каждый из этих пользователей, используя `UserBasedRecommendation`. Не забудьте подобрать параметр alpha."
   ]
  },
  {
   "cell_type": "code",
   "execution_count": null,
   "metadata": {},
   "outputs": [],
   "source": [
    "# your code (ﾉ>ω<)ﾉ :｡･:*:･ﾟ’★,｡･:*:･ﾟ’☆\n",
    "pass"
   ]
  },
  {
   "cell_type": "markdown",
   "metadata": {},
   "source": [
    "Используя метрику `MAP@5`, `MAP@10` и `MAP@100`, определите, насколько эффективна user-based рекомендательная система для данной задачи."
   ]
  },
  {
   "cell_type": "code",
   "execution_count": null,
   "metadata": {},
   "outputs": [],
   "source": [
    "from utils import mapk"
   ]
  },
  {
   "cell_type": "code",
   "execution_count": null,
   "metadata": {},
   "outputs": [],
   "source": [
    "# your code (ﾉ>ω<)ﾉ :｡･:*:･ﾟ’★,｡･:*:･ﾟ’☆\n",
    "pass"
   ]
  },
  {
   "cell_type": "markdown",
   "metadata": {},
   "source": [
    "Как можно улучшить работу модели?\n",
    "\n",
    "<b>Ответ:</b>..."
   ]
  }
 ],
 "metadata": {
  "kernelspec": {
   "display_name": "Python 3",
   "language": "python",
   "name": "python3"
  },
  "language_info": {
   "codemirror_mode": {
    "name": "ipython",
    "version": 3
   },
   "file_extension": ".py",
   "mimetype": "text/x-python",
   "name": "python",
   "nbconvert_exporter": "python",
   "pygments_lexer": "ipython3",
   "version": "3.8.5"
  }
 },
 "nbformat": 4,
 "nbformat_minor": 4
}
