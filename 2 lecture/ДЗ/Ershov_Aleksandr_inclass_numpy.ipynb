{
  "nbformat": 4,
  "nbformat_minor": 0,
  "metadata": {
    "kernelspec": {
      "display_name": "Python 3",
      "language": "python",
      "name": "python3"
    },
    "language_info": {
      "codemirror_mode": {
        "name": "ipython",
        "version": 3
      },
      "file_extension": ".py",
      "mimetype": "text/x-python",
      "name": "python",
      "nbconvert_exporter": "python",
      "pygments_lexer": "ipython3",
      "version": "3.7.4"
    },
    "colab": {
      "name": "Ershov_Aleksandr_inclass_numpy.ipynb",
      "provenance": [],
      "collapsed_sections": []
    }
  },
  "cells": [
    {
      "cell_type": "markdown",
      "metadata": {
        "id": "0MVeQwPq9KuA"
      },
      "source": [
        "# ML T-Generation Занятие 2: Data Wrangling Основы работы с векторными данными и визуализацией. NumPy"
      ]
    },
    {
      "cell_type": "markdown",
      "metadata": {
        "id": "hSw8dNg29KuC"
      },
      "source": [
        "## Пример задач"
      ]
    },
    {
      "cell_type": "markdown",
      "metadata": {
        "id": "IquUgHAZ9KuD"
      },
      "source": [
        "Давайте рассмотрим пример решения одной из задач на сайте kaggle и постараемся ее проанализировать.\n"
      ]
    },
    {
      "cell_type": "markdown",
      "metadata": {
        "id": "THp6xckT9KuD"
      },
      "source": [
        "https://www.kaggle.com/madhulekha/a-comprehensive-solution-to-your-first-ml-problem"
      ]
    },
    {
      "cell_type": "markdown",
      "metadata": {
        "id": "2qFQl-WG9KuE"
      },
      "source": [
        "Как видите, изучение данных и генерация признаков занимает большую часть решения. Это нормально."
      ]
    },
    {
      "cell_type": "markdown",
      "metadata": {
        "id": "T__0I0MV9KuE"
      },
      "source": [
        "## Numpy"
      ]
    },
    {
      "cell_type": "markdown",
      "metadata": {
        "id": "VBNanhya9KuE"
      },
      "source": [
        "Библиотека предназаченная для работы с массивами. Очевидный вопрос-почему не встроенные массивы python. Давайте сразу на примере посмотрим, почему"
      ]
    },
    {
      "cell_type": "code",
      "metadata": {
        "id": "hAmfdU5J9KuF"
      },
      "source": [
        "import numpy as np"
      ],
      "execution_count": 1,
      "outputs": []
    },
    {
      "cell_type": "code",
      "metadata": {
        "id": "NzeruWqI9KuF"
      },
      "source": [
        "%timeit [i**2 for i in range(1000)]"
      ],
      "execution_count": null,
      "outputs": []
    },
    {
      "cell_type": "code",
      "metadata": {
        "id": "eOIKAkoN9KuF"
      },
      "source": [
        "%timeit np.arange(1000)**2"
      ],
      "execution_count": null,
      "outputs": []
    },
    {
      "cell_type": "markdown",
      "metadata": {
        "id": "cbVO8t909KuG"
      },
      "source": [
        "Разница существенная"
      ]
    },
    {
      "cell_type": "markdown",
      "metadata": {
        "id": "0_SaZk9z9KuG"
      },
      "source": [
        "### Справка"
      ]
    },
    {
      "cell_type": "markdown",
      "metadata": {
        "id": "AqJioiBg9KuG"
      },
      "source": [
        "В 1995 году программист Jim Hugunin написал библиотеку Numeric для языка Python. Библиотека развивалась при участии многих людей, среди которых были Jim Fulton, David Ascher, Paul DuBois и Konrad Hinsen. Библиотека доступна по сей день, считается вполне стабильной и полной, но устаревшей.\n",
        "\n",
        "Предлагалось добавить Numeric в стандартную библиотеку языка Python, но Гвидо Ван Россум (автор Python) чётко дал понять, что код в его тогдашнем состоянии было невозможно поддерживать.\n",
        "\n",
        "Кроме того, библиотека Numeric медленно обрабатывала большие массивы данных.\n",
        "\n",
        "На основе библиотеки Numeric была создана библиотека NumArray. Код Numeric был полностью переписан.\n",
        "\n",
        "Библиотека NumArray обрабатывала большие массивы данных быстрее библиотеки Numeric, но малые массивы обрабатывала медленнее.\n",
        "\n",
        "Некоторое время использовалась и библиотека Numeric, и библиотека NumArray. Последняя версия Numeric (v24.2) была выпущена 11 ноября 2005 года. Последняя версия NumArray (v1.5.2) вышла 24 августа 2006 года. Библиотека NumArray более не рекомендуется к использованию.\n",
        "\n",
        "В начале 2005 года программист Трэвис Олифант захотел объединить сообщество вокруг одного проекта и для замены библиотек Numeric и NumArray создал библиотеку NumPy. NumPy был создан на основе кода Numeric. Код Numeric был переписан так, чтобы его было легче поддерживать, и в библиотеку можно было добавить новые возможности. Возможности NumArray были добавлены в NumPy.\n",
        "\n",
        "Изначально NumPy был частью библиотеки SciPy. Чтобы позволить другим проектам использовать библиотеку NumPy, её код был помещён в отдельный пакет.\n",
        "\n",
        "Исходный код NumPy находится в открытом доступе. Существует большое количество документации. Имеется даже подробный «Путеводитель по NumPy».\n",
        "\n",
        "NumPy v1.3.0 выпущен 5 апреля 2009 года и поддерживает Python v2.6. Поддержка Python v3 была добавлена начиная с версии 1.5.0."
      ]
    },
    {
      "cell_type": "markdown",
      "metadata": {
        "id": "SRVxa2tE9KuH"
      },
      "source": [
        "http://www.numpy.org"
      ]
    },
    {
      "cell_type": "markdown",
      "metadata": {
        "id": "SHr-dtMc9KuH"
      },
      "source": [
        "### Шпаргалка"
      ]
    },
    {
      "cell_type": "markdown",
      "metadata": {
        "id": "pBjjtDT99KuH"
      },
      "source": [
        "В Numpy большой набор стандартных функций, которые помогают реализовывать даже самые сложные операции. Для того что бы не тратить время на написание собственных функций, будет полезно иметь шпаргалку с основными полезными"
      ]
    },
    {
      "cell_type": "code",
      "metadata": {
        "id": "2bhLwCxU9KuI"
      },
      "source": [
        "from IPython.display import Image\n",
        "Image('numpy.png') "
      ],
      "execution_count": null,
      "outputs": []
    },
    {
      "cell_type": "code",
      "metadata": {
        "id": "5PIm3aOP9KuI"
      },
      "source": [
        "# немного хитростей jupyter - двойным табом, можно вызвать документацию\n",
        "# np."
      ],
      "execution_count": null,
      "outputs": []
    },
    {
      "cell_type": "code",
      "metadata": {
        "id": "dvLsfHYC9KuI"
      },
      "source": [
        "a = np.array([1,3,4,5])\n",
        "a"
      ],
      "execution_count": null,
      "outputs": []
    },
    {
      "cell_type": "markdown",
      "metadata": {
        "id": "Ra8I9msM9KuI"
      },
      "source": [
        "смотрим размерность массива"
      ]
    },
    {
      "cell_type": "code",
      "metadata": {
        "id": "2u46Mqlc9KuI"
      },
      "source": [
        "a.ndim"
      ],
      "execution_count": null,
      "outputs": []
    },
    {
      "cell_type": "code",
      "metadata": {
        "id": "2S45QMPb9KuJ"
      },
      "source": [
        "# TASK: создать двумерный/трехмерный массив\n",
        "# Ваш код здесь\n",
        "\n",
        "a2 = np.zeros((2,2))\n",
        "a3 = np.zeros((3,3,3))\n",
        "print(a2)\n",
        "print('\\n',a3)"
      ],
      "execution_count": null,
      "outputs": []
    },
    {
      "cell_type": "code",
      "metadata": {
        "id": "48Zxl8fa9KuJ"
      },
      "source": [
        "b = np.array([[1,3,4,5],[1,3,4,5]])\n",
        "b"
      ],
      "execution_count": null,
      "outputs": []
    },
    {
      "cell_type": "markdown",
      "metadata": {
        "id": "bGlOzcTW9KuJ"
      },
      "source": [
        "### Создание массивов"
      ]
    },
    {
      "cell_type": "markdown",
      "metadata": {
        "id": "1IO3Q4FR9KuJ"
      },
      "source": [
        "**На практике мы редко добавляем элементы по одному и нужно создавать матрицу/массив нужной размерности**"
      ]
    },
    {
      "cell_type": "markdown",
      "metadata": {
        "id": "-qTwK0129KuK"
      },
      "source": [
        "- Равномерно распределенные элементы:"
      ]
    },
    {
      "cell_type": "code",
      "metadata": {
        "id": "2qo6Fyss9KuK"
      },
      "source": [
        "a = np.arange(10) # 0 .. n-1  (!)\n",
        "a"
      ],
      "execution_count": null,
      "outputs": []
    },
    {
      "cell_type": "code",
      "metadata": {
        "id": "rptAwnYd9KuK"
      },
      "source": [
        "b = np.arange(1, 11, 2) # начало, конец(не включая), шаг\n",
        "b"
      ],
      "execution_count": null,
      "outputs": []
    },
    {
      "cell_type": "markdown",
      "metadata": {
        "id": "HL9llytJ9KuK"
      },
      "source": [
        "- по числу элементов:"
      ]
    },
    {
      "cell_type": "code",
      "metadata": {
        "id": "BpMD0o2b9KuL"
      },
      "source": [
        "c = np.linspace(0, 1, 6)   # начало, конец, количество точек\n",
        "c"
      ],
      "execution_count": null,
      "outputs": []
    },
    {
      "cell_type": "code",
      "metadata": {
        "id": "sSjb2t-z9KuL"
      },
      "source": [
        "d = np.linspace(0, 1, 5, endpoint=False)\n",
        "d"
      ],
      "execution_count": null,
      "outputs": []
    },
    {
      "cell_type": "markdown",
      "metadata": {
        "id": "nLNnjt9b9KuL"
      },
      "source": [
        "- Часто встречающиеся массивы:"
      ]
    },
    {
      "cell_type": "code",
      "metadata": {
        "id": "W0__imkx9KuL"
      },
      "source": [
        "a = np.ones((3, 3))  \n",
        "a"
      ],
      "execution_count": null,
      "outputs": []
    },
    {
      "cell_type": "code",
      "metadata": {
        "id": "8STvUrca9KuL"
      },
      "source": [
        "b = np.zeros((2, 2))\n",
        "b"
      ],
      "execution_count": null,
      "outputs": []
    },
    {
      "cell_type": "code",
      "metadata": {
        "id": "_DFW4_zj9KuM"
      },
      "source": [
        "c = np.eye(3)\n",
        "c"
      ],
      "execution_count": null,
      "outputs": []
    },
    {
      "cell_type": "code",
      "metadata": {
        "id": "Xo2pQ7E49KuM"
      },
      "source": [
        "d = np.diag(np.array([1, 2, 3, 4]))\n",
        "d"
      ],
      "execution_count": null,
      "outputs": []
    },
    {
      "cell_type": "markdown",
      "metadata": {
        "id": "WXFLXR3A9KuM"
      },
      "source": [
        "* `np.random` генерация случайных чисел:"
      ]
    },
    {
      "cell_type": "code",
      "metadata": {
        "id": "SKuM79R69KuM"
      },
      "source": [
        "a = np.random.rand(4)\n",
        "a  "
      ],
      "execution_count": null,
      "outputs": []
    },
    {
      "cell_type": "code",
      "metadata": {
        "id": "ji90uz559KuM"
      },
      "source": [
        "np.random.seed(42)\n",
        "b = np.random.randn(10)\n",
        "b  "
      ],
      "execution_count": null,
      "outputs": []
    },
    {
      "cell_type": "markdown",
      "metadata": {
        "id": "UljoFGEl9KuM"
      },
      "source": [
        "### Основные типы данных NumPy"
      ]
    },
    {
      "cell_type": "code",
      "metadata": {
        "id": "62ZjcSBn9KuM"
      },
      "source": [
        "import numpy as np"
      ],
      "execution_count": null,
      "outputs": []
    },
    {
      "cell_type": "code",
      "metadata": {
        "id": "-cAo7NBg9KuN"
      },
      "source": [
        "a = np.array([1, 2, 3])\n",
        "a.dtype"
      ],
      "execution_count": null,
      "outputs": []
    },
    {
      "cell_type": "markdown",
      "metadata": {
        "id": "Y2UYf_g59KuN"
      },
      "source": [
        "Точка после числа означает, что это тип данных `float64`"
      ]
    },
    {
      "cell_type": "code",
      "metadata": {
        "id": "XjNCb2h59KuN"
      },
      "source": [
        "b = np.array([1., 2., 3.])\n",
        "b.dtype"
      ],
      "execution_count": null,
      "outputs": []
    },
    {
      "cell_type": "code",
      "metadata": {
        "id": "ZEnLF04q9KuN"
      },
      "source": [
        "c = np.array([\"1\", 2, 3])\n",
        "c.dtype"
      ],
      "execution_count": null,
      "outputs": []
    },
    {
      "cell_type": "code",
      "metadata": {
        "id": "mhTIY71X9KuN"
      },
      "source": [
        "c[1]"
      ],
      "execution_count": null,
      "outputs": []
    },
    {
      "cell_type": "code",
      "metadata": {
        "id": "YR3G0jN39KuN"
      },
      "source": [
        "a = np.ones((3, 3))\n",
        "a"
      ],
      "execution_count": null,
      "outputs": []
    },
    {
      "cell_type": "code",
      "metadata": {
        "id": "F5yX5BTF9KuO"
      },
      "source": [
        "a"
      ],
      "execution_count": null,
      "outputs": []
    },
    {
      "cell_type": "markdown",
      "metadata": {
        "id": "1tdwW3DU9KuO"
      },
      "source": [
        "Прочие типы данных:\n",
        "\n",
        "- Комплексные числа"
      ]
    },
    {
      "cell_type": "code",
      "metadata": {
        "id": "tpsb5tHT9KuO"
      },
      "source": [
        "d = np.array([1+2j, 3+4j, 5+6*1j])\n",
        "d.dtype"
      ],
      "execution_count": null,
      "outputs": []
    },
    {
      "cell_type": "markdown",
      "metadata": {
        "id": "_kwts3mE9KuO"
      },
      "source": [
        " - Bool"
      ]
    },
    {
      "cell_type": "code",
      "metadata": {
        "id": "6mQvfuPZ9KuO"
      },
      "source": [
        "e = np.array([True, False, False, True])\n",
        "e.dtype"
      ],
      "execution_count": null,
      "outputs": []
    },
    {
      "cell_type": "markdown",
      "metadata": {
        "id": "Kt46ILW09KuO"
      },
      "source": [
        "- Строки\n",
        "\n",
        "На строки память выделяется \"жадно\" - по максимальному числу литер в строке. \n",
        "В этом примере на каждую строку выделяется по 7 литер, и тип данных - 'U7'"
      ]
    },
    {
      "cell_type": "code",
      "metadata": {
        "id": "B1kyWVms9KuP"
      },
      "source": [
        "f = np.array([(1,23,4), 'Hello', 'Hallo',])\n",
        "f.dtype"
      ],
      "execution_count": null,
      "outputs": []
    },
    {
      "cell_type": "markdown",
      "metadata": {
        "id": "GYcUzaLT9KuP"
      },
      "source": [
        "### Индексирование массивов и срезы\n",
        "\n",
        "В целом так же, как со встроенными последовательностями Python (например, как со списками)."
      ]
    },
    {
      "cell_type": "markdown",
      "metadata": {
        "id": "WG14KM6w9KuP"
      },
      "source": [
        "**Индексирование**"
      ]
    },
    {
      "cell_type": "code",
      "metadata": {
        "id": "wdbZG1309KuP"
      },
      "source": [
        "a = np.arange(10)\n",
        "a"
      ],
      "execution_count": null,
      "outputs": []
    },
    {
      "cell_type": "code",
      "metadata": {
        "id": "MMmj-lNY9KuP"
      },
      "source": [
        "a[0], a[2], a[-1]"
      ],
      "execution_count": null,
      "outputs": []
    },
    {
      "cell_type": "markdown",
      "metadata": {
        "id": "Ne_4dIHC9KuP"
      },
      "source": [
        "Работает и популярный в Python способ отражения массива:"
      ]
    },
    {
      "cell_type": "code",
      "metadata": {
        "id": "Rwn_I9bP9KuP"
      },
      "source": [
        "a[::-1]"
      ],
      "execution_count": null,
      "outputs": []
    },
    {
      "cell_type": "markdown",
      "metadata": {
        "id": "gxnFdWfp9KuQ"
      },
      "source": [
        "Для многомерных массивов индексы - это кортежи целых чисел. Кортеж, по сути - неизменяемый список."
      ]
    },
    {
      "cell_type": "code",
      "metadata": {
        "id": "ZgeJrmar9KuQ"
      },
      "source": [
        "a = np.diag(np.arange(3))\n",
        "a"
      ],
      "execution_count": null,
      "outputs": []
    },
    {
      "cell_type": "code",
      "metadata": {
        "id": "ocfdWJaU9KuQ"
      },
      "source": [
        "%timeit a[1, 1]"
      ],
      "execution_count": null,
      "outputs": []
    },
    {
      "cell_type": "code",
      "metadata": {
        "id": "PUwyFfrx9KuQ"
      },
      "source": [
        "%timeit a[1][1]"
      ],
      "execution_count": null,
      "outputs": []
    },
    {
      "cell_type": "code",
      "metadata": {
        "id": "H2Nn5DVA9KuQ"
      },
      "source": [
        "a[2, 1] = 10 \n",
        "a"
      ],
      "execution_count": null,
      "outputs": []
    },
    {
      "cell_type": "code",
      "metadata": {
        "id": "-OV_f11G9KuQ"
      },
      "source": [
        "a[1]"
      ],
      "execution_count": null,
      "outputs": []
    },
    {
      "cell_type": "markdown",
      "metadata": {
        "id": "DVgJzqBa9KuR"
      },
      "source": [
        "**Срезы**"
      ]
    },
    {
      "cell_type": "code",
      "metadata": {
        "id": "2DtFFIBt9KuR"
      },
      "source": [
        "a = np.arange(10)\n",
        "a"
      ],
      "execution_count": null,
      "outputs": []
    },
    {
      "cell_type": "code",
      "metadata": {
        "id": "y-ZwzrKK9KuR"
      },
      "source": [
        "a[2:9:3] # [начало:конец:шаг]"
      ],
      "execution_count": null,
      "outputs": []
    },
    {
      "cell_type": "markdown",
      "metadata": {
        "id": "qs1NyCwu9KuR"
      },
      "source": [
        "Последний индекс не включается"
      ]
    },
    {
      "cell_type": "code",
      "metadata": {
        "id": "01WSRajy9KuS"
      },
      "source": [
        "a[:4]"
      ],
      "execution_count": null,
      "outputs": []
    },
    {
      "cell_type": "markdown",
      "metadata": {
        "id": "LTe0rF4T9KuS"
      },
      "source": [
        "Можно совмещать присваивание и срез:"
      ]
    },
    {
      "cell_type": "code",
      "metadata": {
        "id": "O7lbtaDE9KuS"
      },
      "source": [
        "a = np.arange(10)\n"
      ],
      "execution_count": null,
      "outputs": []
    },
    {
      "cell_type": "code",
      "metadata": {
        "id": "J4gAoPgr9KuS"
      },
      "source": [
        "b = np.arange(5)\n",
        "b"
      ],
      "execution_count": null,
      "outputs": []
    },
    {
      "cell_type": "code",
      "metadata": {
        "id": "POOygOHa9KuS"
      },
      "source": [
        "a"
      ],
      "execution_count": null,
      "outputs": []
    },
    {
      "cell_type": "code",
      "metadata": {
        "id": "yDLo6ted9KuS"
      },
      "source": [
        "b[::-1]"
      ],
      "execution_count": null,
      "outputs": []
    },
    {
      "cell_type": "code",
      "metadata": {
        "id": "nD-qiyDk9KuS"
      },
      "source": [
        "a[5:]"
      ],
      "execution_count": null,
      "outputs": []
    },
    {
      "cell_type": "code",
      "metadata": {
        "id": "wXdzOquT9KuT"
      },
      "source": [
        "np.random.seed(3)\n",
        "a = np.random.randint(0, 20, 15)\n",
        "a"
      ],
      "execution_count": null,
      "outputs": []
    },
    {
      "cell_type": "code",
      "metadata": {
        "id": "B6REyMuq9KuT"
      },
      "source": [
        "(a % 3 == 0)"
      ],
      "execution_count": null,
      "outputs": []
    },
    {
      "cell_type": "code",
      "metadata": {
        "id": "Dfg10Jxl9KuT"
      },
      "source": [
        "mask = (a % 3 == 0)\n",
        "extract_from_a = a[mask] \n",
        "extract_from_a           "
      ],
      "execution_count": null,
      "outputs": []
    },
    {
      "cell_type": "markdown",
      "metadata": {
        "id": "lfsR8GDx9KuT"
      },
      "source": [
        "Индексирование маской может быть очень полезным для присваивания значений части элементов массива:"
      ]
    },
    {
      "cell_type": "code",
      "metadata": {
        "id": "G-9OmEh09KuT"
      },
      "source": [
        "a[a % 3 == 0] = -1\n",
        "a"
      ],
      "execution_count": null,
      "outputs": []
    },
    {
      "cell_type": "markdown",
      "metadata": {
        "id": "nbs2yx8X9KuT"
      },
      "source": [
        "Индексирование массивом целых чисел"
      ]
    },
    {
      "cell_type": "code",
      "metadata": {
        "id": "OCYX6PrW9KuU"
      },
      "source": [
        "a = np.arange(0, 100, 10)\n",
        "a"
      ],
      "execution_count": null,
      "outputs": []
    },
    {
      "cell_type": "code",
      "metadata": {
        "id": "hdMeCQxC9KuU"
      },
      "source": [
        "a[[2, 3, 2, 4, 2]]  # тут должен быть питоновский лист"
      ],
      "execution_count": null,
      "outputs": []
    },
    {
      "cell_type": "code",
      "metadata": {
        "id": "SBzXdEHF9KuU"
      },
      "source": [
        "a[[9, 7]] = -100\n",
        "a"
      ],
      "execution_count": null,
      "outputs": []
    },
    {
      "cell_type": "code",
      "metadata": {
        "id": "52jE9oYP9KuU"
      },
      "source": [
        "a = np.arange(10)\n",
        "idx = np.array([[3, 4], [9, 7]])\n",
        "idx.shape\n",
        "idx"
      ],
      "execution_count": null,
      "outputs": []
    },
    {
      "cell_type": "code",
      "metadata": {
        "id": "SCzKtY6N9KuV"
      },
      "source": [
        "a[idx]"
      ],
      "execution_count": null,
      "outputs": []
    },
    {
      "cell_type": "markdown",
      "metadata": {
        "id": "M6IjJjQB9KuV"
      },
      "source": [
        "### Умножение матриц и столбцов"
      ]
    },
    {
      "cell_type": "code",
      "metadata": {
        "id": "ht3DVGE-9KuV"
      },
      "source": [
        "a = np.array([[1, 0], [0, 1]])\n",
        "b = np.array([[4, 1], [2, 2]])\n",
        "r1 = np.dot(a, b)\n",
        "r2 = a.dot(b)\n",
        "\n",
        "print(\"Матрица A:\\n\", a)\n",
        "print(\"Матрица B:\\n\", b)\n",
        "print(\"Результат умножения функцией:\\n\", r1)\n",
        "print(\"Результат умножения методом:\\n\", r2)"
      ],
      "execution_count": null,
      "outputs": []
    },
    {
      "cell_type": "code",
      "metadata": {
        "id": "HE5mtcVP9KuV"
      },
      "source": [
        "a@b"
      ],
      "execution_count": null,
      "outputs": []
    },
    {
      "cell_type": "markdown",
      "metadata": {
        "id": "x0TfHa0s9KuW"
      },
      "source": [
        "Матрицы в `NumPy` можно умножать и на векторы:"
      ]
    },
    {
      "cell_type": "code",
      "metadata": {
        "id": "LHk_wSeU9KuW"
      },
      "source": [
        "c = np.array([1, 2])\n",
        "r3 = b.dot(c)\n",
        "\n",
        "print(\"Матрица:\\n\", b)\n",
        "print(\"Вектор:\\n\", c)\n",
        "print(\"Результат умножения:\\n\", r3)"
      ],
      "execution_count": null,
      "outputs": []
    },
    {
      "cell_type": "markdown",
      "metadata": {
        "id": "r6DdjMVl9KuW"
      },
      "source": [
        "__Обратите внимание:__ операция __`*`__ производит над матрицами покоординатное умножение, а не матричное!"
      ]
    },
    {
      "cell_type": "code",
      "metadata": {
        "scrolled": true,
        "id": "7m8cQvRQ9KuW"
      },
      "source": [
        "r = a * b\n",
        "\n",
        "print(\"Матрица A:\\n\", a)\n",
        "print(\"Матрица B:\\n\", b)\n",
        "print(\"Результат покоординатного умножения через операцию *:\\n\", r)\n",
        "a"
      ],
      "execution_count": null,
      "outputs": []
    },
    {
      "cell_type": "markdown",
      "metadata": {
        "id": "KdLB-S3N9KuW"
      },
      "source": [
        "Более подробно о матричном умножении в `NumPy`\n",
        "см. [документацию](http://docs.scipy.org/doc/numpy-1.10.0/reference/routines.linalg.html#matrix-and-vector-products)."
      ]
    },
    {
      "cell_type": "code",
      "metadata": {
        "id": "n9RKB6_89KuX"
      },
      "source": [
        "# Задание: написать функции выводящие минимум для массива, сумму\n"
      ],
      "execution_count": null,
      "outputs": []
    },
    {
      "cell_type": "code",
      "metadata": {
        "id": "AJC-Eah49KuX"
      },
      "source": [
        "\n",
        "# Ваш код тут\n",
        "def minimum(array):\n",
        "  res = array[0]\n",
        "  for el in array:\n",
        "    if res > el:\n",
        "      res = el\n",
        "  return res\n",
        "\n",
        "def summ(array):\n",
        "  res = 0\n",
        "  for el in array:\n",
        "    res += el\n",
        "  return res\n",
        "\n",
        "print(minimum(np.array([1,2,3,4,5,6,7,8,9,-1])))\n",
        "print(summ(np.arange(101)))"
      ],
      "execution_count": null,
      "outputs": []
    },
    {
      "cell_type": "code",
      "metadata": {
        "id": "11lFdh3M9KuX"
      },
      "source": [
        "a = np.array([1,2,3])\n"
      ],
      "execution_count": null,
      "outputs": []
    },
    {
      "cell_type": "markdown",
      "metadata": {
        "id": "qZvqIZ3A9KuX"
      },
      "source": [
        "# Внимание. Самостоятельная работа"
      ]
    },
    {
      "cell_type": "markdown",
      "metadata": {
        "id": "iPAtllLr9KuY"
      },
      "source": [
        "# Задание по numpy"
      ]
    },
    {
      "cell_type": "code",
      "metadata": {
        "id": "PSTlEsoL9KuY"
      },
      "source": [
        "# 0. Создать нулевой вектор с 5 значений на 5 позиции 5\n",
        "# Ваш код здесь\n",
        "a = np.array([0 for i in range(4)]+[5])\n",
        "a"
      ],
      "execution_count": null,
      "outputs": []
    },
    {
      "cell_type": "code",
      "metadata": {
        "colab": {
          "base_uri": "https://localhost:8080/"
        },
        "id": "zZLJueOl9KuY",
        "outputId": "714ae6eb-530b-4401-c45a-9c9f07d376d0"
      },
      "source": [
        "# 1. Создать матрицу 3*3 со значениями от 0 до 8\n",
        "# Ваш код здесь\n",
        "a = np.arange(9).reshape(3,3)\n",
        "print(a)"
      ],
      "execution_count": 13,
      "outputs": [
        {
          "output_type": "stream",
          "text": [
            "[[0 1 2]\n",
            " [3 4 5]\n",
            " [6 7 8]]\n"
          ],
          "name": "stdout"
        }
      ]
    },
    {
      "cell_type": "code",
      "metadata": {
        "colab": {
          "base_uri": "https://localhost:8080/"
        },
        "id": "afjVN2Ab9KuZ",
        "outputId": "2f16d491-b91a-49f0-a336-2d5bff2b8779"
      },
      "source": [
        "# 2. Найти индексы не нулевых элементов в массиве [1,2,0,0,4,0]\n",
        "# Ваш код здесь\n",
        "a = np.array([1,2,0,0,4,0])\n",
        "print(*np.nonzero(a))"
      ],
      "execution_count": 8,
      "outputs": [
        {
          "output_type": "stream",
          "text": [
            "[0 1 4]\n"
          ],
          "name": "stdout"
        }
      ]
    },
    {
      "cell_type": "code",
      "metadata": {
        "colab": {
          "base_uri": "https://localhost:8080/"
        },
        "id": "c9PxPZI89KuZ",
        "outputId": "5394a97b-9339-437d-d511-9701584ea401"
      },
      "source": [
        "# 3. Матрица 3*3*3 с рандомными значениями\n",
        "# Ваш код здесь\n",
        "np.random.random((3,3,3))"
      ],
      "execution_count": 3,
      "outputs": [
        {
          "output_type": "execute_result",
          "data": {
            "text/plain": [
              "array([[[0.70471182, 0.63491295, 0.51501044],\n",
              "        [0.35343382, 0.90444822, 0.69311943],\n",
              "        [0.88401858, 0.84977504, 0.14142292]],\n",
              "\n",
              "       [[0.82524089, 0.76857935, 0.3429694 ],\n",
              "        [0.16457948, 0.75133367, 0.16584451],\n",
              "        [0.55062532, 0.44380333, 0.24871444]],\n",
              "\n",
              "       [[0.03769667, 0.37266259, 0.82136167],\n",
              "        [0.58569526, 0.91141499, 0.24179921],\n",
              "        [0.56277553, 0.06446151, 0.76738465]]])"
            ]
          },
          "metadata": {
            "tags": []
          },
          "execution_count": 3
        }
      ]
    },
    {
      "cell_type": "code",
      "metadata": {
        "colab": {
          "base_uri": "https://localhost:8080/"
        },
        "id": "gp68G3cm9KuZ",
        "outputId": "dc7bcca2-cb9f-48e0-e323-90a3b9846550"
      },
      "source": [
        "# 4. Матриа 10 на 10, найти минимумы и максимумы\n",
        "# Ваш код здесь\n",
        "a = np.random.random((10,10))\n",
        "\n",
        "print(np.min(a), np.max(a))"
      ],
      "execution_count": 2,
      "outputs": [
        {
          "output_type": "stream",
          "text": [
            "0.006545522356715017 0.9970403714893314\n"
          ],
          "name": "stdout"
        }
      ]
    }
  ]
}