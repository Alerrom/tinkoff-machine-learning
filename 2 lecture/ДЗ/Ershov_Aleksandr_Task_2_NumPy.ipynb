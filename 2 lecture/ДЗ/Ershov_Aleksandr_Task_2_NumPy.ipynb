{
  "nbformat": 4,
  "nbformat_minor": 0,
  "metadata": {
    "kernelspec": {
      "display_name": "Python 3",
      "language": "python",
      "name": "python3"
    },
    "language_info": {
      "codemirror_mode": {
        "name": "ipython",
        "version": 3
      },
      "file_extension": ".py",
      "mimetype": "text/x-python",
      "name": "python",
      "nbconvert_exporter": "python",
      "pygments_lexer": "ipython3",
      "version": "3.6.4"
    },
    "colab": {
      "name": "Ershov_Aleksandr_Task_2_NumPy.ipynb",
      "provenance": [],
      "collapsed_sections": []
    }
  },
  "cells": [
    {
      "cell_type": "markdown",
      "metadata": {
        "id": "DAy4ftNHoxeP"
      },
      "source": [
        "# Numpy"
      ]
    },
    {
      "cell_type": "markdown",
      "metadata": {
        "id": "66ozKG-XoxeR"
      },
      "source": [
        "#### 1.Создать вектор (одномерный массив) размера 100, заполненный нулями"
      ]
    },
    {
      "cell_type": "code",
      "metadata": {
        "colab": {
          "base_uri": "https://localhost:8080/"
        },
        "id": "A8vLVwVPoxeT",
        "outputId": "aa57166e-b2b8-41ab-f600-0bb7c2ebd8f5"
      },
      "source": [
        "import numpy as np\r\n",
        "\r\n",
        "vector = np.zeros((100), dtype=np.int64)\r\n",
        "print(vector)"
      ],
      "execution_count": 2,
      "outputs": [
        {
          "output_type": "stream",
          "text": [
            "[0 0 0 0 0 0 0 0 0 0 0 0 0 0 0 0 0 0 0 0 0 0 0 0 0 0 0 0 0 0 0 0 0 0 0 0 0\n",
            " 0 0 0 0 0 0 0 0 0 0 0 0 0 0 0 0 0 0 0 0 0 0 0 0 0 0 0 0 0 0 0 0 0 0 0 0 0\n",
            " 0 0 0 0 0 0 0 0 0 0 0 0 0 0 0 0 0 0 0 0 0 0 0 0 0 0]\n"
          ],
          "name": "stdout"
        }
      ]
    },
    {
      "cell_type": "markdown",
      "metadata": {
        "id": "TS8cbpXXoxeT"
      },
      "source": [
        "#### 2.Создать вектор размера 100, заполненный единицами"
      ]
    },
    {
      "cell_type": "code",
      "metadata": {
        "colab": {
          "base_uri": "https://localhost:8080/"
        },
        "id": "VMvB-F0poxeT",
        "outputId": "10922c77-00f0-4f99-bed1-4d1136b01980"
      },
      "source": [
        "vector = np.ones((100), dtype=np.int64)\r\n",
        "print(vector)"
      ],
      "execution_count": 3,
      "outputs": [
        {
          "output_type": "stream",
          "text": [
            "[1 1 1 1 1 1 1 1 1 1 1 1 1 1 1 1 1 1 1 1 1 1 1 1 1 1 1 1 1 1 1 1 1 1 1 1 1\n",
            " 1 1 1 1 1 1 1 1 1 1 1 1 1 1 1 1 1 1 1 1 1 1 1 1 1 1 1 1 1 1 1 1 1 1 1 1 1\n",
            " 1 1 1 1 1 1 1 1 1 1 1 1 1 1 1 1 1 1 1 1 1 1 1 1 1 1]\n"
          ],
          "name": "stdout"
        }
      ]
    },
    {
      "cell_type": "markdown",
      "metadata": {
        "id": "IruxCQFXoxeU"
      },
      "source": [
        "#### 3.Создать вектор размера 100, заполненный числом 3"
      ]
    },
    {
      "cell_type": "code",
      "metadata": {
        "colab": {
          "base_uri": "https://localhost:8080/"
        },
        "id": "ss2KUHeaoxeU",
        "outputId": "bd71d716-5915-4543-b2dc-0bbb2c5edfa4"
      },
      "source": [
        "vector = np.full((100), 3)\r\n",
        "print(vector)"
      ],
      "execution_count": 4,
      "outputs": [
        {
          "output_type": "stream",
          "text": [
            "[3 3 3 3 3 3 3 3 3 3 3 3 3 3 3 3 3 3 3 3 3 3 3 3 3 3 3 3 3 3 3 3 3 3 3 3 3\n",
            " 3 3 3 3 3 3 3 3 3 3 3 3 3 3 3 3 3 3 3 3 3 3 3 3 3 3 3 3 3 3 3 3 3 3 3 3 3\n",
            " 3 3 3 3 3 3 3 3 3 3 3 3 3 3 3 3 3 3 3 3 3 3 3 3 3 3]\n"
          ],
          "name": "stdout"
        }
      ]
    },
    {
      "cell_type": "markdown",
      "metadata": {
        "id": "5xTUACJDoxeU"
      },
      "source": [
        "#### 4. Как получить документацию о функции numpy.add из командной строки?"
      ]
    },
    {
      "cell_type": "code",
      "metadata": {
        "id": "kpjgiFlroxeU"
      },
      "source": [
        "np.info(np.add)\r\n",
        "? np.add"
      ],
      "execution_count": 6,
      "outputs": []
    },
    {
      "cell_type": "markdown",
      "metadata": {
        "id": "IAYL0N_eoxeV"
      },
      "source": [
        "#### 5. Поменять 2 строки в матрице"
      ]
    },
    {
      "cell_type": "code",
      "metadata": {
        "colab": {
          "base_uri": "https://localhost:8080/"
        },
        "id": "I9iqbNkmoxeV",
        "outputId": "97cfa04c-537d-4c03-99fd-2949e9b9d42e"
      },
      "source": [
        "matrix = np.diag([1,2,3,4,5,6,7,8,9])\r\n",
        "\r\n",
        "i, j = 2, 6\r\n",
        "matrix[[i,j]]= matrix[[j,i]]\r\n",
        "print(matrix)"
      ],
      "execution_count": 11,
      "outputs": [
        {
          "output_type": "stream",
          "text": [
            "[[1 0 0 0 0 0 0 0 0]\n",
            " [0 2 0 0 0 0 0 0 0]\n",
            " [0 0 0 0 0 0 7 0 0]\n",
            " [0 0 0 4 0 0 0 0 0]\n",
            " [0 0 0 0 5 0 0 0 0]\n",
            " [0 0 0 0 0 6 0 0 0]\n",
            " [0 0 3 0 0 0 0 0 0]\n",
            " [0 0 0 0 0 0 0 8 0]\n",
            " [0 0 0 0 0 0 0 0 9]]\n"
          ],
          "name": "stdout"
        }
      ]
    },
    {
      "cell_type": "markdown",
      "metadata": {
        "id": "Rns2EhAPoxeV"
      },
      "source": [
        "#### 6. Создать вектор со значениями от 10 до 100"
      ]
    },
    {
      "cell_type": "code",
      "metadata": {
        "colab": {
          "base_uri": "https://localhost:8080/"
        },
        "id": "zEc-6HfOoxeV",
        "outputId": "152ad653-6b26-4193-9d36-20fee1bc975d"
      },
      "source": [
        "vector = np.arange(10, 100)\r\n",
        "print(vector)"
      ],
      "execution_count": 12,
      "outputs": [
        {
          "output_type": "stream",
          "text": [
            "[10 11 12 13 14 15 16 17 18 19 20 21 22 23 24 25 26 27 28 29 30 31 32 33\n",
            " 34 35 36 37 38 39 40 41 42 43 44 45 46 47 48 49 50 51 52 53 54 55 56 57\n",
            " 58 59 60 61 62 63 64 65 66 67 68 69 70 71 72 73 74 75 76 77 78 79 80 81\n",
            " 82 83 84 85 86 87 88 89 90 91 92 93 94 95 96 97 98 99]\n"
          ],
          "name": "stdout"
        }
      ]
    },
    {
      "cell_type": "markdown",
      "metadata": {
        "id": "J0jKm7ZKoxeW"
      },
      "source": [
        "#### 7. Развернуть вектор (первый становится последним)"
      ]
    },
    {
      "cell_type": "code",
      "metadata": {
        "colab": {
          "base_uri": "https://localhost:8080/"
        },
        "id": "3fjnVeDzoxeW",
        "outputId": "7ff75704-9c85-486e-f83d-9de15d9042bc"
      },
      "source": [
        "vector = np.arange(10, 100)\r\n",
        "vector = vector[::-1]\r\n",
        "print(vector)"
      ],
      "execution_count": 13,
      "outputs": [
        {
          "output_type": "stream",
          "text": [
            "[99 98 97 96 95 94 93 92 91 90 89 88 87 86 85 84 83 82 81 80 79 78 77 76\n",
            " 75 74 73 72 71 70 69 68 67 66 65 64 63 62 61 60 59 58 57 56 55 54 53 52\n",
            " 51 50 49 48 47 46 45 44 43 42 41 40 39 38 37 36 35 34 33 32 31 30 29 28\n",
            " 27 26 25 24 23 22 21 20 19 18 17 16 15 14 13 12 11 10]\n"
          ],
          "name": "stdout"
        }
      ]
    },
    {
      "cell_type": "markdown",
      "metadata": {
        "id": "EcmYIpL_oxeW"
      },
      "source": [
        "#### 8. Создать матрицу (двумерный массив) 4x4 со значениями от 0 до 16"
      ]
    },
    {
      "cell_type": "code",
      "metadata": {
        "colab": {
          "base_uri": "https://localhost:8080/"
        },
        "id": "ZMRwlIMDoxeW",
        "outputId": "d6fcb96a-f97c-4bd4-db19-59e623696dc0"
      },
      "source": [
        "matrix = np.arange(16).reshape(4,4)\r\n",
        "print(matrix)"
      ],
      "execution_count": 14,
      "outputs": [
        {
          "output_type": "stream",
          "text": [
            "[[ 0  1  2  3]\n",
            " [ 4  5  6  7]\n",
            " [ 8  9 10 11]\n",
            " [12 13 14 15]]\n"
          ],
          "name": "stdout"
        }
      ]
    },
    {
      "cell_type": "markdown",
      "metadata": {
        "id": "xqShYzg8oxeW"
      },
      "source": [
        "#### 9.  Дан вектор [1, 2, 3, 4, 5], построить новый вектор с тремя нулями между каждым значением"
      ]
    },
    {
      "cell_type": "code",
      "metadata": {
        "colab": {
          "base_uri": "https://localhost:8080/"
        },
        "id": "XUlxAxdhoxeX",
        "outputId": "9dae9709-eb57-416a-bbed-4b6a23eca08b"
      },
      "source": [
        "vector = np.arange(1,6)\r\n",
        "n=len(vector)-1\r\n",
        "\r\n",
        "for i in range(n):\r\n",
        "    vector = np.insert(vector,n*(i)+1,(0,0,0))\r\n",
        "print(vector)"
      ],
      "execution_count": 16,
      "outputs": [
        {
          "output_type": "stream",
          "text": [
            "[1 0 0 0 2 0 0 0 3 0 0 0 4 0 0 0 5]\n"
          ],
          "name": "stdout"
        }
      ]
    },
    {
      "cell_type": "markdown",
      "metadata": {
        "id": "Mumq9VKToxeX"
      },
      "source": [
        "#### 10. Создать 3x3 единичную матрицу"
      ]
    },
    {
      "cell_type": "code",
      "metadata": {
        "colab": {
          "base_uri": "https://localhost:8080/"
        },
        "id": "9D2EPz9loxeX",
        "outputId": "166df1a4-8aa3-4098-89f6-9e1fe0744d55"
      },
      "source": [
        "matrix = np.diag(np.full(3,1))\r\n",
        "print(matrix)"
      ],
      "execution_count": 17,
      "outputs": [
        {
          "output_type": "stream",
          "text": [
            "[[1 0 0]\n",
            " [0 1 0]\n",
            " [0 0 1]]\n"
          ],
          "name": "stdout"
        }
      ]
    },
    {
      "cell_type": "markdown",
      "metadata": {
        "id": "NyKRsbSboxeX"
      },
      "source": [
        "#### 11. Создать массив 3x3x3 со случайными значениями"
      ]
    },
    {
      "cell_type": "code",
      "metadata": {
        "colab": {
          "base_uri": "https://localhost:8080/"
        },
        "id": "Wpko6fp9oxeX",
        "outputId": "26e046e6-1a80-4e89-efb0-4efcb49bdb20"
      },
      "source": [
        "data = np.random.random((3,3,3))\r\n",
        "print(data)"
      ],
      "execution_count": 18,
      "outputs": [
        {
          "output_type": "stream",
          "text": [
            "[[[0.30703773 0.51653037 0.00414177]\n",
            "  [0.93776604 0.22653374 0.77390086]\n",
            "  [0.02551469 0.84887299 0.30445078]]\n",
            "\n",
            " [[0.39840106 0.76881909 0.57521938]\n",
            "  [0.09417703 0.08816128 0.53106242]\n",
            "  [0.15080665 0.6175688  0.71233534]]\n",
            "\n",
            " [[0.64199366 0.39019011 0.31052603]\n",
            "  [0.07071301 0.96505045 0.08636662]\n",
            "  [0.84046938 0.45171477 0.31557258]]]\n"
          ],
          "name": "stdout"
        }
      ]
    },
    {
      "cell_type": "markdown",
      "metadata": {
        "id": "AGiQmTRpoxeX"
      },
      "source": [
        "#### 12. Создать массив 10x10 со случайными значениями, найти минимум и максимум"
      ]
    },
    {
      "cell_type": "code",
      "metadata": {
        "colab": {
          "base_uri": "https://localhost:8080/"
        },
        "id": "WXJWH3w7oxeY",
        "outputId": "d6f50446-a219-4b1b-df1e-cb655f400d52"
      },
      "source": [
        "np.random.seed(5)\r\n",
        "data = np.random.randint(-100,100,(10,10))\r\n",
        "#print(data)\r\n",
        "print(np.min(data))\r\n",
        "print(np.max(data))"
      ],
      "execution_count": 23,
      "outputs": [
        {
          "output_type": "stream",
          "text": [
            "-100\n",
            "93\n"
          ],
          "name": "stdout"
        }
      ]
    },
    {
      "cell_type": "markdown",
      "metadata": {
        "id": "H7gsXhpyoxeY"
      },
      "source": [
        "#### 13. Создать случайный вектор размера 30 и найти среднее значение всех элементов"
      ]
    },
    {
      "cell_type": "code",
      "metadata": {
        "colab": {
          "base_uri": "https://localhost:8080/"
        },
        "id": "BDEicmcCoxeY",
        "outputId": "ee856293-1ed8-4151-f6f9-7bc32cf1851d"
      },
      "source": [
        "vector = np.random.randint(1,1000,30)\r\n",
        "#print(vector)\r\n",
        "print(vector.mean())"
      ],
      "execution_count": null,
      "outputs": [
        {
          "output_type": "stream",
          "text": [
            "452.6\n"
          ],
          "name": "stdout"
        }
      ]
    },
    {
      "cell_type": "markdown",
      "metadata": {
        "id": "7uAL4zwJoxeY"
      },
      "source": [
        "#### 14. Создать матрицу с 0 внутри, и 1 на границах"
      ]
    },
    {
      "cell_type": "code",
      "metadata": {
        "colab": {
          "base_uri": "https://localhost:8080/"
        },
        "id": "8P7X-SSAoxeY",
        "outputId": "dca69a33-7f32-4b14-d26f-68bcf5d5a3cf"
      },
      "source": [
        "a = np.ones((10,10),dtype=int)\r\n",
        "a[1:-1,1:-1] = 0\r\n",
        "a"
      ],
      "execution_count": 34,
      "outputs": [
        {
          "output_type": "execute_result",
          "data": {
            "text/plain": [
              "array([[1, 1, 1, 1, 1, 1, 1, 1, 1, 1],\n",
              "       [1, 0, 0, 0, 0, 0, 0, 0, 0, 1],\n",
              "       [1, 0, 0, 0, 0, 0, 0, 0, 0, 1],\n",
              "       [1, 0, 0, 0, 0, 0, 0, 0, 0, 1],\n",
              "       [1, 0, 0, 0, 0, 0, 0, 0, 0, 1],\n",
              "       [1, 0, 0, 0, 0, 0, 0, 0, 0, 1],\n",
              "       [1, 0, 0, 0, 0, 0, 0, 0, 0, 1],\n",
              "       [1, 0, 0, 0, 0, 0, 0, 0, 0, 1],\n",
              "       [1, 0, 0, 0, 0, 0, 0, 0, 0, 1],\n",
              "       [1, 1, 1, 1, 1, 1, 1, 1, 1, 1]])"
            ]
          },
          "metadata": {
            "tags": []
          },
          "execution_count": 34
        }
      ]
    },
    {
      "cell_type": "markdown",
      "metadata": {
        "id": "zfbYxPoFoxeY"
      },
      "source": [
        "#### 15. Удивите меня в этом задании, покажите какое нибудь класное преобразование в numpy (не идет в зачет)"
      ]
    },
    {
      "cell_type": "code",
      "metadata": {
        "id": "zXyFo-RLoxeY",
        "colab": {
          "base_uri": "https://localhost:8080/"
        },
        "outputId": "835a555c-6926-4bf4-9320-9314fc352314"
      },
      "source": [
        "def f(i, j):\r\n",
        "  return (i ** j) % (i + j + 1)\r\n",
        "\r\n",
        "a = np.fromfunction(f, (8,8), dtype=int)\r\n",
        "a"
      ],
      "execution_count": 40,
      "outputs": [
        {
          "output_type": "execute_result",
          "data": {
            "text/plain": [
              "array([[ 0,  0,  0,  0,  0,  0,  0,  0],\n",
              "       [ 1,  1,  1,  1,  1,  1,  1,  1],\n",
              "       [ 1,  2,  4,  2,  2,  0,  1,  8],\n",
              "       [ 1,  3,  3,  6,  1,  0,  9,  9],\n",
              "       [ 1,  4,  2,  0,  4,  4,  4,  4],\n",
              "       [ 1,  5,  1,  8,  5,  1,  1,  8],\n",
              "       [ 1,  6,  0,  6,  9,  0, 12,  6],\n",
              "       [ 1,  7,  9,  2,  1, 11,  7, 13]])"
            ]
          },
          "metadata": {
            "tags": []
          },
          "execution_count": 40
        }
      ]
    },
    {
      "cell_type": "markdown",
      "metadata": {
        "id": "GuLYgQ8noxeZ"
      },
      "source": [
        "#### 16. Создать 5x5 матрицу с 1,2,2,4 под диагональю"
      ]
    },
    {
      "cell_type": "code",
      "metadata": {
        "colab": {
          "base_uri": "https://localhost:8080/"
        },
        "id": "ap6LvvUKoxeZ",
        "outputId": "7fe52f7e-0527-441e-e9d8-aeccd9590987"
      },
      "source": [
        "matrix = np.diag([1,2,2,4], k=-1)\r\n",
        "print(matrix)"
      ],
      "execution_count": 41,
      "outputs": [
        {
          "output_type": "stream",
          "text": [
            "[[0 0 0 0 0]\n",
            " [1 0 0 0 0]\n",
            " [0 2 0 0 0]\n",
            " [0 0 2 0 0]\n",
            " [0 0 0 4 0]]\n"
          ],
          "name": "stdout"
        }
      ]
    },
    {
      "cell_type": "markdown",
      "metadata": {
        "id": "UwxIjXmgoxeZ"
      },
      "source": [
        "#### 17. Создать 8x8 матрицу и заполнить её в шахматном порядке"
      ]
    },
    {
      "cell_type": "code",
      "metadata": {
        "colab": {
          "base_uri": "https://localhost:8080/"
        },
        "id": "jV_QBOrNoxeZ",
        "outputId": "4e1568a2-3ca6-47cd-ea6a-6109af3826c4"
      },
      "source": [
        "def f1(i,j):\r\n",
        "  return (i+j)%2\r\n",
        "\r\n",
        "a = np.fromfunction(f1, (8,8), dtype=np.int16)\r\n",
        "print(a)"
      ],
      "execution_count": 42,
      "outputs": [
        {
          "output_type": "stream",
          "text": [
            "[[0 1 0 1 0 1 0 1]\n",
            " [1 0 1 0 1 0 1 0]\n",
            " [0 1 0 1 0 1 0 1]\n",
            " [1 0 1 0 1 0 1 0]\n",
            " [0 1 0 1 0 1 0 1]\n",
            " [1 0 1 0 1 0 1 0]\n",
            " [0 1 0 1 0 1 0 1]\n",
            " [1 0 1 0 1 0 1 0]]\n"
          ],
          "name": "stdout"
        }
      ]
    },
    {
      "cell_type": "markdown",
      "metadata": {
        "id": "F4cSTiUaoxeZ"
      },
      "source": [
        "#### 18. Дан массив размерности (6,7,8). Каков индекс (x,y,z) сотого элемента?"
      ]
    },
    {
      "cell_type": "code",
      "metadata": {
        "id": "cF2ifQqfoxeZ",
        "colab": {
          "base_uri": "https://localhost:8080/"
        },
        "outputId": "6d395158-27ba-45a2-db03-624db9e181a4"
      },
      "source": [
        "I, J, K = 6, 7, 8\r\n",
        "data = np.full((I,J,K),1)\r\n",
        "\r\n",
        "stop = 100\r\n",
        "for i in range(I):\r\n",
        "  for j in range(J):\r\n",
        "    for k in range(K):\r\n",
        "      if i*(J*K) + j*(K) + k == stop:\r\n",
        "        print(i, j, k)\r\n",
        "        break\r\n",
        "\r\n",
        "print(np.unravel_index(100, (6,7,8)))"
      ],
      "execution_count": 43,
      "outputs": [
        {
          "output_type": "stream",
          "text": [
            "1 5 4\n",
            "(1, 5, 4)\n"
          ],
          "name": "stdout"
        }
      ]
    },
    {
      "cell_type": "markdown",
      "metadata": {
        "id": "UNiziVuCoxea"
      },
      "source": [
        "#### 19. Создать 8x8 матрицу и заполнить её в шахматном порядке, используя функцию tile"
      ]
    },
    {
      "cell_type": "code",
      "metadata": {
        "colab": {
          "base_uri": "https://localhost:8080/"
        },
        "id": "wu--m1zCoxea",
        "outputId": "93f77dc0-ef2e-44de-82e4-4163fe780e6b"
      },
      "source": [
        "matrix = np.array([[0,1,0,1,0,1,0,1],[1,0,1,0,1,0,1,0]])\r\n",
        "matrix = np.tile(matrix, (4,1))\r\n",
        "print(matrix)"
      ],
      "execution_count": 45,
      "outputs": [
        {
          "output_type": "stream",
          "text": [
            "[[0 1 0 1 0 1 0 1]\n",
            " [1 0 1 0 1 0 1 0]\n",
            " [0 1 0 1 0 1 0 1]\n",
            " [1 0 1 0 1 0 1 0]\n",
            " [0 1 0 1 0 1 0 1]\n",
            " [1 0 1 0 1 0 1 0]\n",
            " [0 1 0 1 0 1 0 1]\n",
            " [1 0 1 0 1 0 1 0]]\n"
          ],
          "name": "stdout"
        }
      ]
    },
    {
      "cell_type": "markdown",
      "metadata": {
        "id": "38iQC_r-oxea"
      },
      "source": [
        "#### 20. Перемножить матрицы 5x3 и 3x2"
      ]
    },
    {
      "cell_type": "code",
      "metadata": {
        "colab": {
          "base_uri": "https://localhost:8080/"
        },
        "id": "wgLSEaN0oxea",
        "outputId": "8edc1e42-c631-40f3-fb37-778f25bd9929"
      },
      "source": [
        "a = np.array([[0,1,2],\r\n",
        "              [1,0,3],\r\n",
        "              [-1,2,1],\r\n",
        "              [0,0,0],\r\n",
        "              [1,0,1]])\r\n",
        "b = np.array([[1,2],\r\n",
        "              [2,1],\r\n",
        "              [0,0]])\r\n",
        "print(a@b)"
      ],
      "execution_count": 46,
      "outputs": [
        {
          "output_type": "stream",
          "text": [
            "[[2 1]\n",
            " [1 2]\n",
            " [3 0]\n",
            " [0 0]\n",
            " [1 2]]\n"
          ],
          "name": "stdout"
        }
      ]
    },
    {
      "cell_type": "markdown",
      "metadata": {
        "id": "mUjQnsSdoxea"
      },
      "source": [
        "#### 21. Дан массив, поменять знак у элементов, значения которых между 3 и 8"
      ]
    },
    {
      "cell_type": "code",
      "metadata": {
        "colab": {
          "base_uri": "https://localhost:8080/"
        },
        "id": "mBmOMzB6oxeb",
        "outputId": "831741d1-6d5e-4ff2-a1d6-565a9a3c9955"
      },
      "source": [
        "np.random.seed(10)\r\n",
        "a = np.random.randint(1, 10, 20)\r\n",
        "a[a < 8] *= -1\r\n",
        "a[abs(a) <= 3] *= -1\r\n",
        "print(a)"
      ],
      "execution_count": 47,
      "outputs": [
        {
          "output_type": "stream",
          "text": [
            "[-5  1  2  1  2  9  1  9 -7 -5 -4  1 -5 -7  9  2  9 -5  2 -4]\n"
          ],
          "name": "stdout"
        }
      ]
    },
    {
      "cell_type": "markdown",
      "metadata": {
        "id": "iJu9P1wmoxeb"
      },
      "source": [
        "#### 23. Создать 5x5 матрицу со значениями в строках от 0 до 4"
      ]
    },
    {
      "cell_type": "code",
      "metadata": {
        "colab": {
          "base_uri": "https://localhost:8080/"
        },
        "id": "9UxjzNTQoxeb",
        "outputId": "9dafca98-7cc3-4310-bcb9-3bdf1e403228"
      },
      "source": [
        "def f1(i,j):\r\n",
        "  return j\r\n",
        "\r\n",
        "a = np.fromfunction(f1, (5,5), dtype=np.int64)\r\n",
        "print(a)"
      ],
      "execution_count": 48,
      "outputs": [
        {
          "output_type": "stream",
          "text": [
            "[[0 1 2 3 4]\n",
            " [0 1 2 3 4]\n",
            " [0 1 2 3 4]\n",
            " [0 1 2 3 4]\n",
            " [0 1 2 3 4]]\n"
          ],
          "name": "stdout"
        }
      ]
    },
    {
      "cell_type": "markdown",
      "metadata": {
        "id": "Ezcm0eupoxeb"
      },
      "source": [
        "#### 24. Есть генератор, сделать с его помощью массив"
      ]
    },
    {
      "cell_type": "code",
      "metadata": {
        "colab": {
          "base_uri": "https://localhost:8080/"
        },
        "id": "FvVz_AM6oxeb",
        "outputId": "379a6696-9f88-4159-a925-cd03e7e98e8d"
      },
      "source": [
        "a = np.array([2**i+1 for i in range(5)])\r\n",
        "print(a)"
      ],
      "execution_count": 49,
      "outputs": [
        {
          "output_type": "stream",
          "text": [
            "[ 2  3  5  9 17]\n"
          ],
          "name": "stdout"
        }
      ]
    },
    {
      "cell_type": "markdown",
      "metadata": {
        "id": "kWWC9gruoxeb"
      },
      "source": [
        "#### 25. Создать вектор размера 10 со значениями от 0 до 1, не включая ни то, ни другое"
      ]
    },
    {
      "cell_type": "code",
      "metadata": {
        "colab": {
          "base_uri": "https://localhost:8080/"
        },
        "id": "292zS3hKoxec",
        "outputId": "5aa3efd3-57a9-4e67-d3ba-e5990c165d73"
      },
      "source": [
        "a = np.linspace(0.1,1,10,endpoint=False)\r\n",
        "print(a)"
      ],
      "execution_count": 50,
      "outputs": [
        {
          "output_type": "stream",
          "text": [
            "[0.1  0.19 0.28 0.37 0.46 0.55 0.64 0.73 0.82 0.91]\n"
          ],
          "name": "stdout"
        }
      ]
    },
    {
      "cell_type": "markdown",
      "metadata": {
        "id": "Va0byzKHoxec"
      },
      "source": [
        "#### 26. Отсортировать вектор"
      ]
    },
    {
      "cell_type": "code",
      "metadata": {
        "colab": {
          "base_uri": "https://localhost:8080/"
        },
        "id": "rALeWyPkoxec",
        "outputId": "5576245e-74c4-4a31-e015-737eeca6a6eb"
      },
      "source": [
        "a = np.random.randint(0,50,20)\r\n",
        "a.sort()\r\n",
        "print(a)"
      ],
      "execution_count": 53,
      "outputs": [
        {
          "output_type": "stream",
          "text": [
            "[ 6 11 12 13 15 15 15 21 22 24 28 32 40 42 42 43 44 45 48 49]\n"
          ],
          "name": "stdout"
        }
      ]
    },
    {
      "cell_type": "markdown",
      "metadata": {
        "id": "_gpZtp-Soxec"
      },
      "source": [
        "#### 27. Проверить, одинаковы ли 2 numpy массива"
      ]
    },
    {
      "cell_type": "code",
      "metadata": {
        "colab": {
          "base_uri": "https://localhost:8080/"
        },
        "id": "QeEf6ZMooxec",
        "outputId": "60e5d272-6d74-471d-b7b2-04451274876b"
      },
      "source": [
        "a = np.array([1,2,3,5,4,6,7,8,9])\r\n",
        "b = np.array([1,2,3,4,5,6,7,8,9])\r\n",
        "print(np.array_equal(a,b))"
      ],
      "execution_count": 56,
      "outputs": [
        {
          "output_type": "stream",
          "text": [
            "False\n"
          ],
          "name": "stdout"
        }
      ]
    },
    {
      "cell_type": "markdown",
      "metadata": {
        "id": "ECyQzn_Woxed"
      },
      "source": [
        "#### 28. Сделать массив неизменяемым"
      ]
    },
    {
      "cell_type": "code",
      "metadata": {
        "id": "VOlbIXrFoxed"
      },
      "source": [
        "array = np.zeros(10)\r\n",
        "array.flags.writeable = False"
      ],
      "execution_count": 57,
      "outputs": []
    },
    {
      "cell_type": "markdown",
      "metadata": {
        "id": "sjuxpiJqoxed"
      },
      "source": [
        "#### 29. Найти n наибольших значений в массиве"
      ]
    },
    {
      "cell_type": "code",
      "metadata": {
        "colab": {
          "base_uri": "https://localhost:8080/"
        },
        "id": "GjXqFMbEoxed",
        "outputId": "6e4265ea-619b-4e08-cec1-d52eab2d0f64"
      },
      "source": [
        "n = 3\r\n",
        "l = 50\r\n",
        "a = np.random.randint(1,50,l)\r\n",
        "a.sort()\r\n",
        "print(a[l-n:])"
      ],
      "execution_count": null,
      "outputs": [
        {
          "output_type": "stream",
          "text": [
            "[47 47 49]\n"
          ],
          "name": "stdout"
        }
      ]
    },
    {
      "cell_type": "markdown",
      "metadata": {
        "id": "-eDflzNXoxed"
      },
      "source": [
        "#### 30. Заменить максимальный элемент на ноль"
      ]
    },
    {
      "cell_type": "code",
      "metadata": {
        "id": "M972iylCoxed",
        "colab": {
          "base_uri": "https://localhost:8080/"
        },
        "outputId": "8378ca56-c373-4043-eda2-9861cc25febf"
      },
      "source": [
        "a = np.random.randint(1,50,10)\r\n",
        "print(a)\r\n",
        "a[a.argmax()] = 0\r\n",
        "print(a)"
      ],
      "execution_count": 59,
      "outputs": [
        {
          "output_type": "stream",
          "text": [
            "[30 17 21 19 49 15 16 18 26 47]\n",
            "[30 17 21 19  0 15 16 18 26 47]\n"
          ],
          "name": "stdout"
        }
      ]
    },
    {
      "cell_type": "markdown",
      "metadata": {
        "id": "BTfakYjvoxee"
      },
      "source": [
        "#### 31. Создать структурированный массив с координатами x, y на сетке в квадрате [0,1]x[0,1]"
      ]
    },
    {
      "cell_type": "code",
      "metadata": {
        "id": "-z7qfXkjoxee",
        "colab": {
          "base_uri": "https://localhost:8080/"
        },
        "outputId": "1371ef78-7209-461c-dda3-323e684a1339"
      },
      "source": [
        "a = np.zeros((5,5), [('x',float),('y',float)])\r\n",
        "a['x'], a['y'] = np.meshgrid(np.linspace(0,1,5),np.linspace(0,1,5))\r\n",
        "print(a)"
      ],
      "execution_count": 61,
      "outputs": [
        {
          "output_type": "stream",
          "text": [
            "[[(0.  , 0.  ) (0.25, 0.  ) (0.5 , 0.  ) (0.75, 0.  ) (1.  , 0.  )]\n",
            " [(0.  , 0.25) (0.25, 0.25) (0.5 , 0.25) (0.75, 0.25) (1.  , 0.25)]\n",
            " [(0.  , 0.5 ) (0.25, 0.5 ) (0.5 , 0.5 ) (0.75, 0.5 ) (1.  , 0.5 )]\n",
            " [(0.  , 0.75) (0.25, 0.75) (0.5 , 0.75) (0.75, 0.75) (1.  , 0.75)]\n",
            " [(0.  , 1.  ) (0.25, 1.  ) (0.5 , 1.  ) (0.75, 1.  ) (1.  , 1.  )]]\n"
          ],
          "name": "stdout"
        }
      ]
    },
    {
      "cell_type": "markdown",
      "metadata": {
        "id": "K4KBoLlnoxee"
      },
      "source": [
        "#### 32. Из двух массивов сделать матрицу Коши C (Cij = 1/(xi - yj))"
      ]
    },
    {
      "cell_type": "code",
      "metadata": {
        "colab": {
          "base_uri": "https://localhost:8080/"
        },
        "id": "wFoKAp0Doxee",
        "outputId": "b5924de2-cb02-4c86-9544-70826808e429"
      },
      "source": [
        "X = np.random.randint(1,10,5)\r\n",
        "Y = np.random.randint(10,20,5)\r\n",
        "print(X)\r\n",
        "print(Y)\r\n",
        "C = 1.0 / np.subtract.outer(X, Y)\r\n",
        "print(C)"
      ],
      "execution_count": 62,
      "outputs": [
        {
          "output_type": "stream",
          "text": [
            "[1 2 1 2 1]\n",
            "[19 12 11 11 10]\n",
            "[[-0.05555556 -0.09090909 -0.1        -0.1        -0.11111111]\n",
            " [-0.05882353 -0.1        -0.11111111 -0.11111111 -0.125     ]\n",
            " [-0.05555556 -0.09090909 -0.1        -0.1        -0.11111111]\n",
            " [-0.05882353 -0.1        -0.11111111 -0.11111111 -0.125     ]\n",
            " [-0.05555556 -0.09090909 -0.1        -0.1        -0.11111111]]\n"
          ],
          "name": "stdout"
        }
      ]
    },
    {
      "cell_type": "markdown",
      "metadata": {
        "id": "KzZGKDJ1oxee"
      },
      "source": [
        "#### 33. Найти минимальное и максимальное значение, принимаемое каждым числовым типом numpy"
      ]
    },
    {
      "cell_type": "code",
      "metadata": {
        "id": "A47-toVaoxee",
        "colab": {
          "base_uri": "https://localhost:8080/"
        },
        "outputId": "3d3c7351-f3bc-4d79-b2a7-945cb2455ec7"
      },
      "source": [
        "for dtype in [np.int8, np.int32, np.int64]:\r\n",
        "  print(dtype)\r\n",
        "  print(np.iinfo(dtype).min)\r\n",
        "  print(np.iinfo(dtype).max)\r\n",
        "\r\n",
        "for dtype in [np.float32, np.float64]:\r\n",
        "  print(dtype)\r\n",
        "  print(np.finfo(dtype).min)\r\n",
        "  print(np.finfo(dtype).max)"
      ],
      "execution_count": 63,
      "outputs": [
        {
          "output_type": "stream",
          "text": [
            "<class 'numpy.int8'>\n",
            "-128\n",
            "127\n",
            "<class 'numpy.int32'>\n",
            "-2147483648\n",
            "2147483647\n",
            "<class 'numpy.int64'>\n",
            "-9223372036854775808\n",
            "9223372036854775807\n",
            "<class 'numpy.float32'>\n",
            "-3.4028235e+38\n",
            "3.4028235e+38\n",
            "<class 'numpy.float64'>\n",
            "-1.7976931348623157e+308\n",
            "1.7976931348623157e+308\n"
          ],
          "name": "stdout"
        }
      ]
    },
    {
      "cell_type": "markdown",
      "metadata": {
        "id": "L9boeW4Eoxef"
      },
      "source": [
        "#### 34. Напечатать все значения в массиве"
      ]
    },
    {
      "cell_type": "code",
      "metadata": {
        "colab": {
          "base_uri": "https://localhost:8080/"
        },
        "id": "JbXdASupoxef",
        "outputId": "b92351cd-4d10-47a9-e936-0039f05afb88"
      },
      "source": [
        "a = np.array([1,2,3,4,5,6,7,8,9])\r\n",
        "for i in a:\r\n",
        "  print(i, end = \" \")\r\n",
        "print()\r\n",
        "print(*a)"
      ],
      "execution_count": 66,
      "outputs": [
        {
          "output_type": "stream",
          "text": [
            "1 2 3 4 5 6 7 8 9 \n",
            "1 2 3 4 5 6 7 8 9\n"
          ],
          "name": "stdout"
        }
      ]
    },
    {
      "cell_type": "markdown",
      "metadata": {
        "id": "iAqVog2Roxef"
      },
      "source": [
        "#### 35. Найти ближайшее к заданному значению число в заданном массиве"
      ]
    },
    {
      "cell_type": "code",
      "metadata": {
        "id": "c9by_3eSoxef",
        "colab": {
          "base_uri": "https://localhost:8080/"
        },
        "outputId": "7a877443-f524-4c2d-9ec8-699ea1d93ebe"
      },
      "source": [
        "array = np.arange(100)\r\n",
        "print(array)\r\n",
        "a = np.random.uniform(0,100)\r\n",
        "print(a)\r\n",
        "index = (np.abs(array-a)).argmin()\r\n",
        "print(array[index])"
      ],
      "execution_count": 67,
      "outputs": [
        {
          "output_type": "stream",
          "text": [
            "[ 0  1  2  3  4  5  6  7  8  9 10 11 12 13 14 15 16 17 18 19 20 21 22 23\n",
            " 24 25 26 27 28 29 30 31 32 33 34 35 36 37 38 39 40 41 42 43 44 45 46 47\n",
            " 48 49 50 51 52 53 54 55 56 57 58 59 60 61 62 63 64 65 66 67 68 69 70 71\n",
            " 72 73 74 75 76 77 78 79 80 81 82 83 84 85 86 87 88 89 90 91 92 93 94 95\n",
            " 96 97 98 99]\n",
            "13.456300346431615\n",
            "13\n"
          ],
          "name": "stdout"
        }
      ]
    },
    {
      "cell_type": "markdown",
      "metadata": {
        "id": "CufKZoiMoxef"
      },
      "source": [
        "#### 36. Преобразовать массив из float в int"
      ]
    },
    {
      "cell_type": "code",
      "metadata": {
        "colab": {
          "base_uri": "https://localhost:8080/"
        },
        "id": "RqQ9m6pLoxef",
        "outputId": "f60ddc5a-e103-46e4-b96b-f8c39681aca2"
      },
      "source": [
        "array = np.arange(10, dtype=np.int32)\r\n",
        "print(array)\r\n",
        "array = array.astype(np.float32, copy=False)\r\n",
        "print(array)"
      ],
      "execution_count": 68,
      "outputs": [
        {
          "output_type": "stream",
          "text": [
            "[0 1 2 3 4 5 6 7 8 9]\n",
            "[0. 1. 2. 3. 4. 5. 6. 7. 8. 9.]\n"
          ],
          "name": "stdout"
        }
      ]
    },
    {
      "cell_type": "markdown",
      "metadata": {
        "id": "eHAbQRAYoxeg"
      },
      "source": [
        "#### 37. Каков эквивалент функции enumerate для numpy массивов?"
      ]
    },
    {
      "cell_type": "code",
      "metadata": {
        "id": "k-txGbEooxeg",
        "colab": {
          "base_uri": "https://localhost:8080/"
        },
        "outputId": "0cfab2bf-a1fd-43b1-fe36-830d45e76204"
      },
      "source": [
        "array = np.arange(9).reshape(3,3)\r\n",
        "for index, value in np.ndenumerate(array):\r\n",
        "  print(index, value)"
      ],
      "execution_count": 70,
      "outputs": [
        {
          "output_type": "stream",
          "text": [
            "(0, 0) 0\n",
            "(0, 1) 1\n",
            "(0, 2) 2\n",
            "(1, 0) 3\n",
            "(1, 1) 4\n",
            "(1, 2) 5\n",
            "(2, 0) 6\n",
            "(2, 1) 7\n",
            "(2, 2) 8\n"
          ],
          "name": "stdout"
        }
      ]
    },
    {
      "cell_type": "markdown",
      "metadata": {
        "id": "xRyH_kZeoxeg"
      },
      "source": [
        "#### 38. Случайно расположить p элементов в 2D массив"
      ]
    },
    {
      "cell_type": "code",
      "metadata": {
        "id": "rq6OEt0Poxeg",
        "colab": {
          "base_uri": "https://localhost:8080/"
        },
        "outputId": "d3e2ae13-f3f0-46fc-febf-fdd50c09ec3d"
      },
      "source": [
        "n = 10\r\n",
        "p = 10\r\n",
        "a = np.zeros((n,n))\r\n",
        "np.put(a, np.random.choice(range(n*n), p, replace=False), 10)\r\n",
        "print(a)"
      ],
      "execution_count": 71,
      "outputs": [
        {
          "output_type": "stream",
          "text": [
            "[[ 0.  0.  0.  0.  0.  0.  0.  0.  0.  0.]\n",
            " [ 0.  0.  0.  0.  0.  0.  0. 10.  0.  0.]\n",
            " [ 0.  0.  0.  0.  0.  0. 10.  0.  0.  0.]\n",
            " [ 0.  0.  0.  0.  0.  0.  0.  0.  0.  0.]\n",
            " [ 0.  0.  0.  0.  0.  0.  0.  0.  0.  0.]\n",
            " [ 0.  0.  0.  0.  0.  0.  0.  0.  0.  0.]\n",
            " [10.  0.  0.  0.  0.  0.  0.  0. 10. 10.]\n",
            " [ 0.  0.  0.  0.  0.  0. 10.  0. 10. 10.]\n",
            " [ 0.  0.  0.  0.  0.  0.  0. 10. 10.  0.]\n",
            " [ 0.  0.  0.  0.  0.  0.  0.  0.  0.  0.]]\n"
          ],
          "name": "stdout"
        }
      ]
    },
    {
      "cell_type": "markdown",
      "metadata": {
        "id": "WvZewPUEoxeg"
      },
      "source": [
        "#### 39. Отнять среднее из каждой строки в матрице"
      ]
    },
    {
      "cell_type": "code",
      "metadata": {
        "id": "24JqIe-1oxeg",
        "colab": {
          "base_uri": "https://localhost:8080/"
        },
        "outputId": "4d2483bc-c9ae-4ad9-b8b9-f69260296921"
      },
      "source": [
        "a = np.arange(16).reshape(4,4)\r\n",
        "print(a)\r\n",
        "b = a - a.mean(axis=1, keepdims=True)\r\n",
        "print(b)"
      ],
      "execution_count": null,
      "outputs": [
        {
          "output_type": "stream",
          "text": [
            "[[ 0  1  2  3]\n",
            " [ 4  5  6  7]\n",
            " [ 8  9 10 11]\n",
            " [12 13 14 15]]\n",
            "[[-1.5 -0.5  0.5  1.5]\n",
            " [-1.5 -0.5  0.5  1.5]\n",
            " [-1.5 -0.5  0.5  1.5]\n",
            " [-1.5 -0.5  0.5  1.5]]\n"
          ],
          "name": "stdout"
        }
      ]
    },
    {
      "cell_type": "markdown",
      "metadata": {
        "id": "iH7K0olvoxeg"
      },
      "source": [
        "#### 40. Отсортировать матрицу по n-ому столбцу"
      ]
    },
    {
      "cell_type": "code",
      "metadata": {
        "id": "VKD6nJtLoxeh",
        "colab": {
          "base_uri": "https://localhost:8080/"
        },
        "outputId": "7c6e8ce7-414e-406d-8f08-fe47f832628f"
      },
      "source": [
        "a = np.random.randint(0,10,(4,5))\r\n",
        "n = 1\r\n",
        "print(a)\r\n",
        "print(a[a[:,n].argsort()])"
      ],
      "execution_count": null,
      "outputs": [
        {
          "output_type": "stream",
          "text": [
            "[[6 1 8 0 9]\n",
            " [0 6 4 3 4]\n",
            " [5 0 1 2 0]\n",
            " [9 8 9 6 3]]\n",
            "[[5 0 1 2 0]\n",
            " [6 1 8 0 9]\n",
            " [0 6 4 3 4]\n",
            " [9 8 9 6 3]]\n"
          ],
          "name": "stdout"
        }
      ]
    },
    {
      "cell_type": "markdown",
      "metadata": {
        "id": "D2l9fvDWoxeh"
      },
      "source": [
        "#### 41. Определить, есть ли в 2D массиве нулевые столбцы"
      ]
    },
    {
      "cell_type": "code",
      "metadata": {
        "id": "nKJHvO88oxeh",
        "colab": {
          "base_uri": "https://localhost:8080/"
        },
        "outputId": "21c53225-78b8-47aa-d881-e0022e0bc00d"
      },
      "source": [
        "a = np.random.randint(0,2,(4,20))\r\n",
        "print(a)\r\n",
        "print((~a.any(axis=0)).any())"
      ],
      "execution_count": 78,
      "outputs": [
        {
          "output_type": "stream",
          "text": [
            "[[0 1 1 1 0 0 0 1 1 0 1 0 1 1 1 0 1 0 0 0]\n",
            " [1 0 0 0 0 0 0 1 1 0 0 0 1 0 1 1 1 0 1 0]\n",
            " [1 1 0 0 0 1 0 0 1 0 0 0 0 1 0 0 1 1 1 0]\n",
            " [0 0 1 1 1 1 0 1 0 1 1 0 0 0 0 1 1 0 1 0]]\n",
            "True\n"
          ],
          "name": "stdout"
        }
      ]
    },
    {
      "cell_type": "markdown",
      "metadata": {
        "id": "AI5cEE2Ioxeh"
      },
      "source": [
        "#### 42. Дан массив, добавить 1 к каждому элементу с индексом, заданным в другом массиве (осторожно с повторами)"
      ]
    },
    {
      "cell_type": "code",
      "metadata": {
        "id": "iaQk1R-6oxeh",
        "colab": {
          "base_uri": "https://localhost:8080/"
        },
        "outputId": "027c50a8-f3f3-4e42-9b00-b452f915999b"
      },
      "source": [
        "a = np.ones(10)\r\n",
        "f = np.random.randint(0,len(a),20)\r\n",
        "print(a)\r\n",
        "print(f)\r\n",
        "a += np.bincount(f, minlength=len(a))\r\n",
        "print(a)"
      ],
      "execution_count": 79,
      "outputs": [
        {
          "output_type": "stream",
          "text": [
            "[1. 1. 1. 1. 1. 1. 1. 1. 1. 1.]\n",
            "[3 9 2 5 0 7 2 6 5 7 3 7 0 3 6 0 7 2 9 5]\n",
            "[4. 1. 4. 4. 1. 4. 3. 5. 1. 3.]\n"
          ],
          "name": "stdout"
        }
      ]
    },
    {
      "cell_type": "markdown",
      "metadata": {
        "id": "s9OjMznroxeh"
      },
      "source": [
        "#### 43. Дан массив (w,h,3) (картинка) dtype=ubyte, посчитать количество различных цветов"
      ]
    },
    {
      "cell_type": "code",
      "metadata": {
        "id": "Eocc9DwMoxei",
        "colab": {
          "base_uri": "https://localhost:8080/"
        },
        "outputId": "eb5abc91-72e3-4f66-d17f-a759f0cd6456"
      },
      "source": [
        "w,h = 64,64\r\n",
        "I = np.random.randint(0, 2, (h,w,3)).astype(np.ubyte)\r\n",
        "F = I[...,0] * 256 * 256 + I[...,1] * 256 + I[...,2]\r\n",
        "n = len(np.unique(F))\r\n",
        "print(np.unique(I))"
      ],
      "execution_count": 80,
      "outputs": [
        {
          "output_type": "stream",
          "text": [
            "[0 1]\n"
          ],
          "name": "stdout"
        }
      ]
    },
    {
      "cell_type": "markdown",
      "metadata": {
        "id": "yc1oGZSvoxei"
      },
      "source": [
        "#### 44. Дан четырехмерный массив, посчитать сумму по последним двум осям"
      ]
    },
    {
      "cell_type": "code",
      "metadata": {
        "id": "YaV_XcC-oxei",
        "colab": {
          "base_uri": "https://localhost:8080/"
        },
        "outputId": "1a2379a2-8bfd-44c9-def1-192e2f6fec7d"
      },
      "source": [
        "a = np.random.randint(1,10,(5,6,7,8))\r\n",
        "#print(a)\r\n",
        "s = a.reshape(a.shape[:-2] + (-1,)).sum(axis=-1)\r\n",
        "print(s)"
      ],
      "execution_count": 81,
      "outputs": [
        {
          "output_type": "stream",
          "text": [
            "[[293 261 269 303 271 283]\n",
            " [252 290 290 294 259 285]\n",
            " [290 274 277 284 267 262]\n",
            " [272 269 308 271 276 267]\n",
            " [250 293 270 286 269 290]]\n"
          ],
          "name": "stdout"
        }
      ]
    }
  ]
}