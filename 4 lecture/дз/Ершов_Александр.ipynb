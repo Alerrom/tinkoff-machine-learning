{
  "nbformat": 4,
  "nbformat_minor": 0,
  "metadata": {
    "kernelspec": {
      "display_name": "Python 3",
      "language": "python",
      "name": "python3"
    },
    "language_info": {
      "codemirror_mode": {
        "name": "ipython",
        "version": 3
      },
      "file_extension": ".py",
      "mimetype": "text/x-python",
      "name": "python",
      "nbconvert_exporter": "python",
      "pygments_lexer": "ipython3",
      "version": "3.7.3"
    },
    "colab": {
      "name": "Ершов Александр.ipynb",
      "provenance": [],
      "collapsed_sections": [],
      "toc_visible": true
    }
  },
  "cells": [
    {
      "cell_type": "markdown",
      "metadata": {
        "id": "akWOjib4OS25"
      },
      "source": [
        "# Домашнее задание\n",
        "\n",
        "Всего у вас 2 домашних задания:\n",
        "\n",
        "### 1) Бинарная классификация на примере детекции фрода на кредитных картах (6 баллов)\n",
        "(в этом файле)\n",
        "\n",
        "### 2) Небинарная классификация на вашем датасете (6 баллов)\n",
        "(тоже в этом файле)\n",
        "\n",
        "# 1 - Бинарная классификация на примере детекции фрода на кредитных картах (суммарно 6 баллов)\n",
        "У вас есть информация о множесте транзакций. Вам нужно научиться предсказывать, какие из них мошеннические, а какие нет."
      ]
    },
    {
      "cell_type": "markdown",
      "metadata": {
        "id": "mWRCMCDXOS2_"
      },
      "source": [
        "### (1 балл) Считайте данные\n",
        "Сами считайте и предобработайте, если надо, данные из файла creditcard.csv"
      ]
    },
    {
      "cell_type": "code",
      "metadata": {
        "id": "8N_g1gKoOS3A"
      },
      "source": [
        "%matplotlib inline\n",
        "from matplotlib import pyplot as plt \n",
        "import numpy as np\n",
        "import pandas as pd"
      ],
      "execution_count": 1,
      "outputs": []
    },
    {
      "cell_type": "code",
      "metadata": {
        "colab": {
          "base_uri": "https://localhost:8080/"
        },
        "id": "4lPK8bNXOS3B",
        "outputId": "e41fa682-d6b4-41b2-d61a-776e3ca5318f"
      },
      "source": [
        "df = pd.read_csv('creditcard.csv')\n",
        "df.V1"
      ],
      "execution_count": 134,
      "outputs": [
        {
          "output_type": "execute_result",
          "data": {
            "text/plain": [
              "0         -1.359807\n",
              "1          1.191857\n",
              "2         -1.358354\n",
              "3         -0.966272\n",
              "4         -1.158233\n",
              "            ...    \n",
              "284802   -11.881118\n",
              "284803    -0.732789\n",
              "284804     1.919565\n",
              "284805    -0.240440\n",
              "284806    -0.533413\n",
              "Name: V1, Length: 284807, dtype: float64"
            ]
          },
          "metadata": {
            "tags": []
          },
          "execution_count": 134
        }
      ]
    },
    {
      "cell_type": "code",
      "metadata": {
        "id": "J2PFMBn7RAab",
        "colab": {
          "base_uri": "https://localhost:8080/",
          "height": 215
        },
        "outputId": "b576bb61-d8a0-443f-8bcb-070f37bd51d2"
      },
      "source": [
        "df.head(5)"
      ],
      "execution_count": 3,
      "outputs": [
        {
          "output_type": "execute_result",
          "data": {
            "text/html": [
              "<div>\n",
              "<style scoped>\n",
              "    .dataframe tbody tr th:only-of-type {\n",
              "        vertical-align: middle;\n",
              "    }\n",
              "\n",
              "    .dataframe tbody tr th {\n",
              "        vertical-align: top;\n",
              "    }\n",
              "\n",
              "    .dataframe thead th {\n",
              "        text-align: right;\n",
              "    }\n",
              "</style>\n",
              "<table border=\"1\" class=\"dataframe\">\n",
              "  <thead>\n",
              "    <tr style=\"text-align: right;\">\n",
              "      <th></th>\n",
              "      <th>Time</th>\n",
              "      <th>V1</th>\n",
              "      <th>V2</th>\n",
              "      <th>V3</th>\n",
              "      <th>V4</th>\n",
              "      <th>V5</th>\n",
              "      <th>V6</th>\n",
              "      <th>V7</th>\n",
              "      <th>V8</th>\n",
              "      <th>V9</th>\n",
              "      <th>V10</th>\n",
              "      <th>V11</th>\n",
              "      <th>V12</th>\n",
              "      <th>V13</th>\n",
              "      <th>V14</th>\n",
              "      <th>V15</th>\n",
              "      <th>V16</th>\n",
              "      <th>V17</th>\n",
              "      <th>V18</th>\n",
              "      <th>V19</th>\n",
              "      <th>V20</th>\n",
              "      <th>V21</th>\n",
              "      <th>V22</th>\n",
              "      <th>V23</th>\n",
              "      <th>V24</th>\n",
              "      <th>V25</th>\n",
              "      <th>V26</th>\n",
              "      <th>V27</th>\n",
              "      <th>V28</th>\n",
              "      <th>Amount</th>\n",
              "      <th>Class</th>\n",
              "    </tr>\n",
              "  </thead>\n",
              "  <tbody>\n",
              "    <tr>\n",
              "      <th>0</th>\n",
              "      <td>0.0</td>\n",
              "      <td>-1.359807</td>\n",
              "      <td>-0.072781</td>\n",
              "      <td>2.536347</td>\n",
              "      <td>1.378155</td>\n",
              "      <td>-0.338321</td>\n",
              "      <td>0.462388</td>\n",
              "      <td>0.239599</td>\n",
              "      <td>0.098698</td>\n",
              "      <td>0.363787</td>\n",
              "      <td>0.090794</td>\n",
              "      <td>-0.551600</td>\n",
              "      <td>-0.617801</td>\n",
              "      <td>-0.991390</td>\n",
              "      <td>-0.311169</td>\n",
              "      <td>1.468177</td>\n",
              "      <td>-0.470401</td>\n",
              "      <td>0.207971</td>\n",
              "      <td>0.025791</td>\n",
              "      <td>0.403993</td>\n",
              "      <td>0.251412</td>\n",
              "      <td>-0.018307</td>\n",
              "      <td>0.277838</td>\n",
              "      <td>-0.110474</td>\n",
              "      <td>0.066928</td>\n",
              "      <td>0.128539</td>\n",
              "      <td>-0.189115</td>\n",
              "      <td>0.133558</td>\n",
              "      <td>-0.021053</td>\n",
              "      <td>149.62</td>\n",
              "      <td>0</td>\n",
              "    </tr>\n",
              "    <tr>\n",
              "      <th>1</th>\n",
              "      <td>0.0</td>\n",
              "      <td>1.191857</td>\n",
              "      <td>0.266151</td>\n",
              "      <td>0.166480</td>\n",
              "      <td>0.448154</td>\n",
              "      <td>0.060018</td>\n",
              "      <td>-0.082361</td>\n",
              "      <td>-0.078803</td>\n",
              "      <td>0.085102</td>\n",
              "      <td>-0.255425</td>\n",
              "      <td>-0.166974</td>\n",
              "      <td>1.612727</td>\n",
              "      <td>1.065235</td>\n",
              "      <td>0.489095</td>\n",
              "      <td>-0.143772</td>\n",
              "      <td>0.635558</td>\n",
              "      <td>0.463917</td>\n",
              "      <td>-0.114805</td>\n",
              "      <td>-0.183361</td>\n",
              "      <td>-0.145783</td>\n",
              "      <td>-0.069083</td>\n",
              "      <td>-0.225775</td>\n",
              "      <td>-0.638672</td>\n",
              "      <td>0.101288</td>\n",
              "      <td>-0.339846</td>\n",
              "      <td>0.167170</td>\n",
              "      <td>0.125895</td>\n",
              "      <td>-0.008983</td>\n",
              "      <td>0.014724</td>\n",
              "      <td>2.69</td>\n",
              "      <td>0</td>\n",
              "    </tr>\n",
              "    <tr>\n",
              "      <th>2</th>\n",
              "      <td>1.0</td>\n",
              "      <td>-1.358354</td>\n",
              "      <td>-1.340163</td>\n",
              "      <td>1.773209</td>\n",
              "      <td>0.379780</td>\n",
              "      <td>-0.503198</td>\n",
              "      <td>1.800499</td>\n",
              "      <td>0.791461</td>\n",
              "      <td>0.247676</td>\n",
              "      <td>-1.514654</td>\n",
              "      <td>0.207643</td>\n",
              "      <td>0.624501</td>\n",
              "      <td>0.066084</td>\n",
              "      <td>0.717293</td>\n",
              "      <td>-0.165946</td>\n",
              "      <td>2.345865</td>\n",
              "      <td>-2.890083</td>\n",
              "      <td>1.109969</td>\n",
              "      <td>-0.121359</td>\n",
              "      <td>-2.261857</td>\n",
              "      <td>0.524980</td>\n",
              "      <td>0.247998</td>\n",
              "      <td>0.771679</td>\n",
              "      <td>0.909412</td>\n",
              "      <td>-0.689281</td>\n",
              "      <td>-0.327642</td>\n",
              "      <td>-0.139097</td>\n",
              "      <td>-0.055353</td>\n",
              "      <td>-0.059752</td>\n",
              "      <td>378.66</td>\n",
              "      <td>0</td>\n",
              "    </tr>\n",
              "    <tr>\n",
              "      <th>3</th>\n",
              "      <td>1.0</td>\n",
              "      <td>-0.966272</td>\n",
              "      <td>-0.185226</td>\n",
              "      <td>1.792993</td>\n",
              "      <td>-0.863291</td>\n",
              "      <td>-0.010309</td>\n",
              "      <td>1.247203</td>\n",
              "      <td>0.237609</td>\n",
              "      <td>0.377436</td>\n",
              "      <td>-1.387024</td>\n",
              "      <td>-0.054952</td>\n",
              "      <td>-0.226487</td>\n",
              "      <td>0.178228</td>\n",
              "      <td>0.507757</td>\n",
              "      <td>-0.287924</td>\n",
              "      <td>-0.631418</td>\n",
              "      <td>-1.059647</td>\n",
              "      <td>-0.684093</td>\n",
              "      <td>1.965775</td>\n",
              "      <td>-1.232622</td>\n",
              "      <td>-0.208038</td>\n",
              "      <td>-0.108300</td>\n",
              "      <td>0.005274</td>\n",
              "      <td>-0.190321</td>\n",
              "      <td>-1.175575</td>\n",
              "      <td>0.647376</td>\n",
              "      <td>-0.221929</td>\n",
              "      <td>0.062723</td>\n",
              "      <td>0.061458</td>\n",
              "      <td>123.50</td>\n",
              "      <td>0</td>\n",
              "    </tr>\n",
              "    <tr>\n",
              "      <th>4</th>\n",
              "      <td>2.0</td>\n",
              "      <td>-1.158233</td>\n",
              "      <td>0.877737</td>\n",
              "      <td>1.548718</td>\n",
              "      <td>0.403034</td>\n",
              "      <td>-0.407193</td>\n",
              "      <td>0.095921</td>\n",
              "      <td>0.592941</td>\n",
              "      <td>-0.270533</td>\n",
              "      <td>0.817739</td>\n",
              "      <td>0.753074</td>\n",
              "      <td>-0.822843</td>\n",
              "      <td>0.538196</td>\n",
              "      <td>1.345852</td>\n",
              "      <td>-1.119670</td>\n",
              "      <td>0.175121</td>\n",
              "      <td>-0.451449</td>\n",
              "      <td>-0.237033</td>\n",
              "      <td>-0.038195</td>\n",
              "      <td>0.803487</td>\n",
              "      <td>0.408542</td>\n",
              "      <td>-0.009431</td>\n",
              "      <td>0.798278</td>\n",
              "      <td>-0.137458</td>\n",
              "      <td>0.141267</td>\n",
              "      <td>-0.206010</td>\n",
              "      <td>0.502292</td>\n",
              "      <td>0.219422</td>\n",
              "      <td>0.215153</td>\n",
              "      <td>69.99</td>\n",
              "      <td>0</td>\n",
              "    </tr>\n",
              "  </tbody>\n",
              "</table>\n",
              "</div>"
            ],
            "text/plain": [
              "   Time        V1        V2        V3  ...       V27       V28  Amount  Class\n",
              "0   0.0 -1.359807 -0.072781  2.536347  ...  0.133558 -0.021053  149.62      0\n",
              "1   0.0  1.191857  0.266151  0.166480  ... -0.008983  0.014724    2.69      0\n",
              "2   1.0 -1.358354 -1.340163  1.773209  ... -0.055353 -0.059752  378.66      0\n",
              "3   1.0 -0.966272 -0.185226  1.792993  ...  0.062723  0.061458  123.50      0\n",
              "4   2.0 -1.158233  0.877737  1.548718  ...  0.219422  0.215153   69.99      0\n",
              "\n",
              "[5 rows x 31 columns]"
            ]
          },
          "metadata": {
            "tags": []
          },
          "execution_count": 3
        }
      ]
    },
    {
      "cell_type": "code",
      "metadata": {
        "id": "febtWpwQR6Bc"
      },
      "source": [
        "X = df.drop(columns=['Class'])\n",
        "y = df['Class']"
      ],
      "execution_count": 4,
      "outputs": []
    },
    {
      "cell_type": "markdown",
      "metadata": {
        "id": "_dZ-FdwPOS3B"
      },
      "source": [
        "### (2 балла) Обучите несколько моделей, посмотрите на метрики.\n",
        "Как модели точно возьмите LogisticRegression, KNN и константу, можете придумать еще какие-нибудь.\n",
        "\n",
        "Как метрики точно возьмите accuracy, precision, recall, f1, roc_auc. Постройте ROC-кривую."
      ]
    },
    {
      "cell_type": "code",
      "metadata": {
        "id": "0ITohINqOS3B"
      },
      "source": [
        "from sklearn.model_selection import train_test_split\n",
        "\n",
        "X_train, X_test, y_train, y_test = train_test_split(X, y, test_size=0.1, random_state=42)"
      ],
      "execution_count": 5,
      "outputs": []
    },
    {
      "cell_type": "code",
      "metadata": {
        "id": "6f_RC_mtOS3C"
      },
      "source": [
        "from sklearn.linear_model import LogisticRegression\n",
        "\n",
        "log_reg = LogisticRegression(max_iter=1000) \n",
        "log_reg.fit(X_train, y_train)\n",
        "\n",
        "y_pred_log_reg = log_reg.predict(X_test)\n",
        "y_pred_proba_log_reg  = log_reg.predict_proba(X_test)[:, 1]"
      ],
      "execution_count": 6,
      "outputs": []
    },
    {
      "cell_type": "code",
      "metadata": {
        "colab": {
          "base_uri": "https://localhost:8080/"
        },
        "id": "M_lFdYfdW_GL",
        "outputId": "e580d8a7-7778-472f-f7d4-02b732833207"
      },
      "source": [
        "from collections import Counter\n",
        "print(Counter(y_train))\n",
        "\n",
        "y_pred_const = np.zeros(len(X_test))"
      ],
      "execution_count": 7,
      "outputs": [
        {
          "output_type": "stream",
          "text": [
            "Counter({0: 255880, 1: 446})\n"
          ],
          "name": "stdout"
        }
      ]
    },
    {
      "cell_type": "markdown",
      "metadata": {
        "id": "WS7VSll-Yy0V"
      },
      "source": [
        "Значит нормальных транзакций в 560 рах больше, чем мошеннические. Поэтому будем считать, что все люди честные."
      ]
    },
    {
      "cell_type": "code",
      "metadata": {
        "id": "eArkMw0-Wcla"
      },
      "source": [
        "from sklearn.neighbors import KNeighborsClassifier\n",
        "knn = KNeighborsClassifier(n_neighbors=5)\n",
        "knn.fit(X_train, y_train)\n",
        "\n",
        "y_pred_knn = knn.predict(X_test)\n",
        "y_pred_proba_knn  = knn.predict_proba(X_test)[:, 1]"
      ],
      "execution_count": 8,
      "outputs": []
    },
    {
      "cell_type": "code",
      "metadata": {
        "id": "KHZ6_mjtYFUS"
      },
      "source": [
        "from sklearn.metrics import accuracy_score, precision_score, recall_score, f1_score, roc_auc_score"
      ],
      "execution_count": 9,
      "outputs": []
    },
    {
      "cell_type": "code",
      "metadata": {
        "colab": {
          "base_uri": "https://localhost:8080/"
        },
        "id": "WcVfxD9ScDoy",
        "outputId": "d4c18599-0cad-44ef-e0c3-ca7f34cfd76f"
      },
      "source": [
        "print(\"accuracy_score\")\n",
        "print(\"Const = \", accuracy_score(y_test, y_pred_const))\n",
        "print(\"LogReg = \", accuracy_score(y_test, y_pred_log_reg))\n",
        "print(\"Knn = \", accuracy_score(y_test, y_pred_knn))"
      ],
      "execution_count": 10,
      "outputs": [
        {
          "output_type": "stream",
          "text": [
            "accuracy_score\n",
            "Const =  0.9983848881710614\n",
            "LogReg =  0.9989466661985184\n",
            "Knn =  0.9984902215512096\n"
          ],
          "name": "stdout"
        }
      ]
    },
    {
      "cell_type": "code",
      "metadata": {
        "colab": {
          "base_uri": "https://localhost:8080/"
        },
        "id": "7w4FIOBccKk5",
        "outputId": "1aa5557e-7c94-4e7d-f06e-f1eaaa72f3e7"
      },
      "source": [
        "print(\"precision\")\n",
        "print(\"Const = \", precision_score(y_test, y_pred_const, zero_division=0))\n",
        "print(\"LogRes = \", precision_score(y_test, y_pred_log_reg, zero_division=0))\n",
        "print(\"Knn = \", precision_score(y_test, y_pred_knn, zero_division=0))"
      ],
      "execution_count": 11,
      "outputs": [
        {
          "output_type": "stream",
          "text": [
            "precision\n",
            "Const =  0.0\n",
            "LogRes =  0.7352941176470589\n",
            "Knn =  1.0\n"
          ],
          "name": "stdout"
        }
      ]
    },
    {
      "cell_type": "code",
      "metadata": {
        "colab": {
          "base_uri": "https://localhost:8080/"
        },
        "id": "Y-lA93RncXhU",
        "outputId": "a13cd9e2-92a1-4640-9c85-495be3f9a75d"
      },
      "source": [
        "print(\"recall\")\n",
        "print(\"Const = \", recall_score(y_test, y_pred_const))\n",
        "print(\"LogRes = \", recall_score(y_test, y_pred_log_reg))\n",
        "print(\"Knn = \", recall_score(y_test, y_pred_knn))"
      ],
      "execution_count": 12,
      "outputs": [
        {
          "output_type": "stream",
          "text": [
            "recall\n",
            "Const =  0.0\n",
            "LogRes =  0.5434782608695652\n",
            "Knn =  0.06521739130434782\n"
          ],
          "name": "stdout"
        }
      ]
    },
    {
      "cell_type": "code",
      "metadata": {
        "colab": {
          "base_uri": "https://localhost:8080/"
        },
        "id": "9hyX1qgVcclx",
        "outputId": "0bd11dad-d157-4e96-f673-a43a57fca3e1"
      },
      "source": [
        "print(\"f1\")\n",
        "print(\"Const = \", f1_score(y_test, y_pred_const))\n",
        "print(\"LogRes = \", f1_score(y_test, y_pred_log_reg))\n",
        "print(\"Knn = \", f1_score(y_test, y_pred_knn))"
      ],
      "execution_count": 13,
      "outputs": [
        {
          "output_type": "stream",
          "text": [
            "f1\n",
            "Const =  0.0\n",
            "LogRes =  0.625\n",
            "Knn =  0.12244897959183672\n"
          ],
          "name": "stdout"
        }
      ]
    },
    {
      "cell_type": "code",
      "metadata": {
        "colab": {
          "base_uri": "https://localhost:8080/"
        },
        "id": "p0fuHlmOdb8y",
        "outputId": "152ce3df-5789-4de3-f954-4179daa66703"
      },
      "source": [
        "print(\"roc_auc_score\")\n",
        "print(\"Const = \", roc_auc_score(y_test, y_pred_const))\n",
        "print(\"LogRes = \", roc_auc_score(y_test, y_pred_log_reg))\n",
        "print(\"Knn = \", roc_auc_score(y_test, y_pred_knn))"
      ],
      "execution_count": 14,
      "outputs": [
        {
          "output_type": "stream",
          "text": [
            "roc_auc_score\n",
            "Const =  0.5\n",
            "LogRes =  0.7715808747639543\n",
            "Knn =  0.532608695652174\n"
          ],
          "name": "stdout"
        }
      ]
    },
    {
      "cell_type": "code",
      "metadata": {
        "colab": {
          "base_uri": "https://localhost:8080/",
          "height": 458
        },
        "id": "twi69VNsw5u7",
        "outputId": "e07b0dbc-b5da-48f6-f3d8-e50238d7e3ba"
      },
      "source": [
        "from sklearn.metrics import roc_curve\n",
        "plt.figure(figsize=(7, 7))\n",
        "\n",
        "fpr, tpr, thresholds = roc_curve(y_test, y_pred_proba_log_reg)\n",
        "plt.plot(fpr, tpr, 'b', linewidth=3)\n",
        "plt.plot([0, 1], [0, 1], 'k--')\n",
        "plt.plot([0, 0], [0, 1], 'k')\n",
        "plt.plot([1, 1], [0, 1], 'k')\n",
        "plt.plot([0, 1], [0, 0], 'k')\n",
        "plt.plot([0, 1], [1, 1], 'k')\n",
        "plt.xlabel('False positive rate')\n",
        "plt.ylabel('True positive rate')\n",
        "plt.xlim((0, 1))\n",
        "plt.ylim((0, 1))\n",
        "plt.axis('equal')\n",
        "plt.title('ROC curve')\n",
        "plt.show()"
      ],
      "execution_count": 15,
      "outputs": [
        {
          "output_type": "display_data",
          "data": {
            "image/png": "[encoded data removed]",
            "text/plain": [
              "<Figure size 504x504 with 1 Axes>"
            ]
          },
          "metadata": {
            "tags": [],
            "needs_background": "light"
          }
        }
      ]
    },
    {
      "cell_type": "code",
      "metadata": {
        "colab": {
          "base_uri": "https://localhost:8080/",
          "height": 458
        },
        "id": "P2rPViRMx9aj",
        "outputId": "cd834a2d-fed3-46c6-d6c8-9d1bba4af23f"
      },
      "source": [
        "plt.figure(figsize=(7, 7))\n",
        "fpr, tpr, thresholds = roc_curve(y_test, y_pred_proba_knn)\n",
        "plt.plot(fpr, tpr, 'b', linewidth=3)\n",
        "plt.plot([0, 1], [0, 1], 'k--')\n",
        "plt.plot([0, 0], [0, 1], 'k')\n",
        "plt.plot([1, 1], [0, 1], 'k')\n",
        "plt.plot([0, 1], [0, 0], 'k')\n",
        "plt.plot([0, 1], [1, 1], 'k')\n",
        "plt.xlabel('False positive rate')\n",
        "plt.ylabel('True positive rate')\n",
        "plt.xlim((0, 1))\n",
        "plt.ylim((0, 1))\n",
        "plt.axis('equal')\n",
        "plt.title('ROC curve')\n",
        "plt.show()"
      ],
      "execution_count": 16,
      "outputs": [
        {
          "output_type": "display_data",
          "data": {
            "image/png": "[encoded data removed]",
            "text/plain": [
              "<Figure size 504x504 with 1 Axes>"
            ]
          },
          "metadata": {
            "tags": [],
            "needs_background": "light"
          }
        }
      ]
    },
    {
      "cell_type": "markdown",
      "metadata": {
        "id": "QQcxOojaOS3C"
      },
      "source": [
        "### (1 балл) Выберите одну метрику, которую вы будете максимизировать\n",
        "\n",
        "Представьте, что вы решаете задачу автоматического поиска мошеннических транзакций, чтобы ваш робот автоматически банил пользователей, который их осуществляют.\n",
        "\n",
        "Обоснуйте свой выбор."
      ]
    },
    {
      "cell_type": "markdown",
      "metadata": {
        "id": "5TinUr0vzY-R"
      },
      "source": [
        "**Мой выбор**\n",
        "\n",
        "Почему не стоит максимизировать accuracy\n",
        "\n",
        "1) Мошенников очень мало, в сравнении с порядочными гражданами, поэтому значения accuracy всешда очень высокие\n",
        "\n",
        "...анализ...\n",
        "\n",
        "Проанализироав другие метрики, я принял решение максимизировать recall, тк наша задача наиболее точно определять нетепичное(мошенническое) передвижение денег на счетах. recall как раз позволит оценить долю объектов класса 1, которые наш классификатор определил правильно."
      ]
    },
    {
      "cell_type": "markdown",
      "metadata": {
        "id": "wsxNh8lPOS3C"
      },
      "source": [
        "### (2 балла) Переберите гиперпараметры разных моделей, попытайтесь добиться лучшего результата по этой метрике\n",
        "\n",
        "Постройте график для каждого перебора, сделайте красивый отчет (не надо просто говорить \"я решил выбрать 2, 0.7 и 6, так не пойдет\".\n",
        "\n",
        "Можно преобразовывать датасет, преобразовывать, добавлять, удалять фичи, всё что угодно.\n",
        "\n",
        "Отсутствие результата тоже результат (вдруг вы перебрали кучу вещей, а лучший все еще самый первый запуск, главное что перебрали)."
      ]
    },
    {
      "cell_type": "code",
      "metadata": {
        "id": "n6FwcPKlOS3D"
      },
      "source": [
        "lambdas = np.arange(0.05,0.4,0.05)\n",
        "data = [[] for i in range(len(lambdas))]\n",
        "\n",
        "for i in range(len(lambdas)):\n",
        "  X_train, X_test, y_train, y_test = train_test_split(X, y, test_size=lambdas[i], random_state=42)\n",
        "\n",
        "  log_reg.fit(X_train, y_train)\n",
        "  y_pred_log_reg = log_reg.predict(X_test)\n",
        "\n",
        "  y_pred_const = np.zeros(len(X_test))\n",
        "\n",
        "  knn.fit(X_train, y_train)\n",
        "  y_pred_knn = knn.predict(X_test)\n",
        "\n",
        "  data[i].append(recall_score(y_test, y_pred_const))\n",
        "  data[i].append(recall_score(y_test, y_pred_log_reg))\n",
        "  data[i].append(recall_score(y_test, y_pred_knn))\n"
      ],
      "execution_count": null,
      "outputs": []
    },
    {
      "cell_type": "code",
      "metadata": {
        "colab": {
          "base_uri": "https://localhost:8080/",
          "height": 282
        },
        "id": "_eduvDZUL_ju",
        "outputId": "5bbced13-2c4d-4201-c0de-4f63bf9a3cb8"
      },
      "source": [
        "data = np.array(data)\n",
        "\n",
        "plt.plot(lambdas, data[:,0])\n",
        "plt.plot(lambdas, data[:,1])\n",
        "plt.plot(lambdas, data[:,2])"
      ],
      "execution_count": null,
      "outputs": [
        {
          "output_type": "execute_result",
          "data": {
            "text/plain": [
              "[<matplotlib.lines.Line2D at 0x7f7013a09d10>]"
            ]
          },
          "metadata": {
            "tags": []
          },
          "execution_count": 121
        },
        {
          "output_type": "display_data",
          "data": {
            "image/png": "[encoded data removed]",
            "text/plain": [
              "<Figure size 432x288 with 1 Axes>"
            ]
          },
          "metadata": {
            "tags": [],
            "needs_background": "light"
          }
        }
      ]
    },
    {
      "cell_type": "markdown",
      "metadata": {
        "id": "dLy-9mDDPTfX"
      },
      "source": [
        "Из графика видно, что при большом размере датасета себя неплохой результат recall достигается при 30% размере тестовой выборки относительно всех данных.\n",
        "\n",
        "Также не будем впредь рассатривать наивную модель, тк она не дает никакого результата.\n",
        "\n",
        "Также можно наблюдать, что logreg справляется с поставленной задачей намного лучне, но knn не будем уберать из виду, оставим его для дальнейших наблюдений."
      ]
    },
    {
      "cell_type": "code",
      "metadata": {
        "colab": {
          "base_uri": "https://localhost:8080/"
        },
        "id": "__-rIUnZO8ff",
        "outputId": "4864bfbd-6d48-4f57-d96d-221467918248"
      },
      "source": [
        "X_train, X_test, y_train, y_test = train_test_split(X, y, test_size=0.3, random_state=42)\n",
        "\n",
        "log_reg.fit(X_train, y_train)\n",
        "y_pred_log_reg = log_reg.predict(X_test)\n",
        "\n",
        "knn.fit(X_train, y_train)\n",
        "y_pred_knn = knn.predict(X_test)\n",
        "\n",
        "\n",
        "recall_score(y_test, y_pred_log_reg), recall_score(y_test, y_pred_knn)"
      ],
      "execution_count": 17,
      "outputs": [
        {
          "output_type": "execute_result",
          "data": {
            "text/plain": [
              "(0.6102941176470589, 0.04411764705882353)"
            ]
          },
          "metadata": {
            "tags": []
          },
          "execution_count": 17
        }
      ]
    },
    {
      "cell_type": "markdown",
      "metadata": {
        "id": "4J1WP6s_QK0h"
      },
      "source": [
        "Попробуем выкинуть признаки. Посмотрим на резутльтат."
      ]
    },
    {
      "cell_type": "code",
      "metadata": {
        "id": "pavlC26TOS3D"
      },
      "source": [
        "lambdas = ['Time', 'V5', 'V9', 'V13', 'V17', 'Amount']\n",
        "data = [[] for i in range(len(lambdas))]\n",
        "\n",
        "for i in range(len(lambdas)):\n",
        "  X = df.drop(columns=['Class', lambdas[i]])\n",
        "  X_train, X_test, y_train, y_test = train_test_split(X, y, test_size=0.3, random_state=42)\n",
        "\n",
        "  log_reg.fit(X_train, y_train)\n",
        "  y_pred_log_reg = log_reg.predict(X_test)\n",
        "\n",
        "\n",
        "  knn.fit(X_train, y_train)\n",
        "  y_pred_knn = knn.predict(X_test)\n",
        "\n",
        "  data[i].append(recall_score(y_test, y_pred_log_reg))\n",
        "  data[i].append(recall_score(y_test, y_pred_knn))\n"
      ],
      "execution_count": 20,
      "outputs": []
    },
    {
      "cell_type": "code",
      "metadata": {
        "colab": {
          "base_uri": "https://localhost:8080/",
          "height": 282
        },
        "id": "BYzWR1gez5_Y",
        "outputId": "2d361993-f960-4f7f-ec93-5d11db62398c"
      },
      "source": [
        "data = np.array(data)\n",
        "\n",
        "plt.plot(lambdas, data[:,0])\n",
        "plt.plot(lambdas, data[:,1])"
      ],
      "execution_count": 22,
      "outputs": [
        {
          "output_type": "execute_result",
          "data": {
            "text/plain": [
              "[<matplotlib.lines.Line2D at 0x7fa08219db10>]"
            ]
          },
          "metadata": {
            "tags": []
          },
          "execution_count": 22
        },
        {
          "output_type": "display_data",
          "data": {
            "image/png": "[encoded data removed]",
            "text/plain": [
              "<Figure size 432x288 with 1 Axes>"
            ]
          },
          "metadata": {
            "tags": [],
            "needs_background": "light"
          }
        }
      ]
    },
    {
      "cell_type": "code",
      "metadata": {
        "id": "VqFIA2zmOS3D",
        "colab": {
          "base_uri": "https://localhost:8080/",
          "height": 126
        },
        "outputId": "31990bd1-4abd-40ad-c401-f949900535cd"
      },
      "source": [
        "df.head(2)"
      ],
      "execution_count": 18,
      "outputs": [
        {
          "output_type": "execute_result",
          "data": {
            "text/html": [
              "<div>\n",
              "<style scoped>\n",
              "    .dataframe tbody tr th:only-of-type {\n",
              "        vertical-align: middle;\n",
              "    }\n",
              "\n",
              "    .dataframe tbody tr th {\n",
              "        vertical-align: top;\n",
              "    }\n",
              "\n",
              "    .dataframe thead th {\n",
              "        text-align: right;\n",
              "    }\n",
              "</style>\n",
              "<table border=\"1\" class=\"dataframe\">\n",
              "  <thead>\n",
              "    <tr style=\"text-align: right;\">\n",
              "      <th></th>\n",
              "      <th>Time</th>\n",
              "      <th>V1</th>\n",
              "      <th>V2</th>\n",
              "      <th>V3</th>\n",
              "      <th>V4</th>\n",
              "      <th>V5</th>\n",
              "      <th>V6</th>\n",
              "      <th>V7</th>\n",
              "      <th>V8</th>\n",
              "      <th>V9</th>\n",
              "      <th>V10</th>\n",
              "      <th>V11</th>\n",
              "      <th>V12</th>\n",
              "      <th>V13</th>\n",
              "      <th>V14</th>\n",
              "      <th>V15</th>\n",
              "      <th>V16</th>\n",
              "      <th>V17</th>\n",
              "      <th>V18</th>\n",
              "      <th>V19</th>\n",
              "      <th>V20</th>\n",
              "      <th>V21</th>\n",
              "      <th>V22</th>\n",
              "      <th>V23</th>\n",
              "      <th>V24</th>\n",
              "      <th>V25</th>\n",
              "      <th>V26</th>\n",
              "      <th>V27</th>\n",
              "      <th>V28</th>\n",
              "      <th>Amount</th>\n",
              "      <th>Class</th>\n",
              "    </tr>\n",
              "  </thead>\n",
              "  <tbody>\n",
              "    <tr>\n",
              "      <th>0</th>\n",
              "      <td>0.0</td>\n",
              "      <td>-1.359807</td>\n",
              "      <td>-0.072781</td>\n",
              "      <td>2.536347</td>\n",
              "      <td>1.378155</td>\n",
              "      <td>-0.338321</td>\n",
              "      <td>0.462388</td>\n",
              "      <td>0.239599</td>\n",
              "      <td>0.098698</td>\n",
              "      <td>0.363787</td>\n",
              "      <td>0.090794</td>\n",
              "      <td>-0.551600</td>\n",
              "      <td>-0.617801</td>\n",
              "      <td>-0.991390</td>\n",
              "      <td>-0.311169</td>\n",
              "      <td>1.468177</td>\n",
              "      <td>-0.470401</td>\n",
              "      <td>0.207971</td>\n",
              "      <td>0.025791</td>\n",
              "      <td>0.403993</td>\n",
              "      <td>0.251412</td>\n",
              "      <td>-0.018307</td>\n",
              "      <td>0.277838</td>\n",
              "      <td>-0.110474</td>\n",
              "      <td>0.066928</td>\n",
              "      <td>0.128539</td>\n",
              "      <td>-0.189115</td>\n",
              "      <td>0.133558</td>\n",
              "      <td>-0.021053</td>\n",
              "      <td>149.62</td>\n",
              "      <td>0</td>\n",
              "    </tr>\n",
              "    <tr>\n",
              "      <th>1</th>\n",
              "      <td>0.0</td>\n",
              "      <td>1.191857</td>\n",
              "      <td>0.266151</td>\n",
              "      <td>0.166480</td>\n",
              "      <td>0.448154</td>\n",
              "      <td>0.060018</td>\n",
              "      <td>-0.082361</td>\n",
              "      <td>-0.078803</td>\n",
              "      <td>0.085102</td>\n",
              "      <td>-0.255425</td>\n",
              "      <td>-0.166974</td>\n",
              "      <td>1.612727</td>\n",
              "      <td>1.065235</td>\n",
              "      <td>0.489095</td>\n",
              "      <td>-0.143772</td>\n",
              "      <td>0.635558</td>\n",
              "      <td>0.463917</td>\n",
              "      <td>-0.114805</td>\n",
              "      <td>-0.183361</td>\n",
              "      <td>-0.145783</td>\n",
              "      <td>-0.069083</td>\n",
              "      <td>-0.225775</td>\n",
              "      <td>-0.638672</td>\n",
              "      <td>0.101288</td>\n",
              "      <td>-0.339846</td>\n",
              "      <td>0.167170</td>\n",
              "      <td>0.125895</td>\n",
              "      <td>-0.008983</td>\n",
              "      <td>0.014724</td>\n",
              "      <td>2.69</td>\n",
              "      <td>0</td>\n",
              "    </tr>\n",
              "  </tbody>\n",
              "</table>\n",
              "</div>"
            ],
            "text/plain": [
              "   Time        V1        V2        V3  ...       V27       V28  Amount  Class\n",
              "0   0.0 -1.359807 -0.072781  2.536347  ...  0.133558 -0.021053  149.62      0\n",
              "1   0.0  1.191857  0.266151  0.166480  ... -0.008983  0.014724    2.69      0\n",
              "\n",
              "[2 rows x 31 columns]"
            ]
          },
          "metadata": {
            "tags": []
          },
          "execution_count": 18
        }
      ]
    },
    {
      "cell_type": "markdown",
      "metadata": {
        "id": "qGnosVfB-h21"
      },
      "source": [
        "В ходе эксперимента было установлено, что удаление, добавление, признаков я понял, что улучшения не происходит. Заметил, что при уделении Time knn выдает примерно тот же recall, что и logreg"
      ]
    },
    {
      "cell_type": "markdown",
      "metadata": {
        "id": "1FST-NkVOS3D"
      },
      "source": [
        "# 2 - Небинарная классификация на вашем датасете (суммарно 6 баллов)"
      ]
    },
    {
      "cell_type": "markdown",
      "metadata": {
        "id": "NS8xvbXkOS3D"
      },
      "source": [
        "### (2 балла) Выберите какой-нибудь интересный вам датасет, скачайте его и считайте данные\n",
        "\n",
        "Творческое задание - найти в интернете (или собрать свой даже) датасет, сохранить его в файл, и загрузить сюда.\n",
        "\n",
        "Требования:\n",
        "\n",
        "- он должен быть немаленький (хотя бы 500 объектов, лучше больше)\n",
        "- он должен быть интересный\n",
        "- таргет должен быть небинарным классом\n",
        "\n",
        "Минус балл, если ваш датасет с кем-нибудь повторится."
      ]
    },
    {
      "cell_type": "markdown",
      "metadata": {
        "id": "a9NfoVNRPP_v"
      },
      "source": [
        "https://www.kaggle.com/shivan118/hranalysis"
      ]
    },
    {
      "cell_type": "code",
      "metadata": {
        "id": "pvpYC7txOS3E"
      },
      "source": [
        "df = pd.read_csv('test.csv')"
      ],
      "execution_count": 151,
      "outputs": []
    },
    {
      "cell_type": "code",
      "metadata": {
        "id": "84CCpTB9OS3E",
        "colab": {
          "base_uri": "https://localhost:8080/",
          "height": 249
        },
        "outputId": "3b05f2c6-66ed-459b-96a8-4b65e552c367"
      },
      "source": [
        "df.head(5)"
      ],
      "execution_count": 152,
      "outputs": [
        {
          "output_type": "execute_result",
          "data": {
            "text/html": [
              "<div>\n",
              "<style scoped>\n",
              "    .dataframe tbody tr th:only-of-type {\n",
              "        vertical-align: middle;\n",
              "    }\n",
              "\n",
              "    .dataframe tbody tr th {\n",
              "        vertical-align: top;\n",
              "    }\n",
              "\n",
              "    .dataframe thead th {\n",
              "        text-align: right;\n",
              "    }\n",
              "</style>\n",
              "<table border=\"1\" class=\"dataframe\">\n",
              "  <thead>\n",
              "    <tr style=\"text-align: right;\">\n",
              "      <th></th>\n",
              "      <th>employee_id</th>\n",
              "      <th>department</th>\n",
              "      <th>region</th>\n",
              "      <th>education</th>\n",
              "      <th>gender</th>\n",
              "      <th>recruitment_channel</th>\n",
              "      <th>no_of_trainings</th>\n",
              "      <th>age</th>\n",
              "      <th>previous_year_rating</th>\n",
              "      <th>length_of_service</th>\n",
              "      <th>KPIs_met &gt;80%</th>\n",
              "      <th>awards_won?</th>\n",
              "      <th>avg_training_score</th>\n",
              "    </tr>\n",
              "  </thead>\n",
              "  <tbody>\n",
              "    <tr>\n",
              "      <th>0</th>\n",
              "      <td>8724</td>\n",
              "      <td>Technology</td>\n",
              "      <td>region_26</td>\n",
              "      <td>Bachelor's</td>\n",
              "      <td>m</td>\n",
              "      <td>sourcing</td>\n",
              "      <td>1</td>\n",
              "      <td>24</td>\n",
              "      <td>NaN</td>\n",
              "      <td>1</td>\n",
              "      <td>1</td>\n",
              "      <td>0</td>\n",
              "      <td>77</td>\n",
              "    </tr>\n",
              "    <tr>\n",
              "      <th>1</th>\n",
              "      <td>74430</td>\n",
              "      <td>HR</td>\n",
              "      <td>region_4</td>\n",
              "      <td>Bachelor's</td>\n",
              "      <td>f</td>\n",
              "      <td>other</td>\n",
              "      <td>1</td>\n",
              "      <td>31</td>\n",
              "      <td>3.0</td>\n",
              "      <td>5</td>\n",
              "      <td>0</td>\n",
              "      <td>0</td>\n",
              "      <td>51</td>\n",
              "    </tr>\n",
              "    <tr>\n",
              "      <th>2</th>\n",
              "      <td>72255</td>\n",
              "      <td>Sales &amp; Marketing</td>\n",
              "      <td>region_13</td>\n",
              "      <td>Bachelor's</td>\n",
              "      <td>m</td>\n",
              "      <td>other</td>\n",
              "      <td>1</td>\n",
              "      <td>31</td>\n",
              "      <td>1.0</td>\n",
              "      <td>4</td>\n",
              "      <td>0</td>\n",
              "      <td>0</td>\n",
              "      <td>47</td>\n",
              "    </tr>\n",
              "    <tr>\n",
              "      <th>3</th>\n",
              "      <td>38562</td>\n",
              "      <td>Procurement</td>\n",
              "      <td>region_2</td>\n",
              "      <td>Bachelor's</td>\n",
              "      <td>f</td>\n",
              "      <td>other</td>\n",
              "      <td>3</td>\n",
              "      <td>31</td>\n",
              "      <td>2.0</td>\n",
              "      <td>9</td>\n",
              "      <td>0</td>\n",
              "      <td>0</td>\n",
              "      <td>65</td>\n",
              "    </tr>\n",
              "    <tr>\n",
              "      <th>4</th>\n",
              "      <td>64486</td>\n",
              "      <td>Finance</td>\n",
              "      <td>region_29</td>\n",
              "      <td>Bachelor's</td>\n",
              "      <td>m</td>\n",
              "      <td>sourcing</td>\n",
              "      <td>1</td>\n",
              "      <td>30</td>\n",
              "      <td>4.0</td>\n",
              "      <td>7</td>\n",
              "      <td>0</td>\n",
              "      <td>0</td>\n",
              "      <td>61</td>\n",
              "    </tr>\n",
              "  </tbody>\n",
              "</table>\n",
              "</div>"
            ],
            "text/plain": [
              "   employee_id         department  ... awards_won? avg_training_score\n",
              "0         8724         Technology  ...           0                 77\n",
              "1        74430                 HR  ...           0                 51\n",
              "2        72255  Sales & Marketing  ...           0                 47\n",
              "3        38562        Procurement  ...           0                 65\n",
              "4        64486            Finance  ...           0                 61\n",
              "\n",
              "[5 rows x 13 columns]"
            ]
          },
          "metadata": {
            "tags": []
          },
          "execution_count": 152
        }
      ]
    },
    {
      "cell_type": "markdown",
      "metadata": {
        "id": "g00UUySOQqPN"
      },
      "source": [
        "Создадим искуственно 10 классов для avg_training_score"
      ]
    },
    {
      "cell_type": "code",
      "metadata": {
        "id": "XgyI-pXPWK54"
      },
      "source": [
        "df.education.fillna('NS',inplace=True)\n",
        "df.previous_year_rating.fillna(0.0,inplace=True)"
      ],
      "execution_count": 155,
      "outputs": []
    },
    {
      "cell_type": "code",
      "metadata": {
        "id": "oRzOMP3yYUCo"
      },
      "source": [
        "df.loc[df['recruitment_channel'] == 'other', 'recruitment_channel'] = 0.0\n",
        "df.loc[df['recruitment_channel'] == 'sourcing', 'recruitment_channel'] = 1.0\n",
        "df.loc[df['recruitment_channel'] == 'referred', 'recruitment_channel'] = 2.0"
      ],
      "execution_count": 156,
      "outputs": []
    },
    {
      "cell_type": "code",
      "metadata": {
        "id": "5iBdXXhXYpYU"
      },
      "source": [
        "df = df.drop(columns=['department','region'])"
      ],
      "execution_count": 157,
      "outputs": []
    },
    {
      "cell_type": "code",
      "metadata": {
        "id": "hPDGC8t5Zy4I"
      },
      "source": [
        "df.loc[df['gender'] == 'm', 'gender'] = 0.0\n",
        "df.loc[df['gender'] == 'f', 'gender'] = 1.0"
      ],
      "execution_count": 159,
      "outputs": []
    },
    {
      "cell_type": "code",
      "metadata": {
        "id": "V6glbrZHZfAq"
      },
      "source": [
        "df.loc[df['education'] == 'NS', 'education'] = 0.0\n",
        "df.loc[df['education'] == 'Below Secondary', 'education'] = 1.0\n",
        "df.loc[df['education'] == \"Bachelor's\", 'education'] = 2.0\n",
        "df.loc[df['education'] == \"Master's & above\", 'education'] = 3.0"
      ],
      "execution_count": 160,
      "outputs": []
    },
    {
      "cell_type": "code",
      "metadata": {
        "colab": {
          "base_uri": "https://localhost:8080/",
          "height": 438
        },
        "id": "kxl2OzpfaoW4",
        "outputId": "c696d90f-99c4-42bb-82e7-77ea0e8e6017"
      },
      "source": [
        "df = df.astype(np.float16)\n",
        "\n",
        "df"
      ],
      "execution_count": 161,
      "outputs": [
        {
          "output_type": "execute_result",
          "data": {
            "text/html": [
              "<div>\n",
              "<style scoped>\n",
              "    .dataframe tbody tr th:only-of-type {\n",
              "        vertical-align: middle;\n",
              "    }\n",
              "\n",
              "    .dataframe tbody tr th {\n",
              "        vertical-align: top;\n",
              "    }\n",
              "\n",
              "    .dataframe thead th {\n",
              "        text-align: right;\n",
              "    }\n",
              "</style>\n",
              "<table border=\"1\" class=\"dataframe\">\n",
              "  <thead>\n",
              "    <tr style=\"text-align: right;\">\n",
              "      <th></th>\n",
              "      <th>education</th>\n",
              "      <th>gender</th>\n",
              "      <th>recruitment_channel</th>\n",
              "      <th>no_of_trainings</th>\n",
              "      <th>age</th>\n",
              "      <th>previous_year_rating</th>\n",
              "      <th>length_of_service</th>\n",
              "      <th>KPIs_met &gt;80%</th>\n",
              "      <th>awards_won?</th>\n",
              "      <th>avg_training_score</th>\n",
              "    </tr>\n",
              "  </thead>\n",
              "  <tbody>\n",
              "    <tr>\n",
              "      <th>0</th>\n",
              "      <td>2.0</td>\n",
              "      <td>0.0</td>\n",
              "      <td>1.0</td>\n",
              "      <td>1.0</td>\n",
              "      <td>24.0</td>\n",
              "      <td>0.0</td>\n",
              "      <td>1.0</td>\n",
              "      <td>1.0</td>\n",
              "      <td>0.0</td>\n",
              "      <td>77.0</td>\n",
              "    </tr>\n",
              "    <tr>\n",
              "      <th>1</th>\n",
              "      <td>2.0</td>\n",
              "      <td>1.0</td>\n",
              "      <td>0.0</td>\n",
              "      <td>1.0</td>\n",
              "      <td>31.0</td>\n",
              "      <td>3.0</td>\n",
              "      <td>5.0</td>\n",
              "      <td>0.0</td>\n",
              "      <td>0.0</td>\n",
              "      <td>51.0</td>\n",
              "    </tr>\n",
              "    <tr>\n",
              "      <th>2</th>\n",
              "      <td>2.0</td>\n",
              "      <td>0.0</td>\n",
              "      <td>0.0</td>\n",
              "      <td>1.0</td>\n",
              "      <td>31.0</td>\n",
              "      <td>1.0</td>\n",
              "      <td>4.0</td>\n",
              "      <td>0.0</td>\n",
              "      <td>0.0</td>\n",
              "      <td>47.0</td>\n",
              "    </tr>\n",
              "    <tr>\n",
              "      <th>3</th>\n",
              "      <td>2.0</td>\n",
              "      <td>1.0</td>\n",
              "      <td>0.0</td>\n",
              "      <td>3.0</td>\n",
              "      <td>31.0</td>\n",
              "      <td>2.0</td>\n",
              "      <td>9.0</td>\n",
              "      <td>0.0</td>\n",
              "      <td>0.0</td>\n",
              "      <td>65.0</td>\n",
              "    </tr>\n",
              "    <tr>\n",
              "      <th>4</th>\n",
              "      <td>2.0</td>\n",
              "      <td>0.0</td>\n",
              "      <td>1.0</td>\n",
              "      <td>1.0</td>\n",
              "      <td>30.0</td>\n",
              "      <td>4.0</td>\n",
              "      <td>7.0</td>\n",
              "      <td>0.0</td>\n",
              "      <td>0.0</td>\n",
              "      <td>61.0</td>\n",
              "    </tr>\n",
              "    <tr>\n",
              "      <th>...</th>\n",
              "      <td>...</td>\n",
              "      <td>...</td>\n",
              "      <td>...</td>\n",
              "      <td>...</td>\n",
              "      <td>...</td>\n",
              "      <td>...</td>\n",
              "      <td>...</td>\n",
              "      <td>...</td>\n",
              "      <td>...</td>\n",
              "      <td>...</td>\n",
              "    </tr>\n",
              "    <tr>\n",
              "      <th>23485</th>\n",
              "      <td>1.0</td>\n",
              "      <td>0.0</td>\n",
              "      <td>1.0</td>\n",
              "      <td>1.0</td>\n",
              "      <td>24.0</td>\n",
              "      <td>3.0</td>\n",
              "      <td>1.0</td>\n",
              "      <td>0.0</td>\n",
              "      <td>0.0</td>\n",
              "      <td>61.0</td>\n",
              "    </tr>\n",
              "    <tr>\n",
              "      <th>23486</th>\n",
              "      <td>2.0</td>\n",
              "      <td>0.0</td>\n",
              "      <td>1.0</td>\n",
              "      <td>1.0</td>\n",
              "      <td>31.0</td>\n",
              "      <td>3.0</td>\n",
              "      <td>7.0</td>\n",
              "      <td>0.0</td>\n",
              "      <td>0.0</td>\n",
              "      <td>74.0</td>\n",
              "    </tr>\n",
              "    <tr>\n",
              "      <th>23487</th>\n",
              "      <td>2.0</td>\n",
              "      <td>1.0</td>\n",
              "      <td>1.0</td>\n",
              "      <td>1.0</td>\n",
              "      <td>26.0</td>\n",
              "      <td>4.0</td>\n",
              "      <td>4.0</td>\n",
              "      <td>0.0</td>\n",
              "      <td>0.0</td>\n",
              "      <td>50.0</td>\n",
              "    </tr>\n",
              "    <tr>\n",
              "      <th>23488</th>\n",
              "      <td>2.0</td>\n",
              "      <td>0.0</td>\n",
              "      <td>1.0</td>\n",
              "      <td>3.0</td>\n",
              "      <td>27.0</td>\n",
              "      <td>0.0</td>\n",
              "      <td>1.0</td>\n",
              "      <td>0.0</td>\n",
              "      <td>0.0</td>\n",
              "      <td>70.0</td>\n",
              "    </tr>\n",
              "    <tr>\n",
              "      <th>23489</th>\n",
              "      <td>3.0</td>\n",
              "      <td>0.0</td>\n",
              "      <td>0.0</td>\n",
              "      <td>3.0</td>\n",
              "      <td>40.0</td>\n",
              "      <td>5.0</td>\n",
              "      <td>5.0</td>\n",
              "      <td>1.0</td>\n",
              "      <td>0.0</td>\n",
              "      <td>89.0</td>\n",
              "    </tr>\n",
              "  </tbody>\n",
              "</table>\n",
              "<p>23490 rows × 10 columns</p>\n",
              "</div>"
            ],
            "text/plain": [
              "       education  gender  ...  awards_won?  avg_training_score\n",
              "0            2.0     0.0  ...          0.0                77.0\n",
              "1            2.0     1.0  ...          0.0                51.0\n",
              "2            2.0     0.0  ...          0.0                47.0\n",
              "3            2.0     1.0  ...          0.0                65.0\n",
              "4            2.0     0.0  ...          0.0                61.0\n",
              "...          ...     ...  ...          ...                 ...\n",
              "23485        1.0     0.0  ...          0.0                61.0\n",
              "23486        2.0     0.0  ...          0.0                74.0\n",
              "23487        2.0     1.0  ...          0.0                50.0\n",
              "23488        2.0     0.0  ...          0.0                70.0\n",
              "23489        3.0     0.0  ...          0.0                89.0\n",
              "\n",
              "[23490 rows x 10 columns]"
            ]
          },
          "metadata": {
            "tags": []
          },
          "execution_count": 161
        }
      ]
    },
    {
      "cell_type": "code",
      "metadata": {
        "colab": {
          "base_uri": "https://localhost:8080/"
        },
        "id": "WxAlguUxh033",
        "outputId": "08ef32ea-57c0-42a1-ef9a-371c6741d177"
      },
      "source": [
        "print(Counter(df.education))"
      ],
      "execution_count": 183,
      "outputs": [
        {
          "output_type": "stream",
          "text": [
            "Counter({2.0: 15578, 3.0: 6504, 0.0: 1034, 1.0: 374})\n"
          ],
          "name": "stdout"
        }
      ]
    },
    {
      "cell_type": "markdown",
      "metadata": {
        "id": "RNNluBBQZDkw"
      },
      "source": [
        "Будем предсказывать уровень образования. Для этого произведем ряд нехитных операций с нашими данными, чтобы избавиться от строк.\n",
        "\n",
        "NS = 0\n",
        "\n",
        "Below Secondary = 1\n",
        "\n",
        "Bachelor's = 2\n",
        "\n",
        "Master's & above = 3"
      ]
    },
    {
      "cell_type": "markdown",
      "metadata": {
        "id": "BxeVM_J4OS3E"
      },
      "source": [
        "### (2 балла) Обучите несколько моделей, посмотрите на метрики.\n",
        "Как модели точно возьмите LogisticRegression, KNN и константу, можете придумать еще какие-нибудь.\n",
        "\n",
        "Как метрики точно возьмите accuracy, разные усреднения precision, recall и f1."
      ]
    },
    {
      "cell_type": "code",
      "metadata": {
        "id": "xFzrzn7vOS3E"
      },
      "source": [
        "X = df.drop(columns=['education'])\n",
        "y = df['education']\n",
        "\n",
        "X_train, X_test, y_train, y_test = train_test_split(X, y, test_size=0.3, random_state=42)"
      ],
      "execution_count": 162,
      "outputs": []
    },
    {
      "cell_type": "code",
      "metadata": {
        "id": "5oeYAdJmOS3E",
        "colab": {
          "base_uri": "https://localhost:8080/"
        },
        "outputId": "b9701397-f4c0-4ce6-9477-35a022d7014c"
      },
      "source": [
        "log_reg = LogisticRegression(max_iter=10000)\n",
        "log_reg.fit(X_train, y_train)"
      ],
      "execution_count": 163,
      "outputs": [
        {
          "output_type": "execute_result",
          "data": {
            "text/plain": [
              "LogisticRegression(C=1.0, class_weight=None, dual=False, fit_intercept=True,\n",
              "                   intercept_scaling=1, l1_ratio=None, max_iter=10000,\n",
              "                   multi_class='auto', n_jobs=None, penalty='l2',\n",
              "                   random_state=None, solver='lbfgs', tol=0.0001, verbose=0,\n",
              "                   warm_start=False)"
            ]
          },
          "metadata": {
            "tags": []
          },
          "execution_count": 163
        }
      ]
    },
    {
      "cell_type": "code",
      "metadata": {
        "colab": {
          "base_uri": "https://localhost:8080/"
        },
        "id": "UqOlCrnQgNrA",
        "outputId": "86db669a-5681-4154-f99a-a811940637e2"
      },
      "source": [
        "y_pred_log_reg = log_reg.predict(X_test)\n",
        "y_pred_log_reg"
      ],
      "execution_count": 165,
      "outputs": [
        {
          "output_type": "execute_result",
          "data": {
            "text/plain": [
              "array([3., 2., 2., ..., 3., 2., 2.], dtype=float16)"
            ]
          },
          "metadata": {
            "tags": []
          },
          "execution_count": 165
        }
      ]
    },
    {
      "cell_type": "code",
      "metadata": {
        "colab": {
          "base_uri": "https://localhost:8080/"
        },
        "id": "pT3Gw4cagSWI",
        "outputId": "8db9e3e9-10bd-4731-fea1-3fef72e0c0fc"
      },
      "source": [
        "y_pred_proba_log_reg = log_reg.predict_proba(X_test)\n",
        "y_pred_proba_log_reg[0]\n",
        "sum(y_pred_proba_log_reg[0])"
      ],
      "execution_count": 167,
      "outputs": [
        {
          "output_type": "execute_result",
          "data": {
            "text/plain": [
              "1.0"
            ]
          },
          "metadata": {
            "tags": []
          },
          "execution_count": 167
        }
      ]
    },
    {
      "cell_type": "code",
      "metadata": {
        "colab": {
          "base_uri": "https://localhost:8080/"
        },
        "id": "GP0O3B76gWH3",
        "outputId": "11aa2a46-193a-41d9-cbe9-08ef36e9c497"
      },
      "source": [
        "knn = KNeighborsClassifier(n_neighbors=5)\n",
        "knn.fit(X_train, y_train)"
      ],
      "execution_count": 168,
      "outputs": [
        {
          "output_type": "execute_result",
          "data": {
            "text/plain": [
              "KNeighborsClassifier(algorithm='auto', leaf_size=30, metric='minkowski',\n",
              "                     metric_params=None, n_jobs=None, n_neighbors=5, p=2,\n",
              "                     weights='uniform')"
            ]
          },
          "metadata": {
            "tags": []
          },
          "execution_count": 168
        }
      ]
    },
    {
      "cell_type": "code",
      "metadata": {
        "colab": {
          "base_uri": "https://localhost:8080/"
        },
        "id": "2sIwtft2gYHH",
        "outputId": "f97c9fc4-675d-4545-869b-1f64c836550f"
      },
      "source": [
        "y_pred_knn = knn.predict(X_test)\n",
        "y_pred_knn"
      ],
      "execution_count": 169,
      "outputs": [
        {
          "output_type": "execute_result",
          "data": {
            "text/plain": [
              "array([2., 2., 2., ..., 2., 3., 2.], dtype=float16)"
            ]
          },
          "metadata": {
            "tags": []
          },
          "execution_count": 169
        }
      ]
    },
    {
      "cell_type": "code",
      "metadata": {
        "colab": {
          "base_uri": "https://localhost:8080/"
        },
        "id": "gVXPQNIpgbSH",
        "outputId": "55a81134-8e70-412e-a934-b0159a9a7424"
      },
      "source": [
        "y_pred_proba_knn = knn.predict_proba(X_test)\n",
        "y_pred_proba_knn[3]"
      ],
      "execution_count": 170,
      "outputs": [
        {
          "output_type": "execute_result",
          "data": {
            "text/plain": [
              "array([0. , 0. , 0.8, 0.2])"
            ]
          },
          "metadata": {
            "tags": []
          },
          "execution_count": 170
        }
      ]
    },
    {
      "cell_type": "code",
      "metadata": {
        "colab": {
          "base_uri": "https://localhost:8080/"
        },
        "id": "ukX8E3tViK3f",
        "outputId": "2f901300-4858-4a4a-b140-c26b451c447f"
      },
      "source": [
        "y_pred_const = np.zeros(len(X_test)) \n",
        "y_pred_proba_const = y_pred_const\n",
        "y_pred_proba_const"
      ],
      "execution_count": 186,
      "outputs": [
        {
          "output_type": "execute_result",
          "data": {
            "text/plain": [
              "array([0., 0., 0., ..., 0., 0., 0.])"
            ]
          },
          "metadata": {
            "tags": []
          },
          "execution_count": 186
        }
      ]
    },
    {
      "cell_type": "code",
      "metadata": {
        "colab": {
          "base_uri": "https://localhost:8080/"
        },
        "id": "B01VuC75gebK",
        "outputId": "2f85316f-c3b3-4751-eb05-20ee59a4bcc2"
      },
      "source": [
        "print(accuracy_score(y_test, y_pred_log_reg))\n",
        "print(accuracy_score(y_test, y_pred_knn))\n",
        "print(accuracy_score(y_test, y_pred_const))"
      ],
      "execution_count": 187,
      "outputs": [
        {
          "output_type": "stream",
          "text": [
            "0.6680857102313041\n",
            "0.6398467432950191\n",
            "0.04328082872144175\n"
          ],
          "name": "stdout"
        }
      ]
    },
    {
      "cell_type": "code",
      "metadata": {
        "colab": {
          "base_uri": "https://localhost:8080/"
        },
        "id": "53hWhPsZgh4E",
        "outputId": "2578ac43-26a8-4fd6-ed4b-0f013d5e19ae"
      },
      "source": [
        "print(precision_score(y_test, y_pred_log_reg, average='macro', zero_division='warn'))\n",
        "print(precision_score(y_test, y_pred_knn, average='macro', zero_division='warn'))\n",
        "print(precision_score(y_test, y_pred_const, average='macro', zero_division='warn'))\n",
        "print()\n",
        "print(precision_score(y_test, y_pred_log_reg, average='micro', zero_division='warn'))\n",
        "print(precision_score(y_test, y_pred_knn, average='micro', zero_division='warn'))\n",
        "print(precision_score(y_test, y_pred_const, average='micro', zero_division='warn'))"
      ],
      "execution_count": 188,
      "outputs": [
        {
          "output_type": "stream",
          "text": [
            "0.4401792139503439\n",
            "0.44603095003677595\n",
            "0.010820207180360437\n",
            "\n",
            "0.6680857102313041\n",
            "0.6398467432950191\n",
            "0.04328082872144175\n"
          ],
          "name": "stdout"
        },
        {
          "output_type": "stream",
          "text": [
            "/usr/local/lib/python3.7/dist-packages/sklearn/metrics/_classification.py:1272: UndefinedMetricWarning: Precision is ill-defined and being set to 0.0 in labels with no predicted samples. Use `zero_division` parameter to control this behavior.\n",
            "  _warn_prf(average, modifier, msg_start, len(result))\n"
          ],
          "name": "stderr"
        }
      ]
    },
    {
      "cell_type": "code",
      "metadata": {
        "colab": {
          "base_uri": "https://localhost:8080/"
        },
        "id": "cHlS9hULg53-",
        "outputId": "e53b0afe-7e52-4731-a601-b637497e37c6"
      },
      "source": [
        "print(recall_score(y_test, y_pred_log_reg, average='macro'))\n",
        "print(recall_score(y_test, y_pred_knn, average='macro'))\n",
        "print(recall_score(y_test, y_pred_const, average='macro'))\n",
        "print()\n",
        "print(recall_score(y_test, y_pred_log_reg, average='micro'))\n",
        "print(recall_score(y_test, y_pred_knn, average='micro'))\n",
        "print(recall_score(y_test, y_pred_const, average='micro'))"
      ],
      "execution_count": 189,
      "outputs": [
        {
          "output_type": "stream",
          "text": [
            "0.3197828699741301\n",
            "0.3785486228267761\n",
            "0.25\n",
            "\n",
            "0.6680857102313041\n",
            "0.6398467432950191\n",
            "0.04328082872144175\n"
          ],
          "name": "stdout"
        }
      ]
    },
    {
      "cell_type": "code",
      "metadata": {
        "colab": {
          "base_uri": "https://localhost:8080/"
        },
        "id": "3YTskkn6g-qX",
        "outputId": "420f32fe-b25f-4580-ee4f-4cf5972f5dbc"
      },
      "source": [
        "print(f1_score(y_test, y_pred_log_reg, average='macro'))\n",
        "print(f1_score(y_test, y_pred_knn, average='macro'))\n",
        "print(f1_score(y_test, y_pred_const, average='macro'))\n",
        "print()\n",
        "print(f1_score(y_test, y_pred_log_reg, average='micro'))\n",
        "print(f1_score(y_test, y_pred_knn, average='micro'))\n",
        "print(f1_score(y_test, y_pred_const, average='micro'))"
      ],
      "execution_count": 190,
      "outputs": [
        {
          "output_type": "stream",
          "text": [
            "0.33196229215676093\n",
            "0.39999364226048745\n",
            "0.02074265505984766\n",
            "\n",
            "0.6680857102313041\n",
            "0.6398467432950191\n",
            "0.04328082872144175\n"
          ],
          "name": "stdout"
        }
      ]
    },
    {
      "cell_type": "markdown",
      "metadata": {
        "id": "QierLlbyOS3F"
      },
      "source": [
        "### (2 балла) Выберите метрику, которую вы хотите максимизировать. Переберите гиперпараметры, постарайтесь найти модель, которая максимизирует эту метрику.\n",
        "\n",
        "Обоснуйте свой выбор. Напишите красивый отчет с графиками. Добились ли вы результатов, которых хотели добиться для этого датасета?"
      ]
    },
    {
      "cell_type": "markdown",
      "metadata": {
        "id": "NYvlCgR8jVl3"
      },
      "source": [
        "Попробую улучшить f1 метрику, тк она универсальнаЮ содержит в себе характер остальных метрик. "
      ]
    },
    {
      "cell_type": "code",
      "metadata": {
        "id": "nOnA6fN-jTj8"
      },
      "source": [
        "X = df.drop(columns=['education', 'gender', 'age', 'avg_training_score'])\n",
        "y = df['education']\n",
        "\n",
        "X_train, X_test, y_train, y_test = train_test_split(X, y, test_size=0.3, random_state=42)\n",
        "\n",
        "log_reg = LogisticRegression(max_iter=10000)\n",
        "log_reg.fit(X_train, y_train)\n",
        "y_pred_proba_log_reg = log_reg.predict_proba(X_test)\n",
        "\n",
        "\n",
        "knn = KNeighborsClassifier(n_neighbors=5)\n",
        "knn.fit(X_train, y_train)\n",
        "y_pred_knn = knn.predict(X_test)\n",
        "\n",
        "y_pred_const = np.zeros(len(X_test)) \n",
        "y_pred_proba_const = y_pred_const"
      ],
      "execution_count": 195,
      "outputs": []
    },
    {
      "cell_type": "code",
      "metadata": {
        "id": "X42pS-xKOS3F",
        "colab": {
          "base_uri": "https://localhost:8080/"
        },
        "outputId": "1932f0bd-395a-4ecd-8a2f-6431220593c3"
      },
      "source": [
        "print(f1_score(y_test, y_pred_log_reg, average='micro'))\n",
        "print(f1_score(y_test, y_pred_knn, average='micro'))\n",
        "print(f1_score(y_test, y_pred_const, average='micro'))"
      ],
      "execution_count": 196,
      "outputs": [
        {
          "output_type": "stream",
          "text": [
            "0.6680857102313041\n",
            "0.6255144032921811\n",
            "0.04328082872144175\n"
          ],
          "name": "stdout"
        }
      ]
    },
    {
      "cell_type": "code",
      "metadata": {
        "id": "IPvjoqupOS3F"
      },
      "source": [
        ""
      ],
      "execution_count": null,
      "outputs": []
    },
    {
      "cell_type": "markdown",
      "metadata": {
        "id": "sdpL60JZkSOg"
      },
      "source": [
        "1)Гендер не сильно влияет\n",
        "\n",
        "0.6680857102313041\n",
        "\n",
        "0.643820065276004\n",
        "\n",
        "0.04328082872144175\n",
        "\n",
        "2) Возраст тоже\n",
        "\n",
        "0.6680857102313041\n",
        "\n",
        "0.6204058464594863\n",
        "\n",
        "0.04328082872144175\n",
        "\n",
        "3)Результаты тестирования то же\n",
        "\n",
        "0.6680857102313041\n",
        "\n",
        "0.6255144032921811\n",
        "\n",
        "0.04328082872144175\n",
        "\n",
        "..."
      ]
    },
    {
      "cell_type": "markdown",
      "metadata": {
        "id": "Gm7-f8JEk8ag"
      },
      "source": [
        "Как видно, то, что испытуемый не указал свой уровень образования не зависит от признаков выборки. Если и зависит, то некритично.\n",
        "\n",
        "Поэтому предсказывать этот параметр не имеет смысла."
      ]
    }
  ]
}